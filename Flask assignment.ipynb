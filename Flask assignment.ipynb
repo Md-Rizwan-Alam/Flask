{
 "cells": [
  {
   "cell_type": "markdown",
   "id": "390c5822-e419-48c7-b253-1f87689ea877",
   "metadata": {},
   "source": [
    "Question 1: What is a Web API?"
   ]
  },
  {
   "cell_type": "code",
   "execution_count": 41,
   "id": "fe2a8ba6-a57d-4d7b-b0e4-1a9ad1ac3c4c",
   "metadata": {},
   "outputs": [],
   "source": [
    "#Answer"
   ]
  },
  {
   "cell_type": "markdown",
   "id": "745395b4-9664-4a0f-9562-fdc5d1d1940c",
   "metadata": {},
   "source": [
    "A Web API (Application Programming Interface) is a set of rules and protocols for building and interacting with software applications. It allows different software systems to communicate over the internet using standard protocols such as HTTP. Web APIs expose endpoints that developers can use to access specific functionalities or data from a web server, enabling integration and interaction between different systems."
   ]
  },
  {
   "cell_type": "code",
   "execution_count": 33,
   "id": "492d55a5-2ee9-4d27-9ea1-cc7e46dd0a00",
   "metadata": {},
   "outputs": [],
   "source": [
    "from flask import Flask"
   ]
  },
  {
   "cell_type": "code",
   "execution_count": 35,
   "id": "b31d52c2-8d31-41a0-b019-286cd6adad52",
   "metadata": {},
   "outputs": [
    {
     "name": "stdout",
     "output_type": "stream",
     "text": [
      "Requirement already satisfied: Flask in /opt/anaconda3/lib/python3.12/site-packages (3.0.3)\n",
      "Requirement already satisfied: Werkzeug>=3.0.0 in /opt/anaconda3/lib/python3.12/site-packages (from Flask) (3.0.3)\n",
      "Requirement already satisfied: Jinja2>=3.1.2 in /opt/anaconda3/lib/python3.12/site-packages (from Flask) (3.1.4)\n",
      "Requirement already satisfied: itsdangerous>=2.1.2 in /opt/anaconda3/lib/python3.12/site-packages (from Flask) (2.2.0)\n",
      "Requirement already satisfied: click>=8.1.3 in /opt/anaconda3/lib/python3.12/site-packages (from Flask) (8.1.7)\n",
      "Requirement already satisfied: blinker>=1.6.2 in /opt/anaconda3/lib/python3.12/site-packages (from Flask) (1.6.2)\n",
      "Requirement already satisfied: MarkupSafe>=2.0 in /opt/anaconda3/lib/python3.12/site-packages (from Jinja2>=3.1.2->Flask) (2.1.3)\n",
      "Note: you may need to restart the kernel to use updated packages.\n"
     ]
    }
   ],
   "source": [
    "pip install Flask"
   ]
  },
  {
   "cell_type": "code",
   "execution_count": 37,
   "id": "e7a19605-7c6b-4a71-af8f-e9bbb741ba89",
   "metadata": {},
   "outputs": [
    {
     "name": "stdout",
     "output_type": "stream",
     "text": [
      " * Serving Flask app '__main__'\n",
      " * Debug mode: on\n"
     ]
    },
    {
     "name": "stderr",
     "output_type": "stream",
     "text": [
      "WARNING: This is a development server. Do not use it in a production deployment. Use a production WSGI server instead.\n",
      " * Running on http://127.0.0.1:5000\n",
      "Press CTRL+C to quit\n",
      " * Restarting with watchdog (fsevents)\n",
      "0.00s - Debugger warning: It seems that frozen modules are being used, which may\n",
      "0.00s - make the debugger miss breakpoints. Please pass -Xfrozen_modules=off\n",
      "0.00s - to python to disable frozen modules.\n",
      "0.00s - Note: Debugging will proceed. Set PYDEVD_DISABLE_FILE_VALIDATION=1 to disable this validation.\n",
      "Traceback (most recent call last):\n",
      "  File \"<frozen runpy>\", line 198, in _run_module_as_main\n",
      "  File \"<frozen runpy>\", line 88, in _run_code\n",
      "  File \"/opt/anaconda3/lib/python3.12/site-packages/ipykernel_launcher.py\", line 17, in <module>\n",
      "    app.launch_new_instance()\n",
      "  File \"/opt/anaconda3/lib/python3.12/site-packages/traitlets/config/application.py\", line 1074, in launch_instance\n",
      "    app.initialize(argv)\n",
      "  File \"/opt/anaconda3/lib/python3.12/site-packages/traitlets/config/application.py\", line 118, in inner\n",
      "    return method(app, *args, **kwargs)\n",
      "           ^^^^^^^^^^^^^^^^^^^^^^^^^^^^\n",
      "  File \"/opt/anaconda3/lib/python3.12/site-packages/ipykernel/kernelapp.py\", line 654, in initialize\n",
      "    self.init_sockets()\n",
      "  File \"/opt/anaconda3/lib/python3.12/site-packages/ipykernel/kernelapp.py\", line 331, in init_sockets\n",
      "    self.shell_port = self._bind_socket(self.shell_socket, self.shell_port)\n",
      "                      ^^^^^^^^^^^^^^^^^^^^^^^^^^^^^^^^^^^^^^^^^^^^^^^^^^^^^\n",
      "  File \"/opt/anaconda3/lib/python3.12/site-packages/ipykernel/kernelapp.py\", line 253, in _bind_socket\n",
      "    return self._try_bind_socket(s, port)\n",
      "           ^^^^^^^^^^^^^^^^^^^^^^^^^^^^^^\n",
      "  File \"/opt/anaconda3/lib/python3.12/site-packages/ipykernel/kernelapp.py\", line 229, in _try_bind_socket\n",
      "    s.bind(\"tcp://%s:%i\" % (self.ip, port))\n",
      "  File \"/opt/anaconda3/lib/python3.12/site-packages/zmq/sugar/socket.py\", line 302, in bind\n",
      "    super().bind(addr)\n",
      "  File \"zmq/backend/cython/socket.pyx\", line 564, in zmq.backend.cython.socket.Socket.bind\n",
      "  File \"zmq/backend/cython/checkrc.pxd\", line 28, in zmq.backend.cython.checkrc._check_rc\n",
      "zmq.error.ZMQError: Address already in use (addr='tcp://127.0.0.1:59477')\n"
     ]
    },
    {
     "ename": "SystemExit",
     "evalue": "1",
     "output_type": "error",
     "traceback": [
      "An exception has occurred, use %tb to see the full traceback.\n",
      "\u001b[0;31mSystemExit\u001b[0m\u001b[0;31m:\u001b[0m 1\n"
     ]
    }
   ],
   "source": [
    "from flask import Flask, jsonify\n",
    "\n",
    "app = Flask(__name__)\n",
    "\n",
    "@app.route('/api/greet', methods=['GET'])\n",
    "def greet():\n",
    "    return jsonify(message=\"Hello, welcome to our Web API!\")\n",
    "\n",
    "if __name__ == '__main__':\n",
    "    app.run(debug=True)\n"
   ]
  },
  {
   "cell_type": "code",
   "execution_count": null,
   "id": "bac590e9-a8b4-4558-96b9-a5de57e51a10",
   "metadata": {},
   "outputs": [],
   "source": []
  },
  {
   "cell_type": "markdown",
   "id": "1fe82046-6650-4308-91c9-e90d074e82da",
   "metadata": {},
   "source": [
    "Question 2: How does a Web API differ from a web service?"
   ]
  },
  {
   "cell_type": "code",
   "execution_count": 43,
   "id": "afa41549-03eb-4f1b-bc76-6b9a33985c99",
   "metadata": {},
   "outputs": [],
   "source": [
    "#Answer"
   ]
  },
  {
   "cell_type": "markdown",
   "id": "2bd24b44-5de7-4cf4-be50-2b82a6eef7ef",
   "metadata": {},
   "source": [
    "Web APIs and web services both facilitate communication between different systems, but they have key differences:\n",
    "\n",
    "Protocol:\n",
    "\n",
    "Web APIs can use any protocol, including HTTP, HTTPS, WebSockets, and more.\n",
    "Web Services typically use standard protocols like SOAP (Simple Object Access Protocol) and REST (Representational State Transfer).\n",
    "\n",
    "\n",
    "Format:\n",
    "\n",
    "Web APIs often use lightweight data formats like JSON (JavaScript Object Notation) or XML.\n",
    "Web Services using SOAP primarily use XML for messaging.\n",
    "\n",
    "\n",
    "Architecture:\n",
    "\n",
    "Web APIs can be RESTful, which means they follow REST principles, but not all Web APIs are RESTful.\n",
    "Web Services can be SOAP-based or RESTful.\n",
    "\n",
    "\n",
    "Flexibility:\n",
    "\n",
    "Web APIs offer more flexibility in terms of the protocols and data formats they can use.\n",
    "Web Services are more rigid in terms of their protocol and data format requirements."
   ]
  },
  {
   "cell_type": "markdown",
   "id": "21c748a3-435c-47ec-9ca0-a3a8317db9cb",
   "metadata": {},
   "source": [
    "python app.py"
   ]
  },
  {
   "cell_type": "code",
   "execution_count": null,
   "id": "78f6dc72-8b8c-454d-b4ac-f7084fdf31f7",
   "metadata": {},
   "outputs": [],
   "source": []
  },
  {
   "cell_type": "markdown",
   "id": "aca537a2-7b02-4088-9cb3-ee39ddd017de",
   "metadata": {},
   "source": [
    "Question 3: What are the benefits of using Web APIs in software development?"
   ]
  },
  {
   "cell_type": "code",
   "execution_count": 45,
   "id": "946cf5e6-f729-4a11-9397-2824f4137db3",
   "metadata": {},
   "outputs": [],
   "source": [
    "#Answer"
   ]
  },
  {
   "cell_type": "markdown",
   "id": "dd444049-7a7b-4fa3-9841-f93e830fdb08",
   "metadata": {},
   "source": [
    "Interoperability: Web APIs allow different systems and applications to communicate and share data, regardless of their underlying technologies.\n",
    "\n",
    "Scalability: Web APIs can be designed to handle high volumes of requests, making it easier to scale applications.\n",
    "\n",
    "Reusability: APIs enable developers to reuse existing functionalities and services in new applications, reducing development time and effort.\n",
    "\n",
    "Modularity: By breaking down functionalities into separate, reusable components, APIs promote a modular approach to software development.\n",
    "\n",
    "Automation: APIs can be used to automate repetitive tasks and processes, improving efficiency and reducing the risk of errors.\n",
    "\n",
    "Integration: APIs facilitate the integration of third-party services and applications, expanding the capabilities of an application.\n",
    "\n",
    "Security: APIs can include authentication and authorization mechanisms to ensure secure access to resources.\n"
   ]
  },
  {
   "cell_type": "code",
   "execution_count": 9,
   "id": "bd31ee7d-5b32-46a1-8431-52ab576860d3",
   "metadata": {},
   "outputs": [
    {
     "data": {
      "text/plain": [
       "{'message': 'Hello, welcome to our Web API!'}"
      ]
     },
     "execution_count": 9,
     "metadata": {},
     "output_type": "execute_result"
    }
   ],
   "source": [
    "{\n",
    "    \"message\": \"Hello, welcome to our Web API!\"\n",
    "}\n"
   ]
  },
  {
   "cell_type": "code",
   "execution_count": null,
   "id": "720cd82a-8ad4-4c38-8b83-810992d18195",
   "metadata": {},
   "outputs": [],
   "source": []
  },
  {
   "cell_type": "markdown",
   "id": "cb23272b-5594-4ee3-a0c2-9a564a421b00",
   "metadata": {},
   "source": [
    "Question 4: Explain the difference between SOAP and RESTful APIs."
   ]
  },
  {
   "cell_type": "code",
   "execution_count": 47,
   "id": "e13fa4fa-08b8-40f4-83fd-760b093df86c",
   "metadata": {},
   "outputs": [],
   "source": [
    "#Answer"
   ]
  },
  {
   "cell_type": "markdown",
   "id": "b2dc85fb-cb2c-468b-8ce7-6969fdfbd5b6",
   "metadata": {},
   "source": [
    "SOAP (Simple Object Access Protocol) APIs:\n",
    "\n",
    "Protocol: SOAP is a protocol that defines a strict set of rules and standards for message formatting and transmission.\n",
    "Message Format: SOAP messages are formatted in XML and include an envelope that defines the message structure, a header for optional information, and a body for the actual message.\n",
    "Transport: SOAP can operate over various protocols, including HTTP, SMTP, and more, but it is most commonly used with HTTP.\n",
    "Security: SOAP has built-in security features, such as WS-Security, which provides end-to-end security.\n",
    "Statefulness: SOAP can maintain state between requests, which can be useful for complex transactions.\n",
    "Standardization: SOAP is highly standardized and has extensive support for various technologies and protocols.\n",
    "RESTful (Representational State Transfer) APIs:\n",
    "\n",
    "Architecture: REST is an architectural style that uses a stateless, client-server communication model.\n",
    "Message Format: RESTful APIs often use lightweight formats such as JSON or XML for message exchange.\n",
    "Transport: RESTful APIs use standard HTTP methods (GET, POST, PUT, DELETE) for communication.\n",
    "Statelessness: RESTful APIs are stateless, meaning each request from the client to the server must contain all the information needed to understand and process the request.\n",
    "Scalability: RESTful APIs are highly scalable due to their stateless nature.\n",
    "Flexibility: RESTful APIs are more flexible and easier to use, as they are not tied to any specific protocol or message format."
   ]
  },
  {
   "cell_type": "code",
   "execution_count": null,
   "id": "35715d52-d909-4d4c-a1a8-346ac4eb26c0",
   "metadata": {},
   "outputs": [],
   "source": []
  },
  {
   "cell_type": "markdown",
   "id": "9aa94b60-58a7-4d6b-835d-8f1b91f7aba6",
   "metadata": {},
   "source": [
    "Question 5: What is JSON and how is it commonly used in Web APIs?"
   ]
  },
  {
   "cell_type": "code",
   "execution_count": 49,
   "id": "925afa96-0111-406e-a91d-eba1f6970b66",
   "metadata": {},
   "outputs": [],
   "source": [
    "#Answer"
   ]
  },
  {
   "cell_type": "markdown",
   "id": "269c5b12-3f84-46c9-a4e6-3193441d1998",
   "metadata": {},
   "source": [
    "JSON (JavaScript Object Notation):\n",
    "\n",
    "Definition: JSON is a lightweight data interchange format that is easy for humans to read and write and easy for machines to parse and generate.\n",
    "Syntax: JSON syntax is derived from JavaScript object notation, consisting of key-value pairs. Keys are strings, and values can be strings, numbers, arrays, objects, or booleans.\n",
    "Usage in Web APIs:\n",
    "Data Exchange: JSON is commonly used to exchange data between a client and a server in Web APIs. It is preferred because of its simplicity and ease of use.\n",
    "Serialization: JSON is used to serialize data structures or objects into a string format that can be transmitted over the network.\n",
    "Deserialization: On the receiving end, JSON is deserialized back into a data structure or object that the application can use.\n"
   ]
  },
  {
   "cell_type": "code",
   "execution_count": null,
   "id": "52f162b4-e6e9-4ed2-a5fd-86c7f1dea65d",
   "metadata": {},
   "outputs": [],
   "source": []
  },
  {
   "cell_type": "markdown",
   "id": "cb36ba49-89e4-45e3-b53d-a625987af6c9",
   "metadata": {},
   "source": [
    "Question 6: Can you name some popular Web API protocols other than REST?"
   ]
  },
  {
   "cell_type": "code",
   "execution_count": 51,
   "id": "94ee8d81-023a-438d-a53f-98591332e123",
   "metadata": {},
   "outputs": [],
   "source": [
    "#Answer"
   ]
  },
  {
   "cell_type": "markdown",
   "id": "88993b53-9cca-4cea-b1fd-0f03827c8b0e",
   "metadata": {},
   "source": [
    "SOAP (Simple Object Access Protocol): A protocol that uses XML for message formatting and relies on various lower-level protocols for message negotiation and transmission.\n",
    "GraphQL: A query language for APIs that allows clients to request exactly the data they need. It provides a more flexible and efficient way to interact with APIs.\n",
    "gRPC: A high-performance, open-source RPC framework that uses Protocol Buffers for data serialization and HTTP/2 for transport. It is developed by Google.\n",
    "OData (Open Data Protocol): A protocol for building and consuming RESTful APIs that allows for querying and updating data. It is standardized by OASIS.\n",
    "XML-RPC: A protocol that uses XML to encode its calls and HTTP as a transport mechanism. It is simpler and more lightweight than SOAP."
   ]
  },
  {
   "cell_type": "code",
   "execution_count": 14,
   "id": "238670c8-4c4a-47b8-bec2-17e5452d14fb",
   "metadata": {},
   "outputs": [
    {
     "name": "stdout",
     "output_type": "stream",
     "text": [
      " * Serving Flask app '__main__'\n",
      " * Debug mode: on\n"
     ]
    },
    {
     "name": "stderr",
     "output_type": "stream",
     "text": [
      "WARNING: This is a development server. Do not use it in a production deployment. Use a production WSGI server instead.\n",
      " * Running on http://127.0.0.1:5000\n",
      "Press CTRL+C to quit\n",
      " * Restarting with watchdog (fsevents)\n",
      "0.00s - Debugger warning: It seems that frozen modules are being used, which may\n",
      "0.00s - make the debugger miss breakpoints. Please pass -Xfrozen_modules=off\n",
      "0.00s - to python to disable frozen modules.\n",
      "0.00s - Note: Debugging will proceed. Set PYDEVD_DISABLE_FILE_VALIDATION=1 to disable this validation.\n",
      "Traceback (most recent call last):\n",
      "  File \"<frozen runpy>\", line 198, in _run_module_as_main\n",
      "  File \"<frozen runpy>\", line 88, in _run_code\n",
      "  File \"/opt/anaconda3/lib/python3.12/site-packages/ipykernel_launcher.py\", line 17, in <module>\n",
      "    app.launch_new_instance()\n",
      "  File \"/opt/anaconda3/lib/python3.12/site-packages/traitlets/config/application.py\", line 1074, in launch_instance\n",
      "    app.initialize(argv)\n",
      "  File \"/opt/anaconda3/lib/python3.12/site-packages/traitlets/config/application.py\", line 118, in inner\n",
      "    return method(app, *args, **kwargs)\n",
      "           ^^^^^^^^^^^^^^^^^^^^^^^^^^^^\n",
      "  File \"/opt/anaconda3/lib/python3.12/site-packages/ipykernel/kernelapp.py\", line 654, in initialize\n",
      "    self.init_sockets()\n",
      "  File \"/opt/anaconda3/lib/python3.12/site-packages/ipykernel/kernelapp.py\", line 331, in init_sockets\n",
      "    self.shell_port = self._bind_socket(self.shell_socket, self.shell_port)\n",
      "                      ^^^^^^^^^^^^^^^^^^^^^^^^^^^^^^^^^^^^^^^^^^^^^^^^^^^^^\n",
      "  File \"/opt/anaconda3/lib/python3.12/site-packages/ipykernel/kernelapp.py\", line 253, in _bind_socket\n",
      "    return self._try_bind_socket(s, port)\n",
      "           ^^^^^^^^^^^^^^^^^^^^^^^^^^^^^^\n",
      "  File \"/opt/anaconda3/lib/python3.12/site-packages/ipykernel/kernelapp.py\", line 229, in _try_bind_socket\n",
      "    s.bind(\"tcp://%s:%i\" % (self.ip, port))\n",
      "  File \"/opt/anaconda3/lib/python3.12/site-packages/zmq/sugar/socket.py\", line 302, in bind\n",
      "    super().bind(addr)\n",
      "  File \"zmq/backend/cython/socket.pyx\", line 564, in zmq.backend.cython.socket.Socket.bind\n",
      "  File \"zmq/backend/cython/checkrc.pxd\", line 28, in zmq.backend.cython.checkrc._check_rc\n",
      "zmq.error.ZMQError: Address already in use (addr='tcp://127.0.0.1:59477')\n"
     ]
    },
    {
     "ename": "SystemExit",
     "evalue": "1",
     "output_type": "error",
     "traceback": [
      "An exception has occurred, use %tb to see the full traceback.\n",
      "\u001b[0;31mSystemExit\u001b[0m\u001b[0;31m:\u001b[0m 1\n"
     ]
    }
   ],
   "source": [
    "from flask import Flask, jsonify, request\n",
    "\n",
    "app = Flask(__name__)\n",
    "\n",
    "# Sample data\n",
    "pets = [\n",
    "    {\"id\": 1, \"name\": \"Buddy\", \"type\": \"Dog\"},\n",
    "    {\"id\": 2, \"name\": \"Mittens\", \"type\": \"Cat\"},\n",
    "    {\"id\": 3, \"name\": \"Goldie\", \"type\": \"Fish\"}\n",
    "]\n",
    "\n",
    "@app.route('/')\n",
    "def home():\n",
    "    return \"Welcome to the Pet API!\"\n",
    "\n",
    "@app.route('/pets', methods=['GET'])\n",
    "def get_pets():\n",
    "    return jsonify(pets)\n",
    "\n",
    "@app.route('/pet/<int:pet_id>', methods=['GET'])\n",
    "def get_pet(pet_id):\n",
    "    pet = next((pet for pet in pets if pet['id'] == pet_id), None)\n",
    "    if pet:\n",
    "        return jsonify(pet)\n",
    "    else:\n",
    "        return jsonify({\"error\": \"Pet not found\"}), 404\n",
    "\n",
    "@app.route('/pet', methods=['POST'])\n",
    "def add_pet():\n",
    "    new_pet = request.get_json()\n",
    "    new_pet['id'] = len(pets) + 1\n",
    "    pets.append(new_pet)\n",
    "    return jsonify(new_pet), 201\n",
    "\n",
    "@app.route('/pet/<int:pet_id>', methods=['PUT'])\n",
    "def update_pet(pet_id):\n",
    "    pet = next((pet for pet in pets if pet['id'] == pet_id), None)\n",
    "    if pet:\n",
    "        data = request.get_json()\n",
    "        pet.update(data)\n",
    "        return jsonify(pet)\n",
    "    else:\n",
    "        return jsonify({\"error\": \"Pet not found\"}), 404\n",
    "\n",
    "@app.route('/pet/<int:pet_id>', methods=['DELETE'])\n",
    "def delete_pet(pet_id):\n",
    "    global pets\n",
    "    pets = [pet for pet in pets if pet['id'] != pet_id]\n",
    "    return '', 204\n",
    "\n",
    "if __name__ == '__main__':\n",
    "    app.run(debug=True)\n"
   ]
  },
  {
   "cell_type": "code",
   "execution_count": null,
   "id": "2740721c-a5c3-490f-ad3c-e8b8e903964d",
   "metadata": {},
   "outputs": [],
   "source": []
  },
  {
   "cell_type": "markdown",
   "id": "8768af4d-47dd-4767-8f51-d52459282905",
   "metadata": {},
   "source": [
    "Question 7: What role do HTTP methods (GET, POST, PUT, DELETE, etc.) play in Web API development?"
   ]
  },
  {
   "cell_type": "code",
   "execution_count": 53,
   "id": "c9fdd6a0-a4f0-42cc-bccc-c85e177bb210",
   "metadata": {},
   "outputs": [],
   "source": [
    "#Answer"
   ]
  },
  {
   "cell_type": "markdown",
   "id": "79ee025b-de74-4e49-b035-8ea628dbd99a",
   "metadata": {},
   "source": [
    "HTTP Methods:\n",
    "\n",
    "GET: Retrieves data from the server. It is a read-only operation and should not change the server state.\n",
    "POST: Sends data to the server to create a new resource. The server processes the request and usually returns the created resource or a confirmation.\n",
    "PUT: Updates an existing resource or creates a new resource if it does not exist. It is idempotent, meaning multiple identical requests should have the same effect as a single request.\n",
    "DELETE: Deletes a specified resource from the server.\n",
    "PATCH: Partially updates an existing resource.\n",
    "HEAD: Similar to GET but does not return the body, only the headers.\n",
    "OPTIONS: Describes the communication options for the target resource.\n"
   ]
  },
  {
   "cell_type": "code",
   "execution_count": 17,
   "id": "73fcf369-c2cc-46f0-8918-40178b636f0c",
   "metadata": {},
   "outputs": [
    {
     "name": "stdout",
     "output_type": "stream",
     "text": [
      " * Serving Flask app '__main__'\n",
      " * Debug mode: on\n"
     ]
    },
    {
     "name": "stderr",
     "output_type": "stream",
     "text": [
      "WARNING: This is a development server. Do not use it in a production deployment. Use a production WSGI server instead.\n",
      " * Running on http://127.0.0.1:5000\n",
      "Press CTRL+C to quit\n",
      " * Restarting with watchdog (fsevents)\n",
      "0.00s - Debugger warning: It seems that frozen modules are being used, which may\n",
      "0.00s - make the debugger miss breakpoints. Please pass -Xfrozen_modules=off\n",
      "0.00s - to python to disable frozen modules.\n",
      "0.00s - Note: Debugging will proceed. Set PYDEVD_DISABLE_FILE_VALIDATION=1 to disable this validation.\n",
      "Traceback (most recent call last):\n",
      "  File \"<frozen runpy>\", line 198, in _run_module_as_main\n",
      "  File \"<frozen runpy>\", line 88, in _run_code\n",
      "  File \"/opt/anaconda3/lib/python3.12/site-packages/ipykernel_launcher.py\", line 17, in <module>\n",
      "    app.launch_new_instance()\n",
      "  File \"/opt/anaconda3/lib/python3.12/site-packages/traitlets/config/application.py\", line 1074, in launch_instance\n",
      "    app.initialize(argv)\n",
      "  File \"/opt/anaconda3/lib/python3.12/site-packages/traitlets/config/application.py\", line 118, in inner\n",
      "    return method(app, *args, **kwargs)\n",
      "           ^^^^^^^^^^^^^^^^^^^^^^^^^^^^\n",
      "  File \"/opt/anaconda3/lib/python3.12/site-packages/ipykernel/kernelapp.py\", line 654, in initialize\n",
      "    self.init_sockets()\n",
      "  File \"/opt/anaconda3/lib/python3.12/site-packages/ipykernel/kernelapp.py\", line 331, in init_sockets\n",
      "    self.shell_port = self._bind_socket(self.shell_socket, self.shell_port)\n",
      "                      ^^^^^^^^^^^^^^^^^^^^^^^^^^^^^^^^^^^^^^^^^^^^^^^^^^^^^\n",
      "  File \"/opt/anaconda3/lib/python3.12/site-packages/ipykernel/kernelapp.py\", line 253, in _bind_socket\n",
      "    return self._try_bind_socket(s, port)\n",
      "           ^^^^^^^^^^^^^^^^^^^^^^^^^^^^^^\n",
      "  File \"/opt/anaconda3/lib/python3.12/site-packages/ipykernel/kernelapp.py\", line 229, in _try_bind_socket\n",
      "    s.bind(\"tcp://%s:%i\" % (self.ip, port))\n",
      "  File \"/opt/anaconda3/lib/python3.12/site-packages/zmq/sugar/socket.py\", line 302, in bind\n",
      "    super().bind(addr)\n",
      "  File \"zmq/backend/cython/socket.pyx\", line 564, in zmq.backend.cython.socket.Socket.bind\n",
      "  File \"zmq/backend/cython/checkrc.pxd\", line 28, in zmq.backend.cython.checkrc._check_rc\n",
      "zmq.error.ZMQError: Address already in use (addr='tcp://127.0.0.1:59477')\n"
     ]
    },
    {
     "ename": "SystemExit",
     "evalue": "1",
     "output_type": "error",
     "traceback": [
      "An exception has occurred, use %tb to see the full traceback.\n",
      "\u001b[0;31mSystemExit\u001b[0m\u001b[0;31m:\u001b[0m 1\n"
     ]
    }
   ],
   "source": [
    "from flask import Flask, jsonify, request\n",
    "\n",
    "app = Flask(__name__)\n",
    "\n",
    "# Sample data\n",
    "pets = [\n",
    "    {\"id\": 1, \"name\": \"Buddy\", \"type\": \"Dog\"},\n",
    "    {\"id\": 2, \"name\": \"Mittens\", \"type\": \"Cat\"},\n",
    "    {\"id\": 3, \"name\": \"Goldie\", \"type\": \"Fish\"}\n",
    "]\n",
    "\n",
    "@app.route('/pets', methods=['GET'])\n",
    "def get_pets():\n",
    "    return jsonify(pets)\n",
    "\n",
    "@app.route('/pet', methods=['POST'])\n",
    "def add_pet():\n",
    "    new_pet = request.get_json()\n",
    "    new_pet['id'] = len(pets) + 1\n",
    "    pets.append(new_pet)\n",
    "    return jsonify(new_pet), 201\n",
    "\n",
    "@app.route('/pet/<int:pet_id>', methods=['PUT'])\n",
    "def update_pet(pet_id):\n",
    "    pet = next((pet for pet in pets if pet['id'] == pet_id), None)\n",
    "    if pet:\n",
    "        data = request.get_json()\n",
    "        pet.update(data)\n",
    "        return jsonify(pet)\n",
    "    else:\n",
    "        return jsonify({\"error\": \"Pet not found\"}), 404\n",
    "\n",
    "@app.route('/pet/<int:pet_id>', methods=['DELETE'])\n",
    "def delete_pet(pet_id):\n",
    "    global pets\n",
    "    pets = [pet for pet in pets if pet['id'] != pet_id]\n",
    "    return '', 204\n",
    "\n",
    "if __name__ == '__main__':\n",
    "    app.run(debug=True)\n"
   ]
  },
  {
   "cell_type": "code",
   "execution_count": null,
   "id": "0a38257b-e6e5-4c83-a4c8-d4fcf33fb4ca",
   "metadata": {},
   "outputs": [],
   "source": []
  },
  {
   "cell_type": "markdown",
   "id": "9bf940d6-462f-45a7-89ff-08c934b41d43",
   "metadata": {},
   "source": [
    "Question 8: What is the purpose of authentication and authorization in Web APIs?"
   ]
  },
  {
   "cell_type": "code",
   "execution_count": 55,
   "id": "64be2e87-f736-47ba-98fa-9414b57e7ecd",
   "metadata": {},
   "outputs": [],
   "source": [
    "#Answer"
   ]
  },
  {
   "cell_type": "markdown",
   "id": "c450177e-6400-45ea-b295-89252178d9f1",
   "metadata": {},
   "source": [
    "Authentication: Verifies the identity of a user or client making the request. It ensures that the client is who they claim to be. Common methods include API keys, OAuth tokens, JWTs, and basic authentication.\n",
    "\n",
    "Authorization: Determines what resources or operations the authenticated user is allowed to access. It ensures the user has permission to perform the requested action."
   ]
  },
  {
   "cell_type": "code",
   "execution_count": null,
   "id": "f5ccb2d5-b871-444f-884c-6a14a6aef15a",
   "metadata": {},
   "outputs": [],
   "source": []
  },
  {
   "cell_type": "markdown",
   "id": "82f7f88d-998e-4bec-83f1-0a1fcaf54854",
   "metadata": {},
   "source": [
    "Question 9: How can you handle versioning in Web API development?"
   ]
  },
  {
   "cell_type": "code",
   "execution_count": 57,
   "id": "3f2e7238-836a-48dc-9c20-c1b0869be78c",
   "metadata": {},
   "outputs": [],
   "source": [
    "#Answer"
   ]
  },
  {
   "cell_type": "markdown",
   "id": "3ed934e4-82b4-4e21-89fb-52f26889a126",
   "metadata": {},
   "source": [
    "API Versioning: Ensures that changes to an API don't break existing clients. Common strategies include:\n",
    "\n",
    "URI Versioning: Including the version number in the URL path (e.g., /v1/pets).\n",
    "Query Parameter Versioning: Using a query parameter to specify the version (e.g., /pets?version=1).\n",
    "Header Versioning: Using custom headers to specify the version (e.g., Accept: application/vnd.example.v1+json)."
   ]
  },
  {
   "cell_type": "code",
   "execution_count": 23,
   "id": "1c606354-a377-4a6f-9220-5c76ef39e74a",
   "metadata": {},
   "outputs": [
    {
     "name": "stdout",
     "output_type": "stream",
     "text": [
      " * Serving Flask app '__main__'\n",
      " * Debug mode: on\n"
     ]
    },
    {
     "name": "stderr",
     "output_type": "stream",
     "text": [
      "WARNING: This is a development server. Do not use it in a production deployment. Use a production WSGI server instead.\n",
      " * Running on http://127.0.0.1:5000\n",
      "Press CTRL+C to quit\n",
      " * Restarting with watchdog (fsevents)\n",
      "0.00s - Debugger warning: It seems that frozen modules are being used, which may\n",
      "0.00s - make the debugger miss breakpoints. Please pass -Xfrozen_modules=off\n",
      "0.00s - to python to disable frozen modules.\n",
      "0.00s - Note: Debugging will proceed. Set PYDEVD_DISABLE_FILE_VALIDATION=1 to disable this validation.\n",
      "Traceback (most recent call last):\n",
      "  File \"<frozen runpy>\", line 198, in _run_module_as_main\n",
      "  File \"<frozen runpy>\", line 88, in _run_code\n",
      "  File \"/opt/anaconda3/lib/python3.12/site-packages/ipykernel_launcher.py\", line 17, in <module>\n",
      "    app.launch_new_instance()\n",
      "  File \"/opt/anaconda3/lib/python3.12/site-packages/traitlets/config/application.py\", line 1074, in launch_instance\n",
      "    app.initialize(argv)\n",
      "  File \"/opt/anaconda3/lib/python3.12/site-packages/traitlets/config/application.py\", line 118, in inner\n",
      "    return method(app, *args, **kwargs)\n",
      "           ^^^^^^^^^^^^^^^^^^^^^^^^^^^^\n",
      "  File \"/opt/anaconda3/lib/python3.12/site-packages/ipykernel/kernelapp.py\", line 654, in initialize\n",
      "    self.init_sockets()\n",
      "  File \"/opt/anaconda3/lib/python3.12/site-packages/ipykernel/kernelapp.py\", line 331, in init_sockets\n",
      "    self.shell_port = self._bind_socket(self.shell_socket, self.shell_port)\n",
      "                      ^^^^^^^^^^^^^^^^^^^^^^^^^^^^^^^^^^^^^^^^^^^^^^^^^^^^^\n",
      "  File \"/opt/anaconda3/lib/python3.12/site-packages/ipykernel/kernelapp.py\", line 253, in _bind_socket\n",
      "    return self._try_bind_socket(s, port)\n",
      "           ^^^^^^^^^^^^^^^^^^^^^^^^^^^^^^\n",
      "  File \"/opt/anaconda3/lib/python3.12/site-packages/ipykernel/kernelapp.py\", line 229, in _try_bind_socket\n",
      "    s.bind(\"tcp://%s:%i\" % (self.ip, port))\n",
      "  File \"/opt/anaconda3/lib/python3.12/site-packages/zmq/sugar/socket.py\", line 302, in bind\n",
      "    super().bind(addr)\n",
      "  File \"zmq/backend/cython/socket.pyx\", line 564, in zmq.backend.cython.socket.Socket.bind\n",
      "  File \"zmq/backend/cython/checkrc.pxd\", line 28, in zmq.backend.cython.checkrc._check_rc\n",
      "zmq.error.ZMQError: Address already in use (addr='tcp://127.0.0.1:59477')\n"
     ]
    },
    {
     "ename": "SystemExit",
     "evalue": "1",
     "output_type": "error",
     "traceback": [
      "An exception has occurred, use %tb to see the full traceback.\n",
      "\u001b[0;31mSystemExit\u001b[0m\u001b[0;31m:\u001b[0m 1\n"
     ]
    }
   ],
   "source": [
    "from flask import Flask, jsonify, request\n",
    "\n",
    "app = Flask(__name__)\n",
    "\n",
    "# Sample data\n",
    "pets_v1 = [\n",
    "    {\"id\": 1, \"name\": \"Buddy\", \"type\": \"Dog\"},\n",
    "    {\"id\": 2, \"name\": \"Mittens\", \"type\": \"Cat\"},\n",
    "    {\"id\": 3, \"name\": \"Goldie\", \"type\": \"Fish\"}\n",
    "]\n",
    "\n",
    "pets_v2 = [\n",
    "    {\"id\": 1, \"name\": \"Buddy\", \"species\": \"Dog\"},\n",
    "    {\"id\": 2, \"name\": \"Mittens\", \"species\": \"Cat\"},\n",
    "    {\"id\": 3, \"name\": \"Goldie\", \"species\": \"Fish\"}\n",
    "]\n",
    "\n",
    "@app.route('/v1/pets', methods=['GET'])\n",
    "def get_pets_v1():\n",
    "    return jsonify(pets_v1)\n",
    "\n",
    "@app.route('/v2/pets', methods=['GET'])\n",
    "def get_pets_v2():\n",
    "    return jsonify(pets_v2)\n",
    "\n",
    "if __name__ == '__main__':\n",
    "    app.run(debug=True)\n"
   ]
  },
  {
   "cell_type": "code",
   "execution_count": null,
   "id": "8235c81e-3551-47c6-aacf-646a6eb6d972",
   "metadata": {},
   "outputs": [],
   "source": []
  },
  {
   "cell_type": "markdown",
   "id": "cb66f924-0606-441e-921e-6ab3043be1e2",
   "metadata": {},
   "source": [
    "Question 10: What are the main components of an HTTP request and response in the context of Web APIs?"
   ]
  },
  {
   "cell_type": "code",
   "execution_count": 59,
   "id": "7f296c82-8076-4b44-8301-03729d48e2f2",
   "metadata": {},
   "outputs": [],
   "source": [
    "#Answer"
   ]
  },
  {
   "cell_type": "markdown",
   "id": "9bddee18-5683-48d5-8151-3ce4aef65135",
   "metadata": {},
   "source": [
    "HTTP Request Components:\n",
    "\n",
    "Request Line: Contains the HTTP method, URI, and HTTP version (e.g., GET /pets HTTP/1.1).\n",
    "Headers: Key-value pairs providing metadata about the request (e.g., Content-Type: application/json).\n",
    "Body: Optional; contains data sent to the server (e.g., JSON payload for POST/PUT requests).\n",
    "\n",
    "\n",
    "HTTP Response Components:\n",
    "\n",
    "Status Line: Contains the HTTP version, status code, and status message (e.g., HTTP/1.1 200 OK).\n",
    "Headers: Key-value pairs providing metadata about the response (e.g., Content-Type: application/json).\n",
    "Body: Optional; contains data sent back to the client (e.g., JSON data)."
   ]
  },
  {
   "cell_type": "code",
   "execution_count": 27,
   "id": "d26922df-9cde-492b-ac1e-df0859edf881",
   "metadata": {},
   "outputs": [
    {
     "name": "stdout",
     "output_type": "stream",
     "text": [
      " * Serving Flask app '__main__'\n",
      " * Debug mode: on\n"
     ]
    },
    {
     "name": "stderr",
     "output_type": "stream",
     "text": [
      "WARNING: This is a development server. Do not use it in a production deployment. Use a production WSGI server instead.\n",
      " * Running on http://127.0.0.1:5000\n",
      "Press CTRL+C to quit\n",
      " * Restarting with watchdog (fsevents)\n",
      "0.01s - Debugger warning: It seems that frozen modules are being used, which may\n",
      "0.00s - make the debugger miss breakpoints. Please pass -Xfrozen_modules=off\n",
      "0.00s - to python to disable frozen modules.\n",
      "0.00s - Note: Debugging will proceed. Set PYDEVD_DISABLE_FILE_VALIDATION=1 to disable this validation.\n",
      "Traceback (most recent call last):\n",
      "  File \"<frozen runpy>\", line 198, in _run_module_as_main\n",
      "  File \"<frozen runpy>\", line 88, in _run_code\n",
      "  File \"/opt/anaconda3/lib/python3.12/site-packages/ipykernel_launcher.py\", line 17, in <module>\n",
      "    app.launch_new_instance()\n",
      "  File \"/opt/anaconda3/lib/python3.12/site-packages/traitlets/config/application.py\", line 1074, in launch_instance\n",
      "    app.initialize(argv)\n",
      "  File \"/opt/anaconda3/lib/python3.12/site-packages/traitlets/config/application.py\", line 118, in inner\n",
      "    return method(app, *args, **kwargs)\n",
      "           ^^^^^^^^^^^^^^^^^^^^^^^^^^^^\n",
      "  File \"/opt/anaconda3/lib/python3.12/site-packages/ipykernel/kernelapp.py\", line 654, in initialize\n",
      "    self.init_sockets()\n",
      "  File \"/opt/anaconda3/lib/python3.12/site-packages/ipykernel/kernelapp.py\", line 331, in init_sockets\n",
      "    self.shell_port = self._bind_socket(self.shell_socket, self.shell_port)\n",
      "                      ^^^^^^^^^^^^^^^^^^^^^^^^^^^^^^^^^^^^^^^^^^^^^^^^^^^^^\n",
      "  File \"/opt/anaconda3/lib/python3.12/site-packages/ipykernel/kernelapp.py\", line 253, in _bind_socket\n",
      "    return self._try_bind_socket(s, port)\n",
      "           ^^^^^^^^^^^^^^^^^^^^^^^^^^^^^^\n",
      "  File \"/opt/anaconda3/lib/python3.12/site-packages/ipykernel/kernelapp.py\", line 229, in _try_bind_socket\n",
      "    s.bind(\"tcp://%s:%i\" % (self.ip, port))\n",
      "  File \"/opt/anaconda3/lib/python3.12/site-packages/zmq/sugar/socket.py\", line 302, in bind\n",
      "    super().bind(addr)\n",
      "  File \"zmq/backend/cython/socket.pyx\", line 564, in zmq.backend.cython.socket.Socket.bind\n",
      "  File \"zmq/backend/cython/checkrc.pxd\", line 28, in zmq.backend.cython.checkrc._check_rc\n",
      "zmq.error.ZMQError: Address already in use (addr='tcp://127.0.0.1:59477')\n"
     ]
    },
    {
     "ename": "SystemExit",
     "evalue": "1",
     "output_type": "error",
     "traceback": [
      "An exception has occurred, use %tb to see the full traceback.\n",
      "\u001b[0;31mSystemExit\u001b[0m\u001b[0;31m:\u001b[0m 1\n"
     ]
    }
   ],
   "source": [
    "from flask import Flask, jsonify, request\n",
    "\n",
    "app = Flask(__name__)\n",
    "\n",
    "# Sample data\n",
    "pets = [\n",
    "    {\"id\": 1, \"name\": \"Buddy\", \"type\": \"Dog\"},\n",
    "    {\"id\": 2, \"name\": \"Mittens\", \"type\": \"Cat\"},\n",
    "    {\"id\": 3, \"name\": \"Goldie\", \"type\": \"Fish\"}\n",
    "]\n",
    "\n",
    "@app.route('/pets', methods=['GET'])\n",
    "def get_pets():\n",
    "    return jsonify(pets), 200, {'Custom-Header': 'Value'}\n",
    "\n",
    "@app.route('/pet', methods=['POST'])\n",
    "def add_pet():\n",
    "    new_pet = request.get_json()\n",
    "    new_pet['id'] = len(pets) + 1\n",
    "    pets.append(new_pet)\n",
    "    response = jsonify(new_pet)\n",
    "    response.status_code = 201\n",
    "    response.headers['Location'] = f\"/pet/{new_pet['id']}\"\n",
    "    return response\n",
    "\n",
    "if __name__ == '__main__':\n",
    "    app.run(debug=True)\n"
   ]
  },
  {
   "cell_type": "code",
   "execution_count": null,
   "id": "c69ec283-a0fa-48d6-a05a-a6628f2b4737",
   "metadata": {},
   "outputs": [],
   "source": []
  },
  {
   "cell_type": "markdown",
   "id": "ca5d12d3-69ca-4088-9acb-d481dc6000e6",
   "metadata": {},
   "source": [
    "Question 11: Describe the concept of rate limiting in the context of Web APIs."
   ]
  },
  {
   "cell_type": "code",
   "execution_count": 61,
   "id": "313e0eb2-77e0-4262-864e-e076c5ca1228",
   "metadata": {},
   "outputs": [],
   "source": [
    "#Answer"
   ]
  },
  {
   "cell_type": "markdown",
   "id": "e5536a74-365b-45a9-87f4-5d0903c14a0b",
   "metadata": {},
   "source": [
    "Rate Limiting:\n",
    "Rate limiting is a technique used to control the number of requests a client can make to a Web API within a specified time period. It helps to prevent abuse, ensure fair usage, and protect the server from being overwhelmed by too many requests. Rate limits can be implemented based on various criteria, such as the client's IP address, API key, or user account.\n"
   ]
  },
  {
   "cell_type": "markdown",
   "id": "266a3cf1-1903-4490-9d3b-5538f8af8a32",
   "metadata": {},
   "source": [
    "Example:\n",
    "Let's implement basic rate limiting in a Flask application using the flask-limiter extension."
   ]
  },
  {
   "cell_type": "code",
   "execution_count": 41,
   "id": "f4b84a9c-9a69-4715-af81-ce5076853150",
   "metadata": {},
   "outputs": [
    {
     "name": "stdout",
     "output_type": "stream",
     "text": [
      "Requirement already satisfied: Flask in /opt/anaconda3/lib/python3.12/site-packages (3.0.3)\n",
      "Collecting flask-limiter\n",
      "  Downloading Flask_Limiter-3.8.0-py3-none-any.whl.metadata (6.1 kB)\n",
      "Requirement already satisfied: Werkzeug>=3.0.0 in /opt/anaconda3/lib/python3.12/site-packages (from Flask) (3.0.3)\n",
      "Requirement already satisfied: Jinja2>=3.1.2 in /opt/anaconda3/lib/python3.12/site-packages (from Flask) (3.1.4)\n",
      "Requirement already satisfied: itsdangerous>=2.1.2 in /opt/anaconda3/lib/python3.12/site-packages (from Flask) (2.2.0)\n",
      "Requirement already satisfied: click>=8.1.3 in /opt/anaconda3/lib/python3.12/site-packages (from Flask) (8.1.7)\n",
      "Requirement already satisfied: blinker>=1.6.2 in /opt/anaconda3/lib/python3.12/site-packages (from Flask) (1.6.2)\n",
      "Collecting limits>=3.13 (from flask-limiter)\n",
      "  Downloading limits-3.13.0-py3-none-any.whl.metadata (7.2 kB)\n",
      "Collecting ordered-set<5,>4 (from flask-limiter)\n",
      "  Downloading ordered_set-4.1.0-py3-none-any.whl.metadata (5.3 kB)\n",
      "Requirement already satisfied: rich<14,>=12 in /opt/anaconda3/lib/python3.12/site-packages (from flask-limiter) (13.3.5)\n",
      "Requirement already satisfied: typing-extensions>=4 in /opt/anaconda3/lib/python3.12/site-packages (from flask-limiter) (4.11.0)\n",
      "Requirement already satisfied: MarkupSafe>=2.0 in /opt/anaconda3/lib/python3.12/site-packages (from Jinja2>=3.1.2->Flask) (2.1.3)\n",
      "Collecting deprecated>=1.2 (from limits>=3.13->flask-limiter)\n",
      "  Downloading Deprecated-1.2.14-py2.py3-none-any.whl.metadata (5.4 kB)\n",
      "Collecting importlib-resources>=1.3 (from limits>=3.13->flask-limiter)\n",
      "  Downloading importlib_resources-6.4.0-py3-none-any.whl.metadata (3.9 kB)\n",
      "Requirement already satisfied: packaging<25,>=21 in /opt/anaconda3/lib/python3.12/site-packages (from limits>=3.13->flask-limiter) (23.2)\n",
      "Requirement already satisfied: markdown-it-py<3.0.0,>=2.2.0 in /opt/anaconda3/lib/python3.12/site-packages (from rich<14,>=12->flask-limiter) (2.2.0)\n",
      "Requirement already satisfied: pygments<3.0.0,>=2.13.0 in /opt/anaconda3/lib/python3.12/site-packages (from rich<14,>=12->flask-limiter) (2.15.1)\n",
      "Requirement already satisfied: wrapt<2,>=1.10 in /opt/anaconda3/lib/python3.12/site-packages (from deprecated>=1.2->limits>=3.13->flask-limiter) (1.14.1)\n",
      "Requirement already satisfied: mdurl~=0.1 in /opt/anaconda3/lib/python3.12/site-packages (from markdown-it-py<3.0.0,>=2.2.0->rich<14,>=12->flask-limiter) (0.1.0)\n",
      "Downloading Flask_Limiter-3.8.0-py3-none-any.whl (28 kB)\n",
      "Downloading limits-3.13.0-py3-none-any.whl (45 kB)\n",
      "\u001b[2K   \u001b[90m━━━━━━━━━━━━━━━━━━━━━━━━━━━━━━━━━━━━━━━━\u001b[0m \u001b[32m45.5/45.5 kB\u001b[0m \u001b[31m3.0 MB/s\u001b[0m eta \u001b[36m0:00:00\u001b[0m\n",
      "\u001b[?25hDownloading ordered_set-4.1.0-py3-none-any.whl (7.6 kB)\n",
      "Downloading Deprecated-1.2.14-py2.py3-none-any.whl (9.6 kB)\n",
      "Downloading importlib_resources-6.4.0-py3-none-any.whl (38 kB)\n",
      "Installing collected packages: ordered-set, importlib-resources, deprecated, limits, flask-limiter\n",
      "Successfully installed deprecated-1.2.14 flask-limiter-3.8.0 importlib-resources-6.4.0 limits-3.13.0 ordered-set-4.1.0\n",
      "Note: you may need to restart the kernel to use updated packages.\n"
     ]
    }
   ],
   "source": [
    "pip install Flask flask-limiter"
   ]
  },
  {
   "cell_type": "code",
   "execution_count": 43,
   "id": "6c1bcc8f-9cea-423e-a481-8013c626616e",
   "metadata": {},
   "outputs": [
    {
     "name": "stdout",
     "output_type": "stream",
     "text": [
      " * Serving Flask app '__main__'\n",
      " * Debug mode: on\n"
     ]
    },
    {
     "name": "stderr",
     "output_type": "stream",
     "text": [
      "/opt/anaconda3/lib/python3.12/site-packages/flask_limiter/extension.py:333: UserWarning: Using the in-memory storage for tracking rate limits as no storage was explicitly specified. This is not recommended for production use. See: https://flask-limiter.readthedocs.io#configuring-a-storage-backend for documentation about configuring the storage backend.\n",
      "  warnings.warn(\n",
      "WARNING: This is a development server. Do not use it in a production deployment. Use a production WSGI server instead.\n",
      " * Running on http://127.0.0.1:5000\n",
      "Press CTRL+C to quit\n",
      " * Restarting with watchdog (fsevents)\n",
      "0.00s - Debugger warning: It seems that frozen modules are being used, which may\n",
      "0.00s - make the debugger miss breakpoints. Please pass -Xfrozen_modules=off\n",
      "0.00s - to python to disable frozen modules.\n",
      "0.00s - Note: Debugging will proceed. Set PYDEVD_DISABLE_FILE_VALIDATION=1 to disable this validation.\n",
      "Traceback (most recent call last):\n",
      "  File \"<frozen runpy>\", line 198, in _run_module_as_main\n",
      "  File \"<frozen runpy>\", line 88, in _run_code\n",
      "  File \"/opt/anaconda3/lib/python3.12/site-packages/ipykernel_launcher.py\", line 17, in <module>\n",
      "    app.launch_new_instance()\n",
      "  File \"/opt/anaconda3/lib/python3.12/site-packages/traitlets/config/application.py\", line 1074, in launch_instance\n",
      "    app.initialize(argv)\n",
      "  File \"/opt/anaconda3/lib/python3.12/site-packages/traitlets/config/application.py\", line 118, in inner\n",
      "    return method(app, *args, **kwargs)\n",
      "           ^^^^^^^^^^^^^^^^^^^^^^^^^^^^\n",
      "  File \"/opt/anaconda3/lib/python3.12/site-packages/ipykernel/kernelapp.py\", line 654, in initialize\n",
      "    self.init_sockets()\n",
      "  File \"/opt/anaconda3/lib/python3.12/site-packages/ipykernel/kernelapp.py\", line 331, in init_sockets\n",
      "    self.shell_port = self._bind_socket(self.shell_socket, self.shell_port)\n",
      "                      ^^^^^^^^^^^^^^^^^^^^^^^^^^^^^^^^^^^^^^^^^^^^^^^^^^^^^\n",
      "  File \"/opt/anaconda3/lib/python3.12/site-packages/ipykernel/kernelapp.py\", line 253, in _bind_socket\n",
      "    return self._try_bind_socket(s, port)\n",
      "           ^^^^^^^^^^^^^^^^^^^^^^^^^^^^^^\n",
      "  File \"/opt/anaconda3/lib/python3.12/site-packages/ipykernel/kernelapp.py\", line 229, in _try_bind_socket\n",
      "    s.bind(\"tcp://%s:%i\" % (self.ip, port))\n",
      "  File \"/opt/anaconda3/lib/python3.12/site-packages/zmq/sugar/socket.py\", line 302, in bind\n",
      "    super().bind(addr)\n",
      "  File \"zmq/backend/cython/socket.pyx\", line 564, in zmq.backend.cython.socket.Socket.bind\n",
      "  File \"zmq/backend/cython/checkrc.pxd\", line 28, in zmq.backend.cython.checkrc._check_rc\n",
      "zmq.error.ZMQError: Address already in use (addr='tcp://127.0.0.1:59477')\n"
     ]
    },
    {
     "ename": "SystemExit",
     "evalue": "1",
     "output_type": "error",
     "traceback": [
      "An exception has occurred, use %tb to see the full traceback.\n",
      "\u001b[0;31mSystemExit\u001b[0m\u001b[0;31m:\u001b[0m 1\n"
     ]
    }
   ],
   "source": [
    "from flask import Flask, jsonify\n",
    "from flask_limiter import Limiter\n",
    "from flask_limiter.util import get_remote_address\n",
    "\n",
    "app = Flask(__name__)\n",
    "limiter = Limiter(\n",
    "    get_remote_address,\n",
    "    app=app,\n",
    "    default_limits=[\"5 per minute\"]\n",
    ")\n",
    "\n",
    "@app.route('/api/resource', methods=['GET'])\n",
    "@limiter.limit(\"5 per minute\")\n",
    "def limited_resource():\n",
    "    return jsonify(message=\"This is a rate-limited resource.\")\n",
    "\n",
    "if __name__ == '__main__':\n",
    "    app.run(debug=True)\n"
   ]
  },
  {
   "cell_type": "markdown",
   "id": "552874f3-8f66-4c45-8022-81c31238e244",
   "metadata": {},
   "source": [
    "Navigate to http://127.0.0.1:5000/api/resource"
   ]
  },
  {
   "cell_type": "code",
   "execution_count": null,
   "id": "c2d0ca0f-4f5c-4479-b131-5882c79ec84a",
   "metadata": {},
   "outputs": [],
   "source": []
  },
  {
   "cell_type": "markdown",
   "id": "94463a51-da28-419c-9122-aea6dd54a04b",
   "metadata": {},
   "source": [
    "Question 12: How can you handle errors and exceptions in Web API responses?"
   ]
  },
  {
   "cell_type": "code",
   "execution_count": 63,
   "id": "ca64f002-2c22-41f2-b003-c198ba6ccb55",
   "metadata": {},
   "outputs": [],
   "source": [
    "#Answer"
   ]
  },
  {
   "cell_type": "markdown",
   "id": "0a714395-658d-44fb-bd3c-671332bc66cf",
   "metadata": {},
   "source": [
    "Error Handling:\n",
    "Proper error handling in Web APIs involves returning informative and appropriate error messages when something goes wrong. This helps clients understand the issue and take corrective actions. Flask provides mechanisms to handle errors and exceptions gracefully."
   ]
  },
  {
   "cell_type": "code",
   "execution_count": 49,
   "id": "82072a98-ea5a-49a7-b607-363fc6655f59",
   "metadata": {},
   "outputs": [
    {
     "name": "stdout",
     "output_type": "stream",
     "text": [
      " * Serving Flask app '__main__'\n",
      " * Debug mode: on\n"
     ]
    },
    {
     "name": "stderr",
     "output_type": "stream",
     "text": [
      "WARNING: This is a development server. Do not use it in a production deployment. Use a production WSGI server instead.\n",
      " * Running on http://127.0.0.1:5000\n",
      "Press CTRL+C to quit\n",
      " * Restarting with watchdog (fsevents)\n",
      "0.00s - Debugger warning: It seems that frozen modules are being used, which may\n",
      "0.00s - make the debugger miss breakpoints. Please pass -Xfrozen_modules=off\n",
      "0.00s - to python to disable frozen modules.\n",
      "0.00s - Note: Debugging will proceed. Set PYDEVD_DISABLE_FILE_VALIDATION=1 to disable this validation.\n",
      "Traceback (most recent call last):\n",
      "  File \"<frozen runpy>\", line 198, in _run_module_as_main\n",
      "  File \"<frozen runpy>\", line 88, in _run_code\n",
      "  File \"/opt/anaconda3/lib/python3.12/site-packages/ipykernel_launcher.py\", line 17, in <module>\n",
      "    app.launch_new_instance()\n",
      "  File \"/opt/anaconda3/lib/python3.12/site-packages/traitlets/config/application.py\", line 1074, in launch_instance\n",
      "    app.initialize(argv)\n",
      "  File \"/opt/anaconda3/lib/python3.12/site-packages/traitlets/config/application.py\", line 118, in inner\n",
      "    return method(app, *args, **kwargs)\n",
      "           ^^^^^^^^^^^^^^^^^^^^^^^^^^^^\n",
      "  File \"/opt/anaconda3/lib/python3.12/site-packages/ipykernel/kernelapp.py\", line 654, in initialize\n",
      "    self.init_sockets()\n",
      "  File \"/opt/anaconda3/lib/python3.12/site-packages/ipykernel/kernelapp.py\", line 331, in init_sockets\n",
      "    self.shell_port = self._bind_socket(self.shell_socket, self.shell_port)\n",
      "                      ^^^^^^^^^^^^^^^^^^^^^^^^^^^^^^^^^^^^^^^^^^^^^^^^^^^^^\n",
      "  File \"/opt/anaconda3/lib/python3.12/site-packages/ipykernel/kernelapp.py\", line 253, in _bind_socket\n",
      "    return self._try_bind_socket(s, port)\n",
      "           ^^^^^^^^^^^^^^^^^^^^^^^^^^^^^^\n",
      "  File \"/opt/anaconda3/lib/python3.12/site-packages/ipykernel/kernelapp.py\", line 229, in _try_bind_socket\n",
      "    s.bind(\"tcp://%s:%i\" % (self.ip, port))\n",
      "  File \"/opt/anaconda3/lib/python3.12/site-packages/zmq/sugar/socket.py\", line 302, in bind\n",
      "    super().bind(addr)\n",
      "  File \"zmq/backend/cython/socket.pyx\", line 564, in zmq.backend.cython.socket.Socket.bind\n",
      "  File \"zmq/backend/cython/checkrc.pxd\", line 28, in zmq.backend.cython.checkrc._check_rc\n",
      "zmq.error.ZMQError: Address already in use (addr='tcp://127.0.0.1:59477')\n"
     ]
    },
    {
     "ename": "SystemExit",
     "evalue": "1",
     "output_type": "error",
     "traceback": [
      "An exception has occurred, use %tb to see the full traceback.\n",
      "\u001b[0;31mSystemExit\u001b[0m\u001b[0;31m:\u001b[0m 1\n"
     ]
    }
   ],
   "source": [
    "from flask import Flask, jsonify, request\n",
    "\n",
    "app = Flask(__name__)\n",
    "\n",
    "@app.errorhandler(404)\n",
    "def not_found(error):\n",
    "    return jsonify(error=\"Resource not found\"), 404\n",
    "\n",
    "@app.errorhandler(400)\n",
    "def bad_request(error):\n",
    "    return jsonify(error=\"Bad request\"), 400\n",
    "\n",
    "@app.errorhandler(500)\n",
    "def internal_error(error):\n",
    "    return jsonify(error=\"Internal server error\"), 500\n",
    "\n",
    "@app.route('/api/resource', methods=['GET'])\n",
    "def resource():\n",
    "    if not request.args.get('param'):\n",
    "        return jsonify(error=\"Missing 'param' parameter\"), 400\n",
    "    return jsonify(message=\"This is a valid request.\")\n",
    "\n",
    "if __name__ == '__main__':\n",
    "    app.run(debug=True)\n"
   ]
  },
  {
   "cell_type": "code",
   "execution_count": null,
   "id": "5725604c-725d-41a4-ae1d-afa9660647c5",
   "metadata": {},
   "outputs": [],
   "source": []
  },
  {
   "cell_type": "markdown",
   "id": "913332f4-60cf-4668-add3-c9023f9b3b06",
   "metadata": {},
   "source": [
    "Question 13: Explain the concept of statelessness in RESTful Web APIs."
   ]
  },
  {
   "cell_type": "code",
   "execution_count": 65,
   "id": "7d500ef2-1806-4afe-ade0-d6bb7704f433",
   "metadata": {},
   "outputs": [],
   "source": [
    "#Answer"
   ]
  },
  {
   "cell_type": "markdown",
   "id": "3d2a4b06-b96c-404e-a6b4-36511381e957",
   "metadata": {},
   "source": [
    "Statelessness:\n",
    "In RESTful Web APIs, statelessness means that each request from a client to the server must contain all the information needed to understand and process the request. The server does not store any client context between requests. This principle simplifies the server design and improves scalability."
   ]
  },
  {
   "cell_type": "code",
   "execution_count": 52,
   "id": "502fc471-2c47-4532-a796-1a40076dcc17",
   "metadata": {},
   "outputs": [
    {
     "name": "stdout",
     "output_type": "stream",
     "text": [
      " * Serving Flask app '__main__'\n",
      " * Debug mode: on\n"
     ]
    },
    {
     "name": "stderr",
     "output_type": "stream",
     "text": [
      "WARNING: This is a development server. Do not use it in a production deployment. Use a production WSGI server instead.\n",
      " * Running on http://127.0.0.1:5000\n",
      "Press CTRL+C to quit\n",
      " * Restarting with watchdog (fsevents)\n",
      "0.00s - Debugger warning: It seems that frozen modules are being used, which may\n",
      "0.00s - make the debugger miss breakpoints. Please pass -Xfrozen_modules=off\n",
      "0.00s - to python to disable frozen modules.\n",
      "0.00s - Note: Debugging will proceed. Set PYDEVD_DISABLE_FILE_VALIDATION=1 to disable this validation.\n",
      "Traceback (most recent call last):\n",
      "  File \"<frozen runpy>\", line 198, in _run_module_as_main\n",
      "  File \"<frozen runpy>\", line 88, in _run_code\n",
      "  File \"/opt/anaconda3/lib/python3.12/site-packages/ipykernel_launcher.py\", line 17, in <module>\n",
      "    app.launch_new_instance()\n",
      "  File \"/opt/anaconda3/lib/python3.12/site-packages/traitlets/config/application.py\", line 1074, in launch_instance\n",
      "    app.initialize(argv)\n",
      "  File \"/opt/anaconda3/lib/python3.12/site-packages/traitlets/config/application.py\", line 118, in inner\n",
      "    return method(app, *args, **kwargs)\n",
      "           ^^^^^^^^^^^^^^^^^^^^^^^^^^^^\n",
      "  File \"/opt/anaconda3/lib/python3.12/site-packages/ipykernel/kernelapp.py\", line 654, in initialize\n",
      "    self.init_sockets()\n",
      "  File \"/opt/anaconda3/lib/python3.12/site-packages/ipykernel/kernelapp.py\", line 331, in init_sockets\n",
      "    self.shell_port = self._bind_socket(self.shell_socket, self.shell_port)\n",
      "                      ^^^^^^^^^^^^^^^^^^^^^^^^^^^^^^^^^^^^^^^^^^^^^^^^^^^^^\n",
      "  File \"/opt/anaconda3/lib/python3.12/site-packages/ipykernel/kernelapp.py\", line 253, in _bind_socket\n",
      "    return self._try_bind_socket(s, port)\n",
      "           ^^^^^^^^^^^^^^^^^^^^^^^^^^^^^^\n",
      "  File \"/opt/anaconda3/lib/python3.12/site-packages/ipykernel/kernelapp.py\", line 229, in _try_bind_socket\n",
      "    s.bind(\"tcp://%s:%i\" % (self.ip, port))\n",
      "  File \"/opt/anaconda3/lib/python3.12/site-packages/zmq/sugar/socket.py\", line 302, in bind\n",
      "    super().bind(addr)\n",
      "  File \"zmq/backend/cython/socket.pyx\", line 564, in zmq.backend.cython.socket.Socket.bind\n",
      "  File \"zmq/backend/cython/checkrc.pxd\", line 28, in zmq.backend.cython.checkrc._check_rc\n",
      "zmq.error.ZMQError: Address already in use (addr='tcp://127.0.0.1:59477')\n"
     ]
    },
    {
     "ename": "SystemExit",
     "evalue": "1",
     "output_type": "error",
     "traceback": [
      "An exception has occurred, use %tb to see the full traceback.\n",
      "\u001b[0;31mSystemExit\u001b[0m\u001b[0;31m:\u001b[0m 1\n"
     ]
    }
   ],
   "source": [
    "from flask import Flask, jsonify, request\n",
    "\n",
    "app = Flask(__name__)\n",
    "\n",
    "@app.route('/api/greet', methods=['GET'])\n",
    "def greet():\n",
    "    name = request.args.get('name')\n",
    "    if not name:\n",
    "        return jsonify(error=\"Missing 'name' parameter\"), 400\n",
    "    return jsonify(message=f\"Hello, {name}!\")\n",
    "\n",
    "if __name__ == '__main__':\n",
    "    app.run(debug=True)\n"
   ]
  },
  {
   "cell_type": "code",
   "execution_count": null,
   "id": "feeb87e0-3116-489b-ab72-44f14a9014a7",
   "metadata": {},
   "outputs": [],
   "source": []
  },
  {
   "cell_type": "markdown",
   "id": "d1ea7764-cfb4-4340-bcf7-4e5863fd41af",
   "metadata": {},
   "source": [
    "Question 14: What are the best practices for designing and documenting Web APIs?"
   ]
  },
  {
   "cell_type": "code",
   "execution_count": 67,
   "id": "9a3a4422-ea42-48e9-ac5d-f9e8aef0c3e9",
   "metadata": {},
   "outputs": [],
   "source": [
    "#Answer"
   ]
  },
  {
   "cell_type": "markdown",
   "id": "eaec3d29-0020-4371-bd95-396ad3739085",
   "metadata": {},
   "source": [
    "Best Practices for Designing Web APIs:\n",
    "\n",
    "Use RESTful principles: Follow RESTful architectural principles to ensure scalability, simplicity, and interoperability.\n",
    "Use meaningful URIs: Design URIs that are intuitive and represent the resources clearly (e.g., /api/users).\n",
    "Versioning: Include versioning in your API (e.g., /api/v1/users) to manage changes without breaking existing clients.\n",
    "Consistent HTTP Methods: Use HTTP methods correctly:\n",
    "GET for retrieving data\n",
    "POST for creating resources\n",
    "PUT for updating resources\n",
    "DELETE for deleting resources\n",
    "Status Codes: Return appropriate HTTP status codes for different scenarios (e.g., 200 OK, 201 Created, 400 Bad Request, 404 Not Found).\n",
    "Error Handling: Provide clear and consistent error messages with relevant details to help clients understand and resolve issues.\n",
    "Pagination: Implement pagination for endpoints that return large lists of items to improve performance and usability.\n",
    "Security: Use HTTPS to encrypt data in transit, and implement authentication and authorization mechanisms (e.g., API keys, tokens).\n",
    "Rate Limiting: Apply rate limiting to prevent abuse and ensure fair usage.\n",
    "Best Practices for Documenting Web APIs:\n",
    "\n",
    "Use OpenAPI/Swagger: Create a comprehensive API documentation using standards like OpenAPI/Swagger. This provides a clear and interactive way for developers to understand and use your API.\n",
    "Provide Examples: Include request and response examples for each endpoint to help developers understand how to interact with the API.\n",
    "Detailed Descriptions: Document each endpoint with detailed descriptions, parameter explanations, and possible responses.\n",
    "Update Regularly: Keep the documentation up-to-date with the latest changes and versions of the API."
   ]
  },
  {
   "cell_type": "code",
   "execution_count": 56,
   "id": "cad547fd-2e58-43b1-b9d1-dce3b9c64c1f",
   "metadata": {},
   "outputs": [
    {
     "name": "stdout",
     "output_type": "stream",
     "text": [
      "Requirement already satisfied: Flask in /opt/anaconda3/lib/python3.12/site-packages (3.0.3)\n",
      "Collecting Flask-RESTful\n",
      "  Downloading Flask_RESTful-0.3.10-py2.py3-none-any.whl.metadata (1.0 kB)\n",
      "Requirement already satisfied: Werkzeug>=3.0.0 in /opt/anaconda3/lib/python3.12/site-packages (from Flask) (3.0.3)\n",
      "Requirement already satisfied: Jinja2>=3.1.2 in /opt/anaconda3/lib/python3.12/site-packages (from Flask) (3.1.4)\n",
      "Requirement already satisfied: itsdangerous>=2.1.2 in /opt/anaconda3/lib/python3.12/site-packages (from Flask) (2.2.0)\n",
      "Requirement already satisfied: click>=8.1.3 in /opt/anaconda3/lib/python3.12/site-packages (from Flask) (8.1.7)\n",
      "Requirement already satisfied: blinker>=1.6.2 in /opt/anaconda3/lib/python3.12/site-packages (from Flask) (1.6.2)\n",
      "Collecting aniso8601>=0.82 (from Flask-RESTful)\n",
      "  Downloading aniso8601-9.0.1-py2.py3-none-any.whl.metadata (23 kB)\n",
      "Requirement already satisfied: six>=1.3.0 in /opt/anaconda3/lib/python3.12/site-packages (from Flask-RESTful) (1.16.0)\n",
      "Requirement already satisfied: pytz in /opt/anaconda3/lib/python3.12/site-packages (from Flask-RESTful) (2024.1)\n",
      "Requirement already satisfied: MarkupSafe>=2.0 in /opt/anaconda3/lib/python3.12/site-packages (from Jinja2>=3.1.2->Flask) (2.1.3)\n",
      "Downloading Flask_RESTful-0.3.10-py2.py3-none-any.whl (26 kB)\n",
      "Downloading aniso8601-9.0.1-py2.py3-none-any.whl (52 kB)\n",
      "\u001b[2K   \u001b[90m━━━━━━━━━━━━━━━━━━━━━━━━━━━━━━━━━━━━━━━━\u001b[0m \u001b[32m52.8/52.8 kB\u001b[0m \u001b[31m2.0 MB/s\u001b[0m eta \u001b[36m0:00:00\u001b[0m\n",
      "\u001b[?25hInstalling collected packages: aniso8601, Flask-RESTful\n",
      "Successfully installed Flask-RESTful-0.3.10 aniso8601-9.0.1\n",
      "Note: you may need to restart the kernel to use updated packages.\n"
     ]
    }
   ],
   "source": [
    "pip install Flask Flask-RESTful"
   ]
  },
  {
   "cell_type": "code",
   "execution_count": 2,
   "id": "cd87a012-3526-4033-b37c-51738ae45bc4",
   "metadata": {},
   "outputs": [
    {
     "name": "stdout",
     "output_type": "stream",
     "text": [
      " * Serving Flask app '__main__'\n",
      " * Debug mode: on\n"
     ]
    },
    {
     "name": "stderr",
     "output_type": "stream",
     "text": [
      "WARNING: This is a development server. Do not use it in a production deployment. Use a production WSGI server instead.\n",
      " * Running on http://127.0.0.1:5000\n",
      "Press CTRL+C to quit\n",
      " * Restarting with watchdog (fsevents)\n",
      "0.00s - Debugger warning: It seems that frozen modules are being used, which may\n",
      "0.00s - make the debugger miss breakpoints. Please pass -Xfrozen_modules=off\n",
      "0.00s - to python to disable frozen modules.\n",
      "0.00s - Note: Debugging will proceed. Set PYDEVD_DISABLE_FILE_VALIDATION=1 to disable this validation.\n",
      "Traceback (most recent call last):\n",
      "  File \"<frozen runpy>\", line 198, in _run_module_as_main\n",
      "  File \"<frozen runpy>\", line 88, in _run_code\n",
      "  File \"/opt/anaconda3/lib/python3.12/site-packages/ipykernel_launcher.py\", line 17, in <module>\n",
      "    app.launch_new_instance()\n",
      "  File \"/opt/anaconda3/lib/python3.12/site-packages/traitlets/config/application.py\", line 1074, in launch_instance\n",
      "    app.initialize(argv)\n",
      "  File \"/opt/anaconda3/lib/python3.12/site-packages/traitlets/config/application.py\", line 118, in inner\n",
      "    return method(app, *args, **kwargs)\n",
      "           ^^^^^^^^^^^^^^^^^^^^^^^^^^^^\n",
      "  File \"/opt/anaconda3/lib/python3.12/site-packages/ipykernel/kernelapp.py\", line 654, in initialize\n",
      "    self.init_sockets()\n",
      "  File \"/opt/anaconda3/lib/python3.12/site-packages/ipykernel/kernelapp.py\", line 331, in init_sockets\n",
      "    self.shell_port = self._bind_socket(self.shell_socket, self.shell_port)\n",
      "                      ^^^^^^^^^^^^^^^^^^^^^^^^^^^^^^^^^^^^^^^^^^^^^^^^^^^^^\n",
      "  File \"/opt/anaconda3/lib/python3.12/site-packages/ipykernel/kernelapp.py\", line 253, in _bind_socket\n",
      "    return self._try_bind_socket(s, port)\n",
      "           ^^^^^^^^^^^^^^^^^^^^^^^^^^^^^^\n",
      "  File \"/opt/anaconda3/lib/python3.12/site-packages/ipykernel/kernelapp.py\", line 229, in _try_bind_socket\n",
      "    s.bind(\"tcp://%s:%i\" % (self.ip, port))\n",
      "  File \"/opt/anaconda3/lib/python3.12/site-packages/zmq/sugar/socket.py\", line 302, in bind\n",
      "    super().bind(addr)\n",
      "  File \"zmq/backend/cython/socket.pyx\", line 564, in zmq.backend.cython.socket.Socket.bind\n",
      "  File \"zmq/backend/cython/checkrc.pxd\", line 28, in zmq.backend.cython.checkrc._check_rc\n",
      "zmq.error.ZMQError: Address already in use (addr='tcp://127.0.0.1:59477')\n"
     ]
    },
    {
     "ename": "SystemExit",
     "evalue": "1",
     "output_type": "error",
     "traceback": [
      "An exception has occurred, use %tb to see the full traceback.\n",
      "\u001b[0;31mSystemExit\u001b[0m\u001b[0;31m:\u001b[0m 1\n"
     ]
    },
    {
     "name": "stderr",
     "output_type": "stream",
     "text": [
      "/opt/anaconda3/lib/python3.12/site-packages/IPython/core/interactiveshell.py:3585: UserWarning: To exit: use 'exit', 'quit', or Ctrl-D.\n",
      "  warn(\"To exit: use 'exit', 'quit', or Ctrl-D.\", stacklevel=1)\n"
     ]
    }
   ],
   "source": [
    "from flask import Flask, request\n",
    "from flask_restful import Api, Resource\n",
    "\n",
    "app = Flask(__name__)\n",
    "api = Api(app)\n",
    "\n",
    "class UserResource(Resource):\n",
    "    def get(self):\n",
    "        return {\"message\": \"GET all users\"}\n",
    "\n",
    "    def post(self):\n",
    "        data = request.get_json()\n",
    "        return {\"message\": \"User created\", \"user\": data}, 201\n",
    "\n",
    "api.add_resource(UserResource, '/api/users')\n",
    "\n",
    "if __name__ == '__main__':\n",
    "    app.run(debug=True)\n"
   ]
  },
  {
   "cell_type": "code",
   "execution_count": null,
   "id": "0935cf58-336e-41ce-beb1-a7466bd9e38d",
   "metadata": {},
   "outputs": [],
   "source": []
  },
  {
   "cell_type": "markdown",
   "id": "d05810e7-f431-4e57-9cd0-1780f73a320f",
   "metadata": {},
   "source": [
    "Question 15: What role do API keys and tokens play in securing Web APIs?"
   ]
  },
  {
   "cell_type": "code",
   "execution_count": 69,
   "id": "4b5e4551-0ac1-4096-9ecd-6aff5c6aa8b0",
   "metadata": {},
   "outputs": [],
   "source": [
    "#Answer"
   ]
  },
  {
   "cell_type": "markdown",
   "id": "b962c589-52f7-4e2a-8152-04cfd6ba5181",
   "metadata": {},
   "source": [
    "API Keys:\n",
    "API keys are unique identifiers used to authenticate and authorize clients accessing an API. They help control access to the API, monitor usage, and prevent abuse. Each client is assigned a unique API key, which must be included in every API request.\n",
    "\n",
    "Tokens:\n",
    "Tokens (e.g., JWT - JSON Web Tokens) are more secure and flexible than API keys. They are used to authenticate and authorize clients by verifying their identity and permissions. Tokens are usually obtained by exchanging credentials (e.g., username and password) for a token, which is then included in subsequent API requests."
   ]
  },
  {
   "cell_type": "code",
   "execution_count": 5,
   "id": "d56d364a-e94e-40eb-8482-74775eca76ec",
   "metadata": {},
   "outputs": [
    {
     "name": "stdout",
     "output_type": "stream",
     "text": [
      " * Serving Flask app '__main__'\n",
      " * Debug mode: on\n"
     ]
    },
    {
     "name": "stderr",
     "output_type": "stream",
     "text": [
      "WARNING: This is a development server. Do not use it in a production deployment. Use a production WSGI server instead.\n",
      " * Running on http://127.0.0.1:5000\n",
      "Press CTRL+C to quit\n",
      " * Restarting with watchdog (fsevents)\n",
      "0.00s - Debugger warning: It seems that frozen modules are being used, which may\n",
      "0.00s - make the debugger miss breakpoints. Please pass -Xfrozen_modules=off\n",
      "0.00s - to python to disable frozen modules.\n",
      "0.00s - Note: Debugging will proceed. Set PYDEVD_DISABLE_FILE_VALIDATION=1 to disable this validation.\n",
      "Traceback (most recent call last):\n",
      "  File \"<frozen runpy>\", line 198, in _run_module_as_main\n",
      "  File \"<frozen runpy>\", line 88, in _run_code\n",
      "  File \"/opt/anaconda3/lib/python3.12/site-packages/ipykernel_launcher.py\", line 17, in <module>\n",
      "    app.launch_new_instance()\n",
      "  File \"/opt/anaconda3/lib/python3.12/site-packages/traitlets/config/application.py\", line 1074, in launch_instance\n",
      "    app.initialize(argv)\n",
      "  File \"/opt/anaconda3/lib/python3.12/site-packages/traitlets/config/application.py\", line 118, in inner\n",
      "    return method(app, *args, **kwargs)\n",
      "           ^^^^^^^^^^^^^^^^^^^^^^^^^^^^\n",
      "  File \"/opt/anaconda3/lib/python3.12/site-packages/ipykernel/kernelapp.py\", line 654, in initialize\n",
      "    self.init_sockets()\n",
      "  File \"/opt/anaconda3/lib/python3.12/site-packages/ipykernel/kernelapp.py\", line 331, in init_sockets\n",
      "    self.shell_port = self._bind_socket(self.shell_socket, self.shell_port)\n",
      "                      ^^^^^^^^^^^^^^^^^^^^^^^^^^^^^^^^^^^^^^^^^^^^^^^^^^^^^\n",
      "  File \"/opt/anaconda3/lib/python3.12/site-packages/ipykernel/kernelapp.py\", line 253, in _bind_socket\n",
      "    return self._try_bind_socket(s, port)\n",
      "           ^^^^^^^^^^^^^^^^^^^^^^^^^^^^^^\n",
      "  File \"/opt/anaconda3/lib/python3.12/site-packages/ipykernel/kernelapp.py\", line 229, in _try_bind_socket\n",
      "    s.bind(\"tcp://%s:%i\" % (self.ip, port))\n",
      "  File \"/opt/anaconda3/lib/python3.12/site-packages/zmq/sugar/socket.py\", line 302, in bind\n",
      "    super().bind(addr)\n",
      "  File \"zmq/backend/cython/socket.pyx\", line 564, in zmq.backend.cython.socket.Socket.bind\n",
      "  File \"zmq/backend/cython/checkrc.pxd\", line 28, in zmq.backend.cython.checkrc._check_rc\n",
      "zmq.error.ZMQError: Address already in use (addr='tcp://127.0.0.1:59477')\n"
     ]
    },
    {
     "ename": "SystemExit",
     "evalue": "1",
     "output_type": "error",
     "traceback": [
      "An exception has occurred, use %tb to see the full traceback.\n",
      "\u001b[0;31mSystemExit\u001b[0m\u001b[0;31m:\u001b[0m 1\n"
     ]
    }
   ],
   "source": [
    "from flask import Flask, request, jsonify\n",
    "\n",
    "app = Flask(__name__)\n",
    "\n",
    "API_KEY = \"1234567890abcdef\"\n",
    "\n",
    "def check_api_key(key):\n",
    "    return key == API_KEY\n",
    "\n",
    "@app.route('/api/resource', methods=['GET'])\n",
    "def protected_resource():\n",
    "    api_key = request.headers.get('X-API-KEY')\n",
    "    if not api_key or not check_api_key(api_key):\n",
    "        return jsonify(error=\"Unauthorized\"), 401\n",
    "    return jsonify(message=\"This is a protected resource\")\n",
    "\n",
    "if __name__ == '__main__':\n",
    "    app.run(debug=True)\n"
   ]
  },
  {
   "cell_type": "code",
   "execution_count": null,
   "id": "1b70c945-d616-4fbb-83cc-eaacd344cf23",
   "metadata": {},
   "outputs": [],
   "source": []
  },
  {
   "cell_type": "markdown",
   "id": "0d9a3265-6d61-4378-90f9-e9a7cbafbcb6",
   "metadata": {},
   "source": [
    "Question 16: What is REST, and what are its key principles?"
   ]
  },
  {
   "cell_type": "code",
   "execution_count": 71,
   "id": "0b60a934-05cb-49a4-a3a2-f12c90f07489",
   "metadata": {},
   "outputs": [],
   "source": [
    "#Answer"
   ]
  },
  {
   "cell_type": "markdown",
   "id": "cbfac6bd-237c-4306-8975-e34c725ae239",
   "metadata": {},
   "source": [
    "REST (Representational State Transfer):\n",
    "REST is an architectural style for designing networked applications. It uses a stateless, client-server, cacheable communications protocol -- typically HTTP. RESTful applications use HTTP requests to perform CRUD (Create, Read, Update, Delete) operations on resources.\n",
    "\n",
    "Key Principles of REST:\n",
    "\n",
    "Client-Server Architecture: The client and server are separate entities that communicate through a standardized interface (HTTP). This separation allows clients and servers to evolve independently.\n",
    "Statelessness: Each client request must contain all the information needed to process the request. The server does not store any client context between requests.\n",
    "Cacheability: Responses from the server can be marked as cacheable or non-cacheable. This improves performance by reducing the need for repeated requests.\n",
    "Uniform Interface: RESTful APIs have a uniform interface that simplifies and decouples the architecture. This includes using standard HTTP methods (GET, POST, PUT, DELETE) and standard conventions for URIs.\n",
    "Layered System: REST allows an architecture to be composed of hierarchical layers, each with a specific function. This helps improve scalability and manageability.\n",
    "Code on Demand (optional): Servers can extend client functionality by sending executable code (e.g., JavaScript). This is an optional constraint and is not widely used.\n"
   ]
  },
  {
   "cell_type": "code",
   "execution_count": 10,
   "id": "80311ce1-892f-46c7-a67d-8b55202b2aa8",
   "metadata": {},
   "outputs": [
    {
     "name": "stdout",
     "output_type": "stream",
     "text": [
      " * Serving Flask app '__main__'\n",
      " * Debug mode: on\n"
     ]
    },
    {
     "name": "stderr",
     "output_type": "stream",
     "text": [
      "WARNING: This is a development server. Do not use it in a production deployment. Use a production WSGI server instead.\n",
      " * Running on http://127.0.0.1:5000\n",
      "Press CTRL+C to quit\n",
      " * Restarting with watchdog (fsevents)\n",
      "0.00s - Debugger warning: It seems that frozen modules are being used, which may\n",
      "0.00s - make the debugger miss breakpoints. Please pass -Xfrozen_modules=off\n",
      "0.00s - to python to disable frozen modules.\n",
      "0.00s - Note: Debugging will proceed. Set PYDEVD_DISABLE_FILE_VALIDATION=1 to disable this validation.\n",
      "Traceback (most recent call last):\n",
      "  File \"<frozen runpy>\", line 198, in _run_module_as_main\n",
      "  File \"<frozen runpy>\", line 88, in _run_code\n",
      "  File \"/opt/anaconda3/lib/python3.12/site-packages/ipykernel_launcher.py\", line 17, in <module>\n",
      "    app.launch_new_instance()\n",
      "  File \"/opt/anaconda3/lib/python3.12/site-packages/traitlets/config/application.py\", line 1074, in launch_instance\n",
      "    app.initialize(argv)\n",
      "  File \"/opt/anaconda3/lib/python3.12/site-packages/traitlets/config/application.py\", line 118, in inner\n",
      "    return method(app, *args, **kwargs)\n",
      "           ^^^^^^^^^^^^^^^^^^^^^^^^^^^^\n",
      "  File \"/opt/anaconda3/lib/python3.12/site-packages/ipykernel/kernelapp.py\", line 654, in initialize\n",
      "    self.init_sockets()\n",
      "  File \"/opt/anaconda3/lib/python3.12/site-packages/ipykernel/kernelapp.py\", line 331, in init_sockets\n",
      "    self.shell_port = self._bind_socket(self.shell_socket, self.shell_port)\n",
      "                      ^^^^^^^^^^^^^^^^^^^^^^^^^^^^^^^^^^^^^^^^^^^^^^^^^^^^^\n",
      "  File \"/opt/anaconda3/lib/python3.12/site-packages/ipykernel/kernelapp.py\", line 253, in _bind_socket\n",
      "    return self._try_bind_socket(s, port)\n",
      "           ^^^^^^^^^^^^^^^^^^^^^^^^^^^^^^\n",
      "  File \"/opt/anaconda3/lib/python3.12/site-packages/ipykernel/kernelapp.py\", line 229, in _try_bind_socket\n",
      "    s.bind(\"tcp://%s:%i\" % (self.ip, port))\n",
      "  File \"/opt/anaconda3/lib/python3.12/site-packages/zmq/sugar/socket.py\", line 302, in bind\n",
      "    super().bind(addr)\n",
      "  File \"zmq/backend/cython/socket.pyx\", line 564, in zmq.backend.cython.socket.Socket.bind\n",
      "  File \"zmq/backend/cython/checkrc.pxd\", line 28, in zmq.backend.cython.checkrc._check_rc\n",
      "zmq.error.ZMQError: Address already in use (addr='tcp://127.0.0.1:59477')\n"
     ]
    },
    {
     "ename": "SystemExit",
     "evalue": "1",
     "output_type": "error",
     "traceback": [
      "An exception has occurred, use %tb to see the full traceback.\n",
      "\u001b[0;31mSystemExit\u001b[0m\u001b[0;31m:\u001b[0m 1\n"
     ]
    }
   ],
   "source": [
    "from flask import Flask, request, jsonify\n",
    "\n",
    "app = Flask(__name__)\n",
    "\n",
    "users = []\n",
    "\n",
    "@app.route('/api/users', methods=['GET'])\n",
    "def get_users():\n",
    "    return jsonify(users), 200\n",
    "\n",
    "@app.route('/api/users', methods=['POST'])\n",
    "def create_user():\n",
    "    data = request.get_json()\n",
    "    users.append(data)\n",
    "    return jsonify(data), 201\n",
    "\n",
    "@app.route('/api/users/<int:user_id>', methods=['PUT'])\n",
    "def update_user(user_id):\n",
    "    data = request.get_json()\n",
    "    users[user_id] = data\n",
    "    return jsonify(data), 200\n",
    "\n",
    "@app.route('/api/users/<int:user_id>', methods=['DELETE'])\n",
    "def delete_user(user_id):\n",
    "    users.pop(user_id)\n",
    "    return '', 204\n",
    "\n",
    "if __name__ == '__main__':\n",
    "    app.run(debug=True)\n"
   ]
  },
  {
   "cell_type": "markdown",
   "id": "24aa015e-dd48-4114-9503-f2e386e35050",
   "metadata": {},
   "source": [
    "Access the RESTful API:\n",
    "Use a tool like Postman or curl to interact with the API:\n",
    "GET all users: curl http://127.0.0.1:5000/api/users\n",
    "POST a new user: curl -X POST -H \"Content-Type: application/json\" -d '{\"name\": \"John\"}' http://127.0.0.1:5000/api/users\n",
    "PUT (update) a user: curl -X PUT -H \"Content-Type: application/json\" -d '{\"name\": \"Jane\"}' http://127.0.0.1:5000/api/users/0\n",
    "DELETE a user: curl -X DELETE http://127.0.0.1:5000/api/users/0"
   ]
  },
  {
   "cell_type": "code",
   "execution_count": null,
   "id": "0a3825df-f515-4cb8-91aa-fa5f11208b82",
   "metadata": {},
   "outputs": [],
   "source": []
  },
  {
   "cell_type": "markdown",
   "id": "215abfbf-d0ef-49c9-9f29-5e0bc9203eb4",
   "metadata": {},
   "source": [
    "Question 17: Explain the difference between RESTful APIs and traditional web services."
   ]
  },
  {
   "cell_type": "code",
   "execution_count": 73,
   "id": "d4aea4e0-dcf7-4c4f-af18-08d1fc29c197",
   "metadata": {},
   "outputs": [],
   "source": [
    "#Answer"
   ]
  },
  {
   "cell_type": "markdown",
   "id": "c0c30c55-d88d-4c86-9791-36b6f9892221",
   "metadata": {},
   "source": [
    "RESTful APIs:\n",
    "\n",
    "Architecture: REST (Representational State Transfer) is an architectural style that uses standard HTTP methods and URIs to interact with resources.\n",
    "Stateless: Each request from a client to the server must contain all the information needed to understand and process the request.\n",
    "Data Format: Typically uses JSON or XML, but JSON is more common due to its simplicity.\n",
    "Performance: Generally more scalable and faster because of its stateless nature and lightweight message formats.\n",
    "Flexibility: Allows for more flexibility in terms of data exchange formats and communication methods.\n",
    "Traditional Web Services (SOAP-based):\n",
    "\n",
    "Protocol: SOAP (Simple Object Access Protocol) is a protocol with strict standards and an XML-based messaging protocol.\n",
    "Stateful: Can maintain state across multiple requests, which is useful for complex transactions.\n",
    "Data Format: Always uses XML for message format, which can be more verbose.\n",
    "Complexity: More complex due to strict standards and built-in security features.\n",
    "Standardization: Highly standardized with extensive support for various technologies and protocols.\n"
   ]
  },
  {
   "cell_type": "code",
   "execution_count": 15,
   "id": "776ae356-3bc2-43b6-a4e9-9108e860d299",
   "metadata": {},
   "outputs": [
    {
     "name": "stdout",
     "output_type": "stream",
     "text": [
      " * Serving Flask app '__main__'\n",
      " * Debug mode: on\n"
     ]
    },
    {
     "name": "stderr",
     "output_type": "stream",
     "text": [
      "WARNING: This is a development server. Do not use it in a production deployment. Use a production WSGI server instead.\n",
      " * Running on http://127.0.0.1:5000\n",
      "Press CTRL+C to quit\n",
      " * Restarting with watchdog (fsevents)\n",
      "0.00s - Debugger warning: It seems that frozen modules are being used, which may\n",
      "0.00s - make the debugger miss breakpoints. Please pass -Xfrozen_modules=off\n",
      "0.00s - to python to disable frozen modules.\n",
      "0.00s - Note: Debugging will proceed. Set PYDEVD_DISABLE_FILE_VALIDATION=1 to disable this validation.\n",
      "Traceback (most recent call last):\n",
      "  File \"<frozen runpy>\", line 198, in _run_module_as_main\n",
      "  File \"<frozen runpy>\", line 88, in _run_code\n",
      "  File \"/opt/anaconda3/lib/python3.12/site-packages/ipykernel_launcher.py\", line 17, in <module>\n",
      "    app.launch_new_instance()\n",
      "  File \"/opt/anaconda3/lib/python3.12/site-packages/traitlets/config/application.py\", line 1074, in launch_instance\n",
      "    app.initialize(argv)\n",
      "  File \"/opt/anaconda3/lib/python3.12/site-packages/traitlets/config/application.py\", line 118, in inner\n",
      "    return method(app, *args, **kwargs)\n",
      "           ^^^^^^^^^^^^^^^^^^^^^^^^^^^^\n",
      "  File \"/opt/anaconda3/lib/python3.12/site-packages/ipykernel/kernelapp.py\", line 654, in initialize\n",
      "    self.init_sockets()\n",
      "  File \"/opt/anaconda3/lib/python3.12/site-packages/ipykernel/kernelapp.py\", line 331, in init_sockets\n",
      "    self.shell_port = self._bind_socket(self.shell_socket, self.shell_port)\n",
      "                      ^^^^^^^^^^^^^^^^^^^^^^^^^^^^^^^^^^^^^^^^^^^^^^^^^^^^^\n",
      "  File \"/opt/anaconda3/lib/python3.12/site-packages/ipykernel/kernelapp.py\", line 253, in _bind_socket\n",
      "    return self._try_bind_socket(s, port)\n",
      "           ^^^^^^^^^^^^^^^^^^^^^^^^^^^^^^\n",
      "  File \"/opt/anaconda3/lib/python3.12/site-packages/ipykernel/kernelapp.py\", line 229, in _try_bind_socket\n",
      "    s.bind(\"tcp://%s:%i\" % (self.ip, port))\n",
      "  File \"/opt/anaconda3/lib/python3.12/site-packages/zmq/sugar/socket.py\", line 302, in bind\n",
      "    super().bind(addr)\n",
      "  File \"zmq/backend/cython/socket.pyx\", line 564, in zmq.backend.cython.socket.Socket.bind\n",
      "  File \"zmq/backend/cython/checkrc.pxd\", line 28, in zmq.backend.cython.checkrc._check_rc\n",
      "zmq.error.ZMQError: Address already in use (addr='tcp://127.0.0.1:59477')\n"
     ]
    },
    {
     "ename": "SystemExit",
     "evalue": "1",
     "output_type": "error",
     "traceback": [
      "An exception has occurred, use %tb to see the full traceback.\n",
      "\u001b[0;31mSystemExit\u001b[0m\u001b[0;31m:\u001b[0m 1\n"
     ]
    }
   ],
   "source": [
    "from flask import Flask, jsonify, request\n",
    "\n",
    "app = Flask(__name__)\n",
    "\n",
    "data = []\n",
    "\n",
    "@app.route('/api/data', methods=['GET', 'POST'])\n",
    "def handle_data():\n",
    "    if request.method == 'POST':\n",
    "        new_data = request.get_json()\n",
    "        data.append(new_data)\n",
    "        return jsonify(new_data), 201\n",
    "    else:\n",
    "        return jsonify(data), 200\n",
    "\n",
    "if __name__ == '__main__':\n",
    "    app.run(debug=True)\n"
   ]
  },
  {
   "cell_type": "code",
   "execution_count": null,
   "id": "4f71fa47-3e02-4d2c-870b-90953d16ef93",
   "metadata": {},
   "outputs": [],
   "source": []
  },
  {
   "cell_type": "markdown",
   "id": "36ef5022-6e78-4b3c-afcc-c142c64cbdfb",
   "metadata": {},
   "source": [
    "Question 18: What are the main HTTP methods used in RESTful architecture, and what are their purposes?"
   ]
  },
  {
   "cell_type": "code",
   "execution_count": 75,
   "id": "b7ed5ee1-0608-41db-8285-7f83337c165a",
   "metadata": {},
   "outputs": [],
   "source": [
    "#Answer"
   ]
  },
  {
   "cell_type": "markdown",
   "id": "51cc83ce-cf84-45f7-b48d-6a33441dd2a0",
   "metadata": {},
   "source": [
    "Main HTTP Methods:\n",
    "\n",
    "GET:\n",
    "\n",
    "Purpose: Retrieve data from the server.\n",
    "Example: Fetch a list of users or a specific user."
   ]
  },
  {
   "cell_type": "code",
   "execution_count": 18,
   "id": "59929a7d-2271-4967-81bc-578709e4c54d",
   "metadata": {},
   "outputs": [],
   "source": [
    "@app.route('/api/users', methods=['GET'])\n",
    "def get_users():\n",
    "    return jsonify(users), 200\n"
   ]
  },
  {
   "cell_type": "markdown",
   "id": "afd7b31b-3e65-4174-8379-e96761259043",
   "metadata": {},
   "source": [
    "POST:\n",
    "\n",
    "Purpose: Send data to the server to create a new resource.\n",
    "Example: Create a new user."
   ]
  },
  {
   "cell_type": "code",
   "execution_count": 21,
   "id": "4ef927fe-c41c-4926-9520-49af24ced4e8",
   "metadata": {},
   "outputs": [],
   "source": [
    "@app.route('/api/users', methods=['POST'])\n",
    "def create_user():\n",
    "    user = request.get_json()\n",
    "    users.append(user)\n",
    "    return jsonify(user), 201\n"
   ]
  },
  {
   "cell_type": "markdown",
   "id": "2092dfd6-550d-4b20-bcb3-5cc6199c4094",
   "metadata": {},
   "source": [
    "PUT:\n",
    "\n",
    "Purpose: Update an existing resource on the server.\n",
    "Example: Update user details."
   ]
  },
  {
   "cell_type": "code",
   "execution_count": 24,
   "id": "08bcb549-de57-4dc3-98bd-50b9b3a42331",
   "metadata": {},
   "outputs": [],
   "source": [
    "@app.route('/api/users/<int:user_id>', methods=['PUT'])\n",
    "def update_user(user_id):\n",
    "    user = request.get_json()\n",
    "    users[user_id] = user\n",
    "    return jsonify(user), 200\n"
   ]
  },
  {
   "cell_type": "markdown",
   "id": "f19d28da-02b8-48a5-9dd0-1204622baf9c",
   "metadata": {},
   "source": [
    "DELETE:\n",
    "\n",
    "Purpose: Delete a resource from the server.\n",
    "Example: Delete a user."
   ]
  },
  {
   "cell_type": "code",
   "execution_count": 27,
   "id": "db83dc62-e346-4dbc-beca-05a4ef6dea42",
   "metadata": {},
   "outputs": [],
   "source": [
    "@app.route('/api/users/<int:user_id>', methods=['DELETE'])\n",
    "def delete_user(user_id):\n",
    "    users.pop(user_id)\n",
    "    return '', 204\n"
   ]
  },
  {
   "cell_type": "code",
   "execution_count": null,
   "id": "e4298667-edda-44f0-914f-fb8a8c0bb0cb",
   "metadata": {},
   "outputs": [],
   "source": []
  },
  {
   "cell_type": "code",
   "execution_count": null,
   "id": "bda78987-6258-4d5d-bf55-6ae6b38e8516",
   "metadata": {},
   "outputs": [],
   "source": []
  },
  {
   "cell_type": "markdown",
   "id": "3b476212-e9af-44b7-9eac-8d85aa67ddc1",
   "metadata": {},
   "source": [
    "Question 19: Describe the concept of statelessness in RESTful APIs."
   ]
  },
  {
   "cell_type": "code",
   "execution_count": 77,
   "id": "036f9cfb-b09c-481d-bf5f-8cb89b6f9da9",
   "metadata": {},
   "outputs": [],
   "source": [
    "#Answer"
   ]
  },
  {
   "cell_type": "markdown",
   "id": "390a7b0e-722d-47a3-b0c8-fcfb0ca115f8",
   "metadata": {},
   "source": [
    "Statelessness:\n",
    "Statelessness in RESTful APIs means that each request from a client to the server must contain all the information needed to understand and process the request. The server does not store any client context between requests. This simplifies the server design and improves scalability.\n",
    "\n"
   ]
  },
  {
   "cell_type": "code",
   "execution_count": 30,
   "id": "499323c8-b88c-496a-987f-b41212eb511b",
   "metadata": {},
   "outputs": [
    {
     "name": "stdout",
     "output_type": "stream",
     "text": [
      " * Serving Flask app '__main__'\n",
      " * Debug mode: on\n"
     ]
    },
    {
     "name": "stderr",
     "output_type": "stream",
     "text": [
      "WARNING: This is a development server. Do not use it in a production deployment. Use a production WSGI server instead.\n",
      " * Running on http://127.0.0.1:5000\n",
      "Press CTRL+C to quit\n",
      " * Restarting with watchdog (fsevents)\n",
      "0.00s - Debugger warning: It seems that frozen modules are being used, which may\n",
      "0.00s - make the debugger miss breakpoints. Please pass -Xfrozen_modules=off\n",
      "0.00s - to python to disable frozen modules.\n",
      "0.00s - Note: Debugging will proceed. Set PYDEVD_DISABLE_FILE_VALIDATION=1 to disable this validation.\n",
      "Traceback (most recent call last):\n",
      "  File \"<frozen runpy>\", line 198, in _run_module_as_main\n",
      "  File \"<frozen runpy>\", line 88, in _run_code\n",
      "  File \"/opt/anaconda3/lib/python3.12/site-packages/ipykernel_launcher.py\", line 17, in <module>\n",
      "    app.launch_new_instance()\n",
      "  File \"/opt/anaconda3/lib/python3.12/site-packages/traitlets/config/application.py\", line 1074, in launch_instance\n",
      "    app.initialize(argv)\n",
      "  File \"/opt/anaconda3/lib/python3.12/site-packages/traitlets/config/application.py\", line 118, in inner\n",
      "    return method(app, *args, **kwargs)\n",
      "           ^^^^^^^^^^^^^^^^^^^^^^^^^^^^\n",
      "  File \"/opt/anaconda3/lib/python3.12/site-packages/ipykernel/kernelapp.py\", line 654, in initialize\n",
      "    self.init_sockets()\n",
      "  File \"/opt/anaconda3/lib/python3.12/site-packages/ipykernel/kernelapp.py\", line 331, in init_sockets\n",
      "    self.shell_port = self._bind_socket(self.shell_socket, self.shell_port)\n",
      "                      ^^^^^^^^^^^^^^^^^^^^^^^^^^^^^^^^^^^^^^^^^^^^^^^^^^^^^\n",
      "  File \"/opt/anaconda3/lib/python3.12/site-packages/ipykernel/kernelapp.py\", line 253, in _bind_socket\n",
      "    return self._try_bind_socket(s, port)\n",
      "           ^^^^^^^^^^^^^^^^^^^^^^^^^^^^^^\n",
      "  File \"/opt/anaconda3/lib/python3.12/site-packages/ipykernel/kernelapp.py\", line 229, in _try_bind_socket\n",
      "    s.bind(\"tcp://%s:%i\" % (self.ip, port))\n",
      "  File \"/opt/anaconda3/lib/python3.12/site-packages/zmq/sugar/socket.py\", line 302, in bind\n",
      "    super().bind(addr)\n",
      "  File \"zmq/backend/cython/socket.pyx\", line 564, in zmq.backend.cython.socket.Socket.bind\n",
      "  File \"zmq/backend/cython/checkrc.pxd\", line 28, in zmq.backend.cython.checkrc._check_rc\n",
      "zmq.error.ZMQError: Address already in use (addr='tcp://127.0.0.1:59477')\n"
     ]
    },
    {
     "ename": "SystemExit",
     "evalue": "1",
     "output_type": "error",
     "traceback": [
      "An exception has occurred, use %tb to see the full traceback.\n",
      "\u001b[0;31mSystemExit\u001b[0m\u001b[0;31m:\u001b[0m 1\n"
     ]
    }
   ],
   "source": [
    "from flask import Flask, jsonify, request\n",
    "\n",
    "app = Flask(__name__)\n",
    "\n",
    "@app.route('/api/greet', methods=['GET'])\n",
    "def greet():\n",
    "    name = request.args.get('name')\n",
    "    if not name:\n",
    "        return jsonify(error=\"Missing 'name' parameter\"), 400\n",
    "    return jsonify(message=f\"Hello, {name}!\")\n",
    "\n",
    "if __name__ == '__main__':\n",
    "    app.run(debug=True)\n"
   ]
  },
  {
   "cell_type": "code",
   "execution_count": null,
   "id": "dc596903-ed91-4aed-bab7-c0fde8ed870b",
   "metadata": {},
   "outputs": [],
   "source": []
  },
  {
   "cell_type": "markdown",
   "id": "5ed41f42-b080-4a05-9d68-dcbf299cdb94",
   "metadata": {},
   "source": [
    "Question 20: What is the significance of URIs (Uniform Resource Identifiers) in RESTful API design?"
   ]
  },
  {
   "cell_type": "code",
   "execution_count": 79,
   "id": "499573b9-7b66-46a8-b87e-5bc508a4a3db",
   "metadata": {},
   "outputs": [],
   "source": [
    "#Answer"
   ]
  },
  {
   "cell_type": "markdown",
   "id": "be5c13d2-15b0-40b0-b3e1-9c8341d4c52d",
   "metadata": {},
   "source": [
    "Significance of URIs:\n",
    "URIs (Uniform Resource Identifiers) are used to identify and access resources in RESTful APIs. They provide a uniform way to address and manipulate resources, making the API intuitive and easy to use.\n",
    "\n",
    "Best Practices for URIs:\n",
    "\n",
    "Resource-Based: URIs should represent resources (e.g., /api/users, /api/orders).\n",
    "Hierarchical Structure: Use a hierarchical structure to organize resources logically (e.g., /api/users/1/orders).\n",
    "Consistency: Maintain consistent naming conventions and avoid using verbs in URIs.\n",
    "Plural Nouns: Use plural nouns to represent collections of resources (e.g., /api/users).\n",
    "Path Parameters: Use path parameters to identify specific resources (e.g., /api/users/{user_id})."
   ]
  },
  {
   "cell_type": "code",
   "execution_count": 32,
   "id": "bb04d07e-ceaa-4409-85da-c4ea7e74936f",
   "metadata": {},
   "outputs": [
    {
     "name": "stdout",
     "output_type": "stream",
     "text": [
      " * Serving Flask app '__main__'\n",
      " * Debug mode: on\n"
     ]
    },
    {
     "name": "stderr",
     "output_type": "stream",
     "text": [
      "WARNING: This is a development server. Do not use it in a production deployment. Use a production WSGI server instead.\n",
      " * Running on http://127.0.0.1:5000\n",
      "Press CTRL+C to quit\n",
      " * Restarting with watchdog (fsevents)\n",
      "0.00s - Debugger warning: It seems that frozen modules are being used, which may\n",
      "0.00s - make the debugger miss breakpoints. Please pass -Xfrozen_modules=off\n",
      "0.00s - to python to disable frozen modules.\n",
      "0.00s - Note: Debugging will proceed. Set PYDEVD_DISABLE_FILE_VALIDATION=1 to disable this validation.\n",
      "Traceback (most recent call last):\n",
      "  File \"<frozen runpy>\", line 198, in _run_module_as_main\n",
      "  File \"<frozen runpy>\", line 88, in _run_code\n",
      "  File \"/opt/anaconda3/lib/python3.12/site-packages/ipykernel_launcher.py\", line 17, in <module>\n",
      "    app.launch_new_instance()\n",
      "  File \"/opt/anaconda3/lib/python3.12/site-packages/traitlets/config/application.py\", line 1074, in launch_instance\n",
      "    app.initialize(argv)\n",
      "  File \"/opt/anaconda3/lib/python3.12/site-packages/traitlets/config/application.py\", line 118, in inner\n",
      "    return method(app, *args, **kwargs)\n",
      "           ^^^^^^^^^^^^^^^^^^^^^^^^^^^^\n",
      "  File \"/opt/anaconda3/lib/python3.12/site-packages/ipykernel/kernelapp.py\", line 654, in initialize\n",
      "    self.init_sockets()\n",
      "  File \"/opt/anaconda3/lib/python3.12/site-packages/ipykernel/kernelapp.py\", line 331, in init_sockets\n",
      "    self.shell_port = self._bind_socket(self.shell_socket, self.shell_port)\n",
      "                      ^^^^^^^^^^^^^^^^^^^^^^^^^^^^^^^^^^^^^^^^^^^^^^^^^^^^^\n",
      "  File \"/opt/anaconda3/lib/python3.12/site-packages/ipykernel/kernelapp.py\", line 253, in _bind_socket\n",
      "    return self._try_bind_socket(s, port)\n",
      "           ^^^^^^^^^^^^^^^^^^^^^^^^^^^^^^\n",
      "  File \"/opt/anaconda3/lib/python3.12/site-packages/ipykernel/kernelapp.py\", line 229, in _try_bind_socket\n",
      "    s.bind(\"tcp://%s:%i\" % (self.ip, port))\n",
      "  File \"/opt/anaconda3/lib/python3.12/site-packages/zmq/sugar/socket.py\", line 302, in bind\n",
      "    super().bind(addr)\n",
      "  File \"zmq/backend/cython/socket.pyx\", line 564, in zmq.backend.cython.socket.Socket.bind\n",
      "  File \"zmq/backend/cython/checkrc.pxd\", line 28, in zmq.backend.cython.checkrc._check_rc\n",
      "zmq.error.ZMQError: Address already in use (addr='tcp://127.0.0.1:59477')\n"
     ]
    },
    {
     "ename": "SystemExit",
     "evalue": "1",
     "output_type": "error",
     "traceback": [
      "An exception has occurred, use %tb to see the full traceback.\n",
      "\u001b[0;31mSystemExit\u001b[0m\u001b[0;31m:\u001b[0m 1\n"
     ]
    }
   ],
   "source": [
    "from flask import Flask, jsonify, request\n",
    "\n",
    "app = Flask(__name__)\n",
    "\n",
    "users = []\n",
    "\n",
    "@app.route('/api/users', methods=['GET', 'POST'])\n",
    "def handle_users():\n",
    "    if request.method == 'POST':\n",
    "        user = request.get_json()\n",
    "        users.append(user)\n",
    "        return jsonify(user), 201\n",
    "    else:\n",
    "        return jsonify(users), 200\n",
    "\n",
    "@app.route('/api/users/<int:user_id>', methods=['GET', 'PUT', 'DELETE'])\n",
    "def handle_user(user_id):\n",
    "    if user_id >= len(users):\n",
    "        return jsonify(error=\"User not found\"), 404\n",
    "    if request.method == 'GET':\n",
    "        return jsonify(users[user_id]), 200\n",
    "    elif request.method == 'PUT':\n",
    "        user = request.get_json()\n",
    "        users[user_id] = user\n",
    "        return jsonify(user), 200\n",
    "    elif request.method == 'DELETE':\n",
    "        users.pop(user_id)\n",
    "        return '', 204\n",
    "\n",
    "if __name__ == '__main__':\n",
    "    app.run(debug=True)\n"
   ]
  },
  {
   "cell_type": "markdown",
   "id": "355b5f7e-ffd2-4eec-b7d2-2a27794d0069",
   "metadata": {},
   "source": [
    "Access the API:\n",
    "GET all users: curl http://127.0.0.1:5000/api/users\n",
    "POST a new user: curl -X POST -H \"Content-Type: application/json\" -d '{\"name\": \"John\"}' http://127.0.0.1:5000/api/users\n",
    "GET a specific user: curl http://127.0.0.1:5000/api/users/0\n",
    "PUT (update) a user: curl -X PUT -H \"Content-Type: application/json\" -d '{\"name\": \"Jane\"}' http://127.0.0.1:5000/api/users/0\n",
    "DELETE a user: curl -X DELETE http://127.0.0.1:5000/api/users/0"
   ]
  },
  {
   "cell_type": "code",
   "execution_count": null,
   "id": "f8e68ff4-8229-46d9-94fd-65a35e579f15",
   "metadata": {},
   "outputs": [],
   "source": []
  },
  {
   "cell_type": "markdown",
   "id": "0469bf8e-c48d-450e-9108-b3030913e56f",
   "metadata": {},
   "source": [
    "Question 21: Explain the role of hypermedia in RESTful APIs. How does it relate to HATEOAS?"
   ]
  },
  {
   "cell_type": "code",
   "execution_count": 81,
   "id": "5a7603a1-d5a7-4fa8-bfc6-eaa12809a4d2",
   "metadata": {},
   "outputs": [],
   "source": [
    "#Answer"
   ]
  },
  {
   "cell_type": "markdown",
   "id": "cf5f2212-5a4a-432f-a05e-2f0f263a824f",
   "metadata": {},
   "source": [
    "Role of Hypermedia in RESTful APIs:\n",
    "Hypermedia, or hypertext, is an integral part of RESTful APIs that allows clients to navigate the API dynamically by providing links to related resources within the response. This approach is known as HATEOAS (Hypermedia As The Engine Of Application State).\n",
    "\n",
    "HATEOAS:\n",
    "HATEOAS is a constraint of REST that keeps the client decoupled from the server. It means that the server provides all necessary information for the client to interact with the API, including URLs for available actions."
   ]
  },
  {
   "cell_type": "code",
   "execution_count": 36,
   "id": "48a0638e-cd94-42b7-9b65-73720b8bf6c0",
   "metadata": {},
   "outputs": [
    {
     "name": "stdout",
     "output_type": "stream",
     "text": [
      " * Serving Flask app '__main__'\n",
      " * Debug mode: on\n"
     ]
    },
    {
     "name": "stderr",
     "output_type": "stream",
     "text": [
      "WARNING: This is a development server. Do not use it in a production deployment. Use a production WSGI server instead.\n",
      " * Running on http://127.0.0.1:5000\n",
      "Press CTRL+C to quit\n",
      " * Restarting with watchdog (fsevents)\n",
      "0.00s - Debugger warning: It seems that frozen modules are being used, which may\n",
      "0.00s - make the debugger miss breakpoints. Please pass -Xfrozen_modules=off\n",
      "0.00s - to python to disable frozen modules.\n",
      "0.00s - Note: Debugging will proceed. Set PYDEVD_DISABLE_FILE_VALIDATION=1 to disable this validation.\n",
      "Traceback (most recent call last):\n",
      "  File \"<frozen runpy>\", line 198, in _run_module_as_main\n",
      "  File \"<frozen runpy>\", line 88, in _run_code\n",
      "  File \"/opt/anaconda3/lib/python3.12/site-packages/ipykernel_launcher.py\", line 17, in <module>\n",
      "    app.launch_new_instance()\n",
      "  File \"/opt/anaconda3/lib/python3.12/site-packages/traitlets/config/application.py\", line 1074, in launch_instance\n",
      "    app.initialize(argv)\n",
      "  File \"/opt/anaconda3/lib/python3.12/site-packages/traitlets/config/application.py\", line 118, in inner\n",
      "    return method(app, *args, **kwargs)\n",
      "           ^^^^^^^^^^^^^^^^^^^^^^^^^^^^\n",
      "  File \"/opt/anaconda3/lib/python3.12/site-packages/ipykernel/kernelapp.py\", line 654, in initialize\n",
      "    self.init_sockets()\n",
      "  File \"/opt/anaconda3/lib/python3.12/site-packages/ipykernel/kernelapp.py\", line 331, in init_sockets\n",
      "    self.shell_port = self._bind_socket(self.shell_socket, self.shell_port)\n",
      "                      ^^^^^^^^^^^^^^^^^^^^^^^^^^^^^^^^^^^^^^^^^^^^^^^^^^^^^\n",
      "  File \"/opt/anaconda3/lib/python3.12/site-packages/ipykernel/kernelapp.py\", line 253, in _bind_socket\n",
      "    return self._try_bind_socket(s, port)\n",
      "           ^^^^^^^^^^^^^^^^^^^^^^^^^^^^^^\n",
      "  File \"/opt/anaconda3/lib/python3.12/site-packages/ipykernel/kernelapp.py\", line 229, in _try_bind_socket\n",
      "    s.bind(\"tcp://%s:%i\" % (self.ip, port))\n",
      "  File \"/opt/anaconda3/lib/python3.12/site-packages/zmq/sugar/socket.py\", line 302, in bind\n",
      "    super().bind(addr)\n",
      "  File \"zmq/backend/cython/socket.pyx\", line 564, in zmq.backend.cython.socket.Socket.bind\n",
      "  File \"zmq/backend/cython/checkrc.pxd\", line 28, in zmq.backend.cython.checkrc._check_rc\n",
      "zmq.error.ZMQError: Address already in use (addr='tcp://127.0.0.1:59477')\n"
     ]
    },
    {
     "ename": "SystemExit",
     "evalue": "1",
     "output_type": "error",
     "traceback": [
      "An exception has occurred, use %tb to see the full traceback.\n",
      "\u001b[0;31mSystemExit\u001b[0m\u001b[0;31m:\u001b[0m 1\n"
     ]
    }
   ],
   "source": [
    "from flask import Flask, jsonify, request\n",
    "\n",
    "app = Flask(__name__)\n",
    "\n",
    "users = [{\"id\": 1, \"name\": \"John\"}, {\"id\": 2, \"name\": \"Jane\"}]\n",
    "\n",
    "def add_hateoas(user):\n",
    "    user_id = user[\"id\"]\n",
    "    user[\"links\"] = {\n",
    "        \"self\": f\"/api/users/{user_id}\",\n",
    "        \"update\": f\"/api/users/{user_id}\",\n",
    "        \"delete\": f\"/api/users/{user_id}\"\n",
    "    }\n",
    "    return user\n",
    "\n",
    "@app.route('/api/users', methods=['GET'])\n",
    "def get_users():\n",
    "    return jsonify([add_hateoas(user) for user in users]), 200\n",
    "\n",
    "@app.route('/api/users/<int:user_id>', methods=['GET'])\n",
    "def get_user(user_id):\n",
    "    user = next((u for u in users if u[\"id\"] == user_id), None)\n",
    "    if not user:\n",
    "        return jsonify(error=\"User not found\"), 404\n",
    "    return jsonify(add_hateoas(user)), 200\n",
    "\n",
    "if __name__ == '__main__':\n",
    "    app.run(debug=True)\n"
   ]
  },
  {
   "cell_type": "code",
   "execution_count": null,
   "id": "1adc36dd-26ac-4267-a727-ef33878ba888",
   "metadata": {},
   "outputs": [],
   "source": []
  },
  {
   "cell_type": "markdown",
   "id": "c7b92773-5abd-4fa0-bcc1-3c5fdd07d6a4",
   "metadata": {},
   "source": [
    "Question 22: What are the benefits of using RESTful APIs over other architectural styles?"
   ]
  },
  {
   "cell_type": "code",
   "execution_count": 83,
   "id": "7553ea1a-3aee-40a0-9329-c3998a72017f",
   "metadata": {},
   "outputs": [],
   "source": [
    "#Answer"
   ]
  },
  {
   "cell_type": "markdown",
   "id": "cc44b884-0310-44b1-858c-d16ae7b73635",
   "metadata": {},
   "source": [
    "enefits of RESTful APIs:\n",
    "\n",
    "Scalability: RESTful APIs are stateless, making it easier to scale the application horizontally by adding more servers.\n",
    "Flexibility: RESTful APIs support multiple data formats (JSON, XML), giving clients flexibility in choosing the format that suits them best.\n",
    "Simplicity: REST uses standard HTTP methods (GET, POST, PUT, DELETE), making it simple to use and understand.\n",
    "Performance: Statelessness and caching improve performance by reducing server load and latency.\n",
    "Interoperability: RESTful APIs can be consumed by any client that understands HTTP, enhancing interoperability across different platforms and devices.\n",
    "Maintainability: Clear separation between client and server allows independent development and maintenance.\n"
   ]
  },
  {
   "cell_type": "code",
   "execution_count": null,
   "id": "80c2c27b-6e36-4eb2-8290-bdc7732752d2",
   "metadata": {},
   "outputs": [],
   "source": []
  },
  {
   "cell_type": "markdown",
   "id": "0050820f-1bb5-4e7a-a1d4-3447ee8e119b",
   "metadata": {},
   "source": [
    "Question 23: Discuss the concept of resource representations in RESTful APIs."
   ]
  },
  {
   "cell_type": "code",
   "execution_count": 85,
   "id": "23c4e497-db1d-40f1-9cf3-eef4bfa5d754",
   "metadata": {},
   "outputs": [],
   "source": [
    "#Answer"
   ]
  },
  {
   "cell_type": "markdown",
   "id": "daf15910-fc2e-44fb-9209-0f5b3c3efd78",
   "metadata": {},
   "source": [
    "Resource Representations:\n",
    "In RESTful APIs, resources are the primary entities that clients interact with. Each resource can have multiple representations, such as JSON, XML, or HTML, which allow clients to choose the format that best fits their needs."
   ]
  },
  {
   "cell_type": "code",
   "execution_count": 42,
   "id": "13a305aa-fafa-4ab1-9bfd-58e02f8d537b",
   "metadata": {},
   "outputs": [
    {
     "name": "stdout",
     "output_type": "stream",
     "text": [
      " * Serving Flask app '__main__'\n",
      " * Debug mode: on\n"
     ]
    },
    {
     "name": "stderr",
     "output_type": "stream",
     "text": [
      "WARNING: This is a development server. Do not use it in a production deployment. Use a production WSGI server instead.\n",
      " * Running on http://127.0.0.1:5000\n",
      "Press CTRL+C to quit\n",
      " * Restarting with watchdog (fsevents)\n",
      "0.00s - Debugger warning: It seems that frozen modules are being used, which may\n",
      "0.00s - make the debugger miss breakpoints. Please pass -Xfrozen_modules=off\n",
      "0.00s - to python to disable frozen modules.\n",
      "0.00s - Note: Debugging will proceed. Set PYDEVD_DISABLE_FILE_VALIDATION=1 to disable this validation.\n",
      "Traceback (most recent call last):\n",
      "  File \"<frozen runpy>\", line 198, in _run_module_as_main\n",
      "  File \"<frozen runpy>\", line 88, in _run_code\n",
      "  File \"/opt/anaconda3/lib/python3.12/site-packages/ipykernel_launcher.py\", line 17, in <module>\n",
      "    app.launch_new_instance()\n",
      "  File \"/opt/anaconda3/lib/python3.12/site-packages/traitlets/config/application.py\", line 1074, in launch_instance\n",
      "    app.initialize(argv)\n",
      "  File \"/opt/anaconda3/lib/python3.12/site-packages/traitlets/config/application.py\", line 118, in inner\n",
      "    return method(app, *args, **kwargs)\n",
      "           ^^^^^^^^^^^^^^^^^^^^^^^^^^^^\n",
      "  File \"/opt/anaconda3/lib/python3.12/site-packages/ipykernel/kernelapp.py\", line 654, in initialize\n",
      "    self.init_sockets()\n",
      "  File \"/opt/anaconda3/lib/python3.12/site-packages/ipykernel/kernelapp.py\", line 331, in init_sockets\n",
      "    self.shell_port = self._bind_socket(self.shell_socket, self.shell_port)\n",
      "                      ^^^^^^^^^^^^^^^^^^^^^^^^^^^^^^^^^^^^^^^^^^^^^^^^^^^^^\n",
      "  File \"/opt/anaconda3/lib/python3.12/site-packages/ipykernel/kernelapp.py\", line 253, in _bind_socket\n",
      "    return self._try_bind_socket(s, port)\n",
      "           ^^^^^^^^^^^^^^^^^^^^^^^^^^^^^^\n",
      "  File \"/opt/anaconda3/lib/python3.12/site-packages/ipykernel/kernelapp.py\", line 229, in _try_bind_socket\n",
      "    s.bind(\"tcp://%s:%i\" % (self.ip, port))\n",
      "  File \"/opt/anaconda3/lib/python3.12/site-packages/zmq/sugar/socket.py\", line 302, in bind\n",
      "    super().bind(addr)\n",
      "  File \"zmq/backend/cython/socket.pyx\", line 564, in zmq.backend.cython.socket.Socket.bind\n",
      "  File \"zmq/backend/cython/checkrc.pxd\", line 28, in zmq.backend.cython.checkrc._check_rc\n",
      "zmq.error.ZMQError: Address already in use (addr='tcp://127.0.0.1:59477')\n"
     ]
    },
    {
     "ename": "SystemExit",
     "evalue": "1",
     "output_type": "error",
     "traceback": [
      "An exception has occurred, use %tb to see the full traceback.\n",
      "\u001b[0;31mSystemExit\u001b[0m\u001b[0;31m:\u001b[0m 1\n"
     ]
    }
   ],
   "source": [
    "from flask import Flask, jsonify, request\n",
    "\n",
    "app = Flask(__name__)\n",
    "\n",
    "users = [{\"id\": 1, \"name\": \"John\"}, {\"id\": 2, \"name\": \"Jane\"}]\n",
    "\n",
    "@app.route('/api/users', methods=['GET'])\n",
    "def get_users():\n",
    "    accept = request.headers.get('Accept')\n",
    "    if accept == 'application/xml':\n",
    "        xml_users = '<users>' + ''.join([f'<user><id>{u[\"id\"]}</id><name>{u[\"name\"]}</name></user>' for u in users]) + '</users>'\n",
    "        return xml_users, 200, {'Content-Type': 'application/xml'}\n",
    "    return jsonify(users), 200\n",
    "\n",
    "if __name__ == '__main__':\n",
    "    app.run(debug=True)\n"
   ]
  },
  {
   "cell_type": "markdown",
   "id": "cb33ad36-c898-4d94-9ba8-161ebe968897",
   "metadata": {},
   "source": [
    "esource Representations:\n",
    "GET users in JSON: curl -H \"Accept: application/json\" http://127.0.0.1:5000/api/users\n",
    "GET users in XML: curl -H \"Accept: application/xml\" http://127.0.0.1:5000/api/users\n"
   ]
  },
  {
   "cell_type": "code",
   "execution_count": null,
   "id": "5f8716e4-9f8e-42b6-b499-c78f87e403e1",
   "metadata": {},
   "outputs": [],
   "source": []
  },
  {
   "cell_type": "markdown",
   "id": "d6b6060e-aea5-4271-a63b-cd6350e9827a",
   "metadata": {},
   "source": [
    "Question 24: How does REST handle communication between clients and servers?"
   ]
  },
  {
   "cell_type": "code",
   "execution_count": 87,
   "id": "886e3646-fdd7-45f9-8728-f0ed30d186f6",
   "metadata": {},
   "outputs": [],
   "source": [
    "#Answer"
   ]
  },
  {
   "cell_type": "markdown",
   "id": "fe843a0c-4294-4742-b36b-13e16e8403f5",
   "metadata": {},
   "source": [
    "REST Communication:\n",
    "REST (Representational State Transfer) handles communication between clients and servers using standard HTTP methods. Clients send HTTP requests to the server, which processes these requests and sends back appropriate HTTP responses. The communication is stateless, meaning each request contains all the information the server needs to fulfill the request."
   ]
  },
  {
   "cell_type": "code",
   "execution_count": 46,
   "id": "646c569d-de66-4be4-8665-1bec0faa416b",
   "metadata": {},
   "outputs": [
    {
     "name": "stdout",
     "output_type": "stream",
     "text": [
      " * Serving Flask app '__main__'\n",
      " * Debug mode: on\n"
     ]
    },
    {
     "name": "stderr",
     "output_type": "stream",
     "text": [
      "WARNING: This is a development server. Do not use it in a production deployment. Use a production WSGI server instead.\n",
      " * Running on http://127.0.0.1:5000\n",
      "Press CTRL+C to quit\n",
      " * Restarting with watchdog (fsevents)\n",
      "0.00s - Debugger warning: It seems that frozen modules are being used, which may\n",
      "0.00s - make the debugger miss breakpoints. Please pass -Xfrozen_modules=off\n",
      "0.00s - to python to disable frozen modules.\n",
      "0.00s - Note: Debugging will proceed. Set PYDEVD_DISABLE_FILE_VALIDATION=1 to disable this validation.\n",
      "Traceback (most recent call last):\n",
      "  File \"<frozen runpy>\", line 198, in _run_module_as_main\n",
      "  File \"<frozen runpy>\", line 88, in _run_code\n",
      "  File \"/opt/anaconda3/lib/python3.12/site-packages/ipykernel_launcher.py\", line 17, in <module>\n",
      "    app.launch_new_instance()\n",
      "  File \"/opt/anaconda3/lib/python3.12/site-packages/traitlets/config/application.py\", line 1074, in launch_instance\n",
      "    app.initialize(argv)\n",
      "  File \"/opt/anaconda3/lib/python3.12/site-packages/traitlets/config/application.py\", line 118, in inner\n",
      "    return method(app, *args, **kwargs)\n",
      "           ^^^^^^^^^^^^^^^^^^^^^^^^^^^^\n",
      "  File \"/opt/anaconda3/lib/python3.12/site-packages/ipykernel/kernelapp.py\", line 654, in initialize\n",
      "    self.init_sockets()\n",
      "  File \"/opt/anaconda3/lib/python3.12/site-packages/ipykernel/kernelapp.py\", line 331, in init_sockets\n",
      "    self.shell_port = self._bind_socket(self.shell_socket, self.shell_port)\n",
      "                      ^^^^^^^^^^^^^^^^^^^^^^^^^^^^^^^^^^^^^^^^^^^^^^^^^^^^^\n",
      "  File \"/opt/anaconda3/lib/python3.12/site-packages/ipykernel/kernelapp.py\", line 253, in _bind_socket\n",
      "    return self._try_bind_socket(s, port)\n",
      "           ^^^^^^^^^^^^^^^^^^^^^^^^^^^^^^\n",
      "  File \"/opt/anaconda3/lib/python3.12/site-packages/ipykernel/kernelapp.py\", line 229, in _try_bind_socket\n",
      "    s.bind(\"tcp://%s:%i\" % (self.ip, port))\n",
      "  File \"/opt/anaconda3/lib/python3.12/site-packages/zmq/sugar/socket.py\", line 302, in bind\n",
      "    super().bind(addr)\n",
      "  File \"zmq/backend/cython/socket.pyx\", line 564, in zmq.backend.cython.socket.Socket.bind\n",
      "  File \"zmq/backend/cython/checkrc.pxd\", line 28, in zmq.backend.cython.checkrc._check_rc\n",
      "zmq.error.ZMQError: Address already in use (addr='tcp://127.0.0.1:59477')\n"
     ]
    },
    {
     "ename": "SystemExit",
     "evalue": "1",
     "output_type": "error",
     "traceback": [
      "An exception has occurred, use %tb to see the full traceback.\n",
      "\u001b[0;31mSystemExit\u001b[0m\u001b[0;31m:\u001b[0m 1\n"
     ]
    }
   ],
   "source": [
    "from flask import Flask, jsonify, request\n",
    "\n",
    "app = Flask(__name__)\n",
    "\n",
    "users = [{\"id\": 1, \"name\": \"John\"}, {\"id\": 2, \"name\": \"Jane\"}]\n",
    "\n",
    "@app.route('/api/users', methods=['GET', 'POST'])\n",
    "def handle_users():\n",
    "    if request.method == 'POST':\n",
    "        new_user = request.get_json()\n",
    "        users.append(new_user)\n",
    "        return jsonify(new_user), 201\n",
    "    else:\n",
    "        return jsonify(users), 200\n",
    "\n",
    "@app.route('/api/users/<int:user_id>', methods=['GET', 'PUT', 'DELETE'])\n",
    "def handle_user(user_id):\n",
    "    user = next((u for u in users if u[\"id\"] == user_id), None)\n",
    "    if not user:\n",
    "        return jsonify({\"error\": \"User not found\"}), 404\n",
    "\n",
    "    if request.method == 'GET':\n",
    "        return jsonify(user), 200\n",
    "    elif request.method == 'PUT':\n",
    "        updated_data = request.get_json()\n",
    "        user.update(updated_data)\n",
    "        return jsonify(user), 200\n",
    "    elif request.method == 'DELETE':\n",
    "        users.remove(user)\n",
    "        return '', 204\n",
    "\n",
    "if __name__ == '__main__':\n",
    "    app.run(debug=True)\n"
   ]
  },
  {
   "cell_type": "markdown",
   "id": "c7fd66d9-7185-4450-9b69-45e7883cfa9c",
   "metadata": {},
   "source": [
    "Test the REST Communication:\n",
    "GET all users: curl http://127.0.0.1:5000/api/users\n",
    "POST a new user: curl -X POST -H \"Content-Type: application/json\" -d '{\"id\": 3, \"name\": \"Alice\"}' http://127.0.0.1:5000/api/users\n",
    "GET a specific user: curl http://127.0.0.1:5000/api/users/1\n",
    "PUT (update) a user: curl -X PUT -H \"Content-Type: application/json\" -d '{\"name\": \"Johnny\"}' http://127.0.0.1:5000/api/users/1\n",
    "DELETE a user: curl -X DELETE http://127.0.0.1:5000/api/users/1"
   ]
  },
  {
   "cell_type": "code",
   "execution_count": null,
   "id": "cabab868-1fd2-409d-ba18-449be7750747",
   "metadata": {},
   "outputs": [],
   "source": []
  },
  {
   "cell_type": "markdown",
   "id": "43a244d7-f046-416b-a1d0-e020cc87f782",
   "metadata": {},
   "source": [
    "Question 25: What are the common data formats used in RESTful API communication?"
   ]
  },
  {
   "cell_type": "code",
   "execution_count": 89,
   "id": "e396a2b2-a204-44b2-9df1-fb6a1dade153",
   "metadata": {},
   "outputs": [],
   "source": [
    "#Answer"
   ]
  },
  {
   "cell_type": "markdown",
   "id": "d8390e41-56cc-496c-8135-c451c9f2eb79",
   "metadata": {},
   "source": [
    "Common Data Formats:\n",
    "\n",
    "JSON (JavaScript Object Notation):\n",
    "\n",
    "Most widely used format due to its simplicity and ease of use with JavaScript."
   ]
  },
  {
   "cell_type": "code",
   "execution_count": 50,
   "id": "166b7634-c823-4f46-a941-14e348181c3b",
   "metadata": {},
   "outputs": [
    {
     "data": {
      "text/plain": [
       "{'id': 1, 'name': 'John'}"
      ]
     },
     "execution_count": 50,
     "metadata": {},
     "output_type": "execute_result"
    }
   ],
   "source": [
    "{\n",
    "    \"id\": 1,\n",
    "    \"name\": \"John\"\n",
    "}\n"
   ]
  },
  {
   "cell_type": "markdown",
   "id": "e26bf5f3-d837-46fc-9e7c-096d5032b8f6",
   "metadata": {},
   "source": [
    "XML (eXtensible Markup Language):\n",
    "\n",
    "Used when a more rigid structure and validation are required."
   ]
  },
  {
   "cell_type": "markdown",
   "id": "cb740ef4-6668-4c92-a803-f81a29336564",
   "metadata": {},
   "source": [
    "<user>\n",
    "    <id>1</id>\n",
    "    <name>John</name>\n",
    "</user>\n"
   ]
  },
  {
   "cell_type": "markdown",
   "id": "0a1a22ff-c829-49aa-9ed2-562f2543ff14",
   "metadata": {},
   "source": [
    "YAML (YAML Ain't Markup Language):\n",
    "\n",
    "Human-readable data format often used for configuration files."
   ]
  },
  {
   "cell_type": "markdown",
   "id": "95b96eb9-4085-4892-9e7b-ee33ce5106f9",
   "metadata": {},
   "source": [
    "id: 1\n",
    "name: John\n"
   ]
  },
  {
   "cell_type": "markdown",
   "id": "5147c76a-9257-400c-a98c-5b8d1e31fd25",
   "metadata": {},
   "source": [
    "Let's create a Flask application that can respond with JSON and XML."
   ]
  },
  {
   "cell_type": "code",
   "execution_count": 61,
   "id": "ae425c12-2943-4b0d-bab8-8c15bf9e19ef",
   "metadata": {},
   "outputs": [
    {
     "ename": "ModuleNotFoundError",
     "evalue": "No module named 'dicttoxml'",
     "output_type": "error",
     "traceback": [
      "\u001b[0;31m---------------------------------------------------------------------------\u001b[0m",
      "\u001b[0;31mModuleNotFoundError\u001b[0m                       Traceback (most recent call last)",
      "Cell \u001b[0;32mIn[61], line 2\u001b[0m\n\u001b[1;32m      1\u001b[0m \u001b[38;5;28;01mfrom\u001b[39;00m \u001b[38;5;21;01mflask\u001b[39;00m \u001b[38;5;28;01mimport\u001b[39;00m Flask, jsonify, request, Response\n\u001b[0;32m----> 2\u001b[0m \u001b[38;5;28;01mimport\u001b[39;00m \u001b[38;5;21;01mdicttoxml\u001b[39;00m\n\u001b[1;32m      4\u001b[0m app \u001b[38;5;241m=\u001b[39m Flask(\u001b[38;5;18m__name__\u001b[39m)\n\u001b[1;32m      6\u001b[0m users \u001b[38;5;241m=\u001b[39m [{\u001b[38;5;124m\"\u001b[39m\u001b[38;5;124mid\u001b[39m\u001b[38;5;124m\"\u001b[39m: \u001b[38;5;241m1\u001b[39m, \u001b[38;5;124m\"\u001b[39m\u001b[38;5;124mname\u001b[39m\u001b[38;5;124m\"\u001b[39m: \u001b[38;5;124m\"\u001b[39m\u001b[38;5;124mJohn\u001b[39m\u001b[38;5;124m\"\u001b[39m}, {\u001b[38;5;124m\"\u001b[39m\u001b[38;5;124mid\u001b[39m\u001b[38;5;124m\"\u001b[39m: \u001b[38;5;241m2\u001b[39m, \u001b[38;5;124m\"\u001b[39m\u001b[38;5;124mname\u001b[39m\u001b[38;5;124m\"\u001b[39m: \u001b[38;5;124m\"\u001b[39m\u001b[38;5;124mJane\u001b[39m\u001b[38;5;124m\"\u001b[39m}]\n",
      "\u001b[0;31mModuleNotFoundError\u001b[0m: No module named 'dicttoxml'"
     ]
    }
   ],
   "source": [
    "from flask import Flask, jsonify, request, Response\n",
    "import dicttoxml\n",
    "\n",
    "app = Flask(__name__)\n",
    "\n",
    "users = [{\"id\": 1, \"name\": \"John\"}, {\"id\": 2, \"name\": \"Jane\"}]\n",
    "\n",
    "@app.route('/api/users', methods=['GET'])\n",
    "def get_users():\n",
    "    accept = request.headers.get('Accept')\n",
    "    if accept == 'application/xml':\n",
    "        xml_users = dicttoxml.dicttoxml(users)\n",
    "        return Response(xml_users, mimetype='application/xml')\n",
    "    return jsonify(users), 200\n",
    "\n",
    "if __name__ == '__main__':\n",
    "    app.run(debug=True)\n"
   ]
  },
  {
   "cell_type": "code",
   "execution_count": null,
   "id": "c3dbcadf-1ac1-4aa8-8f08-cd9b66eee2a0",
   "metadata": {},
   "outputs": [],
   "source": []
  },
  {
   "cell_type": "markdown",
   "id": "65e83efa-d82f-40db-a977-9b9e9289215a",
   "metadata": {},
   "source": [
    "Question 26: Explain the importance of status codes in RESTful API responses."
   ]
  },
  {
   "cell_type": "code",
   "execution_count": 91,
   "id": "fa14e58e-9717-4199-878a-3a7feea606d1",
   "metadata": {},
   "outputs": [],
   "source": [
    "#Answer"
   ]
  },
  {
   "cell_type": "markdown",
   "id": "b2191aa2-c9f5-41eb-af1c-ddb42547c511",
   "metadata": {},
   "source": [
    "Status codes in RESTful APIs indicate the result of the client's request and help the client understand what action to take next. They follow the standard HTTP status code definitions:\n",
    "\n",
    "2xx Success: Indicates the request was successfully processed.\n",
    "3xx Redirection: Informs the client that further action is needed.\n",
    "4xx Client Errors: The request contains bad syntax or cannot be fulfilled.\n",
    "5xx Server Errors: The server failed to fulfill a valid request."
   ]
  },
  {
   "cell_type": "code",
   "execution_count": 13,
   "id": "b04079e3-9c35-41e7-8f0c-0c941b312828",
   "metadata": {},
   "outputs": [
    {
     "name": "stdout",
     "output_type": "stream",
     "text": [
      " * Serving Flask app '__main__'\n",
      " * Debug mode: on\n"
     ]
    },
    {
     "name": "stderr",
     "output_type": "stream",
     "text": [
      "WARNING: This is a development server. Do not use it in a production deployment. Use a production WSGI server instead.\n",
      " * Running on http://127.0.0.1:5000\n",
      "Press CTRL+C to quit\n",
      " * Restarting with watchdog (fsevents)\n",
      "0.00s - Debugger warning: It seems that frozen modules are being used, which may\n",
      "0.00s - make the debugger miss breakpoints. Please pass -Xfrozen_modules=off\n",
      "0.00s - to python to disable frozen modules.\n",
      "0.00s - Note: Debugging will proceed. Set PYDEVD_DISABLE_FILE_VALIDATION=1 to disable this validation.\n",
      "Traceback (most recent call last):\n",
      "  File \"<frozen runpy>\", line 198, in _run_module_as_main\n",
      "  File \"<frozen runpy>\", line 88, in _run_code\n",
      "  File \"/opt/anaconda3/lib/python3.12/site-packages/ipykernel_launcher.py\", line 17, in <module>\n",
      "    app.launch_new_instance()\n",
      "  File \"/opt/anaconda3/lib/python3.12/site-packages/traitlets/config/application.py\", line 1074, in launch_instance\n",
      "    app.initialize(argv)\n",
      "  File \"/opt/anaconda3/lib/python3.12/site-packages/traitlets/config/application.py\", line 118, in inner\n",
      "    return method(app, *args, **kwargs)\n",
      "           ^^^^^^^^^^^^^^^^^^^^^^^^^^^^\n",
      "  File \"/opt/anaconda3/lib/python3.12/site-packages/ipykernel/kernelapp.py\", line 654, in initialize\n",
      "    self.init_sockets()\n",
      "  File \"/opt/anaconda3/lib/python3.12/site-packages/ipykernel/kernelapp.py\", line 331, in init_sockets\n",
      "    self.shell_port = self._bind_socket(self.shell_socket, self.shell_port)\n",
      "                      ^^^^^^^^^^^^^^^^^^^^^^^^^^^^^^^^^^^^^^^^^^^^^^^^^^^^^\n",
      "  File \"/opt/anaconda3/lib/python3.12/site-packages/ipykernel/kernelapp.py\", line 253, in _bind_socket\n",
      "    return self._try_bind_socket(s, port)\n",
      "           ^^^^^^^^^^^^^^^^^^^^^^^^^^^^^^\n",
      "  File \"/opt/anaconda3/lib/python3.12/site-packages/ipykernel/kernelapp.py\", line 229, in _try_bind_socket\n",
      "    s.bind(\"tcp://%s:%i\" % (self.ip, port))\n",
      "  File \"/opt/anaconda3/lib/python3.12/site-packages/zmq/sugar/socket.py\", line 302, in bind\n",
      "    super().bind(addr)\n",
      "  File \"zmq/backend/cython/socket.pyx\", line 564, in zmq.backend.cython.socket.Socket.bind\n",
      "  File \"zmq/backend/cython/checkrc.pxd\", line 28, in zmq.backend.cython.checkrc._check_rc\n",
      "zmq.error.ZMQError: Address already in use (addr='tcp://127.0.0.1:58315')\n"
     ]
    },
    {
     "ename": "SystemExit",
     "evalue": "1",
     "output_type": "error",
     "traceback": [
      "An exception has occurred, use %tb to see the full traceback.\n",
      "\u001b[0;31mSystemExit\u001b[0m\u001b[0;31m:\u001b[0m 1\n"
     ]
    }
   ],
   "source": [
    "from flask import Flask, jsonify, request\n",
    "\n",
    "app = Flask(__name__)\n",
    "\n",
    "@app.route('/api/resource/<int:id>', methods=['GET'])\n",
    "def get_resource(id):\n",
    "    if id == 1:\n",
    "        return jsonify({\"id\": 1, \"name\": \"Resource 1\"}), 200  # OK\n",
    "    else:\n",
    "        return jsonify({\"error\": \"Resource not found\"}), 404  # Not Found\n",
    "\n",
    "if __name__ == '__main__':\n",
    "    app.run(debug=True)\n"
   ]
  },
  {
   "cell_type": "code",
   "execution_count": null,
   "id": "58f3b206-e625-477b-ae19-6c0fc1a0a45b",
   "metadata": {},
   "outputs": [],
   "source": []
  },
  {
   "cell_type": "markdown",
   "id": "69677231-ac76-4d39-befe-d3240a21d32a",
   "metadata": {},
   "source": [
    "Question 27: Describe the process of versioning in RESTful API development."
   ]
  },
  {
   "cell_type": "code",
   "execution_count": 93,
   "id": "5e9af31c-834e-407a-918f-785e25064e05",
   "metadata": {},
   "outputs": [],
   "source": [
    "#Answer"
   ]
  },
  {
   "cell_type": "markdown",
   "id": "075d0282-134c-42dc-9ca1-2442dabf99e1",
   "metadata": {},
   "source": [
    "Versioning in RESTful APIs allows you to make changes to the API without breaking existing clients. A common approach is to include the version number in the URL."
   ]
  },
  {
   "cell_type": "code",
   "execution_count": 2,
   "id": "93ba4295-dd14-4a6b-9b7d-45e2739ec369",
   "metadata": {},
   "outputs": [
    {
     "name": "stdout",
     "output_type": "stream",
     "text": [
      " * Serving Flask app '__main__'\n",
      " * Debug mode: on\n"
     ]
    },
    {
     "name": "stderr",
     "output_type": "stream",
     "text": [
      "WARNING: This is a development server. Do not use it in a production deployment. Use a production WSGI server instead.\n",
      " * Running on http://127.0.0.1:5000\n",
      "Press CTRL+C to quit\n",
      " * Restarting with watchdog (fsevents)\n",
      "0.00s - Debugger warning: It seems that frozen modules are being used, which may\n",
      "0.00s - make the debugger miss breakpoints. Please pass -Xfrozen_modules=off\n",
      "0.00s - to python to disable frozen modules.\n",
      "0.00s - Note: Debugging will proceed. Set PYDEVD_DISABLE_FILE_VALIDATION=1 to disable this validation.\n",
      "Traceback (most recent call last):\n",
      "  File \"<frozen runpy>\", line 198, in _run_module_as_main\n",
      "  File \"<frozen runpy>\", line 88, in _run_code\n",
      "  File \"/opt/anaconda3/lib/python3.12/site-packages/ipykernel_launcher.py\", line 17, in <module>\n",
      "    app.launch_new_instance()\n",
      "  File \"/opt/anaconda3/lib/python3.12/site-packages/traitlets/config/application.py\", line 1074, in launch_instance\n",
      "    app.initialize(argv)\n",
      "  File \"/opt/anaconda3/lib/python3.12/site-packages/traitlets/config/application.py\", line 118, in inner\n",
      "    return method(app, *args, **kwargs)\n",
      "           ^^^^^^^^^^^^^^^^^^^^^^^^^^^^\n",
      "  File \"/opt/anaconda3/lib/python3.12/site-packages/ipykernel/kernelapp.py\", line 654, in initialize\n",
      "    self.init_sockets()\n",
      "  File \"/opt/anaconda3/lib/python3.12/site-packages/ipykernel/kernelapp.py\", line 331, in init_sockets\n",
      "    self.shell_port = self._bind_socket(self.shell_socket, self.shell_port)\n",
      "                      ^^^^^^^^^^^^^^^^^^^^^^^^^^^^^^^^^^^^^^^^^^^^^^^^^^^^^\n",
      "  File \"/opt/anaconda3/lib/python3.12/site-packages/ipykernel/kernelapp.py\", line 253, in _bind_socket\n",
      "    return self._try_bind_socket(s, port)\n",
      "           ^^^^^^^^^^^^^^^^^^^^^^^^^^^^^^\n",
      "  File \"/opt/anaconda3/lib/python3.12/site-packages/ipykernel/kernelapp.py\", line 229, in _try_bind_socket\n",
      "    s.bind(\"tcp://%s:%i\" % (self.ip, port))\n",
      "  File \"/opt/anaconda3/lib/python3.12/site-packages/zmq/sugar/socket.py\", line 302, in bind\n",
      "    super().bind(addr)\n",
      "  File \"zmq/backend/cython/socket.pyx\", line 564, in zmq.backend.cython.socket.Socket.bind\n",
      "  File \"zmq/backend/cython/checkrc.pxd\", line 28, in zmq.backend.cython.checkrc._check_rc\n",
      "zmq.error.ZMQError: Address already in use (addr='tcp://127.0.0.1:58315')\n"
     ]
    },
    {
     "ename": "SystemExit",
     "evalue": "1",
     "output_type": "error",
     "traceback": [
      "An exception has occurred, use %tb to see the full traceback.\n",
      "\u001b[0;31mSystemExit\u001b[0m\u001b[0;31m:\u001b[0m 1\n"
     ]
    },
    {
     "name": "stderr",
     "output_type": "stream",
     "text": [
      "/opt/anaconda3/lib/python3.12/site-packages/IPython/core/interactiveshell.py:3585: UserWarning: To exit: use 'exit', 'quit', or Ctrl-D.\n",
      "  warn(\"To exit: use 'exit', 'quit', or Ctrl-D.\", stacklevel=1)\n"
     ]
    }
   ],
   "source": [
    "from flask import Flask, jsonify\n",
    "\n",
    "app = Flask(__name__)\n",
    "\n",
    "# Version 1 of the API\n",
    "@app.route('/api/v1/greeting', methods=['GET'])\n",
    "def greeting_v1():\n",
    "    return jsonify({\"message\": \"Hello, World!\"})\n",
    "\n",
    "# Version 2 of the API with some changes\n",
    "@app.route('/api/v2/greeting', methods=['GET'])\n",
    "def greeting_v2():\n",
    "    return jsonify({\"message\": \"Hi, Universe!\"})\n",
    "\n",
    "if __name__ == '__main__':\n",
    "    app.run(debug=True)\n"
   ]
  },
  {
   "cell_type": "code",
   "execution_count": null,
   "id": "119e7cfe-8d00-44d5-b78b-1c0667b2fb8d",
   "metadata": {},
   "outputs": [],
   "source": []
  },
  {
   "cell_type": "markdown",
   "id": "82af747c-1b22-43b6-b871-9b6458884d47",
   "metadata": {},
   "source": [
    "Question 28: How can you ensure security in RESTful API development? What are common authentication methods?"
   ]
  },
  {
   "cell_type": "code",
   "execution_count": 95,
   "id": "a3eb33da-0b60-4508-9d6f-9648772fe79b",
   "metadata": {},
   "outputs": [],
   "source": [
    "#Answer"
   ]
  },
  {
   "cell_type": "markdown",
   "id": "faab1dc3-ed72-4db2-88e6-6d60cbc2f19e",
   "metadata": {},
   "source": [
    "Securing a RESTful API involves various strategies, including authentication, encryption, and rate limiting."
   ]
  },
  {
   "cell_type": "code",
   "execution_count": 5,
   "id": "e023df87-af21-41ba-ac75-c734c7100def",
   "metadata": {},
   "outputs": [
    {
     "name": "stdout",
     "output_type": "stream",
     "text": [
      " * Serving Flask app '__main__'\n",
      " * Debug mode: on\n"
     ]
    },
    {
     "name": "stderr",
     "output_type": "stream",
     "text": [
      "WARNING: This is a development server. Do not use it in a production deployment. Use a production WSGI server instead.\n",
      " * Running on http://127.0.0.1:5000\n",
      "Press CTRL+C to quit\n",
      " * Restarting with watchdog (fsevents)\n",
      "0.00s - Debugger warning: It seems that frozen modules are being used, which may\n",
      "0.00s - make the debugger miss breakpoints. Please pass -Xfrozen_modules=off\n",
      "0.00s - to python to disable frozen modules.\n",
      "0.00s - Note: Debugging will proceed. Set PYDEVD_DISABLE_FILE_VALIDATION=1 to disable this validation.\n",
      "Traceback (most recent call last):\n",
      "  File \"<frozen runpy>\", line 198, in _run_module_as_main\n",
      "  File \"<frozen runpy>\", line 88, in _run_code\n",
      "  File \"/opt/anaconda3/lib/python3.12/site-packages/ipykernel_launcher.py\", line 17, in <module>\n",
      "    app.launch_new_instance()\n",
      "  File \"/opt/anaconda3/lib/python3.12/site-packages/traitlets/config/application.py\", line 1074, in launch_instance\n",
      "    app.initialize(argv)\n",
      "  File \"/opt/anaconda3/lib/python3.12/site-packages/traitlets/config/application.py\", line 118, in inner\n",
      "    return method(app, *args, **kwargs)\n",
      "           ^^^^^^^^^^^^^^^^^^^^^^^^^^^^\n",
      "  File \"/opt/anaconda3/lib/python3.12/site-packages/ipykernel/kernelapp.py\", line 654, in initialize\n",
      "    self.init_sockets()\n",
      "  File \"/opt/anaconda3/lib/python3.12/site-packages/ipykernel/kernelapp.py\", line 331, in init_sockets\n",
      "    self.shell_port = self._bind_socket(self.shell_socket, self.shell_port)\n",
      "                      ^^^^^^^^^^^^^^^^^^^^^^^^^^^^^^^^^^^^^^^^^^^^^^^^^^^^^\n",
      "  File \"/opt/anaconda3/lib/python3.12/site-packages/ipykernel/kernelapp.py\", line 253, in _bind_socket\n",
      "    return self._try_bind_socket(s, port)\n",
      "           ^^^^^^^^^^^^^^^^^^^^^^^^^^^^^^\n",
      "  File \"/opt/anaconda3/lib/python3.12/site-packages/ipykernel/kernelapp.py\", line 229, in _try_bind_socket\n",
      "    s.bind(\"tcp://%s:%i\" % (self.ip, port))\n",
      "  File \"/opt/anaconda3/lib/python3.12/site-packages/zmq/sugar/socket.py\", line 302, in bind\n",
      "    super().bind(addr)\n",
      "  File \"zmq/backend/cython/socket.pyx\", line 564, in zmq.backend.cython.socket.Socket.bind\n",
      "  File \"zmq/backend/cython/checkrc.pxd\", line 28, in zmq.backend.cython.checkrc._check_rc\n",
      "zmq.error.ZMQError: Address already in use (addr='tcp://127.0.0.1:58315')\n"
     ]
    },
    {
     "ename": "SystemExit",
     "evalue": "1",
     "output_type": "error",
     "traceback": [
      "An exception has occurred, use %tb to see the full traceback.\n",
      "\u001b[0;31mSystemExit\u001b[0m\u001b[0;31m:\u001b[0m 1\n"
     ]
    }
   ],
   "source": [
    "from flask import Flask, jsonify, request, abort\n",
    "\n",
    "app = Flask(__name__)\n",
    "\n",
    "# Mock database of users\n",
    "users = {\n",
    "    \"user1\": \"token123\",\n",
    "    \"user2\": \"token456\"\n",
    "}\n",
    "\n",
    "# Authentication decorator\n",
    "def token_required(f):\n",
    "    def decorated_function(*args, **kwargs):\n",
    "        token = request.headers.get('Authorization')\n",
    "        if not token or token not in users.values():\n",
    "            abort(401)  # Unauthorized\n",
    "        return f(*args, **kwargs)\n",
    "    return decorated_function\n",
    "\n",
    "@app.route('/api/data', methods=['GET'])\n",
    "@token_required\n",
    "def get_data():\n",
    "    return jsonify({\"data\": \"Secure data\"})\n",
    "\n",
    "if __name__ == '__main__':\n",
    "    app.run(debug=True)\n"
   ]
  },
  {
   "cell_type": "code",
   "execution_count": null,
   "id": "2a57ae4f-b198-4040-b92c-999a518aca11",
   "metadata": {},
   "outputs": [],
   "source": []
  },
  {
   "cell_type": "markdown",
   "id": "162b12f1-287b-4688-a6c9-34054c5507cc",
   "metadata": {},
   "source": [
    "Question 29: What are some best practices for documenting RESTful APIs?"
   ]
  },
  {
   "cell_type": "code",
   "execution_count": 97,
   "id": "903460a9-ce94-480f-a934-a401efe8f573",
   "metadata": {},
   "outputs": [],
   "source": [
    "#Answer"
   ]
  },
  {
   "cell_type": "markdown",
   "id": "3a8b3bf2-e30b-4a52-8e0d-46e9156a7344",
   "metadata": {},
   "source": [
    "Proper documentation helps developers understand how to use the API. Here are some best practices:\n",
    "\n",
    "Use OpenAPI/Swagger: Tools like Swagger help generate interactive API documentation.\n",
    "Provide Examples: Include request and response examples for each endpoint.\n",
    "Explain Parameters: Clearly document query parameters, path parameters, headers, and body data.\n",
    "Version Documentation: Maintain separate documentation for each version of your API.\n",
    "List Error Codes: Document all possible error responses with descriptions.\n"
   ]
  },
  {
   "cell_type": "code",
   "execution_count": null,
   "id": "7ffacedf-654a-43d4-a23a-44c266b7f67e",
   "metadata": {},
   "outputs": [],
   "source": []
  },
  {
   "cell_type": "markdown",
   "id": "16861c4b-2fb7-49ca-8c16-a9af50561ae3",
   "metadata": {},
   "source": [
    "Question 30: What considerations should be made for error handling in RESTful APIs?"
   ]
  },
  {
   "cell_type": "code",
   "execution_count": 99,
   "id": "78fa98c9-791e-460a-9cb6-ef4369ec982e",
   "metadata": {},
   "outputs": [],
   "source": [
    "#Answer"
   ]
  },
  {
   "cell_type": "markdown",
   "id": "b3a04e3a-80c0-407f-9341-0da96186dfb1",
   "metadata": {},
   "source": [
    "Effective error handling in RESTful APIs ensures that clients receive meaningful feedback when something goes wrong. Consider the following:\n",
    "\n",
    "Use Appropriate Status Codes: Ensure that each error response uses the correct HTTP status code.\n",
    "Provide Clear Error Messages: Include a message that clearly explains the error.\n",
    "Structure Error Responses: Use a consistent structure for all error responses, such as:"
   ]
  },
  {
   "cell_type": "code",
   "execution_count": 16,
   "id": "98f267c7-94c6-44d7-ba17-2f8311ddc58e",
   "metadata": {},
   "outputs": [
    {
     "data": {
      "text/plain": [
       "{'error': {'code': 400,\n",
       "  'message': 'Bad Request',\n",
       "  'details': 'Username is required'}}"
      ]
     },
     "execution_count": 16,
     "metadata": {},
     "output_type": "execute_result"
    }
   ],
   "source": [
    "{\n",
    "  \"error\": {\n",
    "    \"code\": 400,\n",
    "    \"message\": \"Bad Request\",\n",
    "    \"details\": \"Username is required\"\n",
    "  }\n",
    "}\n"
   ]
  },
  {
   "cell_type": "markdown",
   "id": "e925611e-9610-4155-80d4-dcb049bf890a",
   "metadata": {},
   "source": [
    "Log Errors: Log errors on the server side for monitoring and debugging.\n",
    "Handle Common Errors: Anticipate and handle common errors like 404 Not Found, 400 Bad Request, and 500 Internal Server Error."
   ]
  },
  {
   "cell_type": "code",
   "execution_count": 19,
   "id": "4599527c-bf7d-4cd0-aeb0-79d03c1bbe90",
   "metadata": {},
   "outputs": [
    {
     "name": "stdout",
     "output_type": "stream",
     "text": [
      " * Serving Flask app '__main__'\n",
      " * Debug mode: on\n"
     ]
    },
    {
     "name": "stderr",
     "output_type": "stream",
     "text": [
      "WARNING: This is a development server. Do not use it in a production deployment. Use a production WSGI server instead.\n",
      " * Running on http://127.0.0.1:5000\n",
      "Press CTRL+C to quit\n",
      " * Restarting with watchdog (fsevents)\n",
      "0.00s - Debugger warning: It seems that frozen modules are being used, which may\n",
      "0.00s - make the debugger miss breakpoints. Please pass -Xfrozen_modules=off\n",
      "0.00s - to python to disable frozen modules.\n",
      "0.00s - Note: Debugging will proceed. Set PYDEVD_DISABLE_FILE_VALIDATION=1 to disable this validation.\n",
      "Traceback (most recent call last):\n",
      "  File \"<frozen runpy>\", line 198, in _run_module_as_main\n",
      "  File \"<frozen runpy>\", line 88, in _run_code\n",
      "  File \"/opt/anaconda3/lib/python3.12/site-packages/ipykernel_launcher.py\", line 17, in <module>\n",
      "    app.launch_new_instance()\n",
      "  File \"/opt/anaconda3/lib/python3.12/site-packages/traitlets/config/application.py\", line 1074, in launch_instance\n",
      "    app.initialize(argv)\n",
      "  File \"/opt/anaconda3/lib/python3.12/site-packages/traitlets/config/application.py\", line 118, in inner\n",
      "    return method(app, *args, **kwargs)\n",
      "           ^^^^^^^^^^^^^^^^^^^^^^^^^^^^\n",
      "  File \"/opt/anaconda3/lib/python3.12/site-packages/ipykernel/kernelapp.py\", line 654, in initialize\n",
      "    self.init_sockets()\n",
      "  File \"/opt/anaconda3/lib/python3.12/site-packages/ipykernel/kernelapp.py\", line 331, in init_sockets\n",
      "    self.shell_port = self._bind_socket(self.shell_socket, self.shell_port)\n",
      "                      ^^^^^^^^^^^^^^^^^^^^^^^^^^^^^^^^^^^^^^^^^^^^^^^^^^^^^\n",
      "  File \"/opt/anaconda3/lib/python3.12/site-packages/ipykernel/kernelapp.py\", line 253, in _bind_socket\n",
      "    return self._try_bind_socket(s, port)\n",
      "           ^^^^^^^^^^^^^^^^^^^^^^^^^^^^^^\n",
      "  File \"/opt/anaconda3/lib/python3.12/site-packages/ipykernel/kernelapp.py\", line 229, in _try_bind_socket\n",
      "    s.bind(\"tcp://%s:%i\" % (self.ip, port))\n",
      "  File \"/opt/anaconda3/lib/python3.12/site-packages/zmq/sugar/socket.py\", line 302, in bind\n",
      "    super().bind(addr)\n",
      "  File \"zmq/backend/cython/socket.pyx\", line 564, in zmq.backend.cython.socket.Socket.bind\n",
      "  File \"zmq/backend/cython/checkrc.pxd\", line 28, in zmq.backend.cython.checkrc._check_rc\n",
      "zmq.error.ZMQError: Address already in use (addr='tcp://127.0.0.1:58315')\n"
     ]
    },
    {
     "ename": "SystemExit",
     "evalue": "1",
     "output_type": "error",
     "traceback": [
      "An exception has occurred, use %tb to see the full traceback.\n",
      "\u001b[0;31mSystemExit\u001b[0m\u001b[0;31m:\u001b[0m 1\n"
     ]
    }
   ],
   "source": [
    "from flask import Flask, jsonify, request\n",
    "\n",
    "app = Flask(__name__)\n",
    "\n",
    "@app.errorhandler(400)\n",
    "def bad_request(error):\n",
    "    return jsonify({\"error\": {\"code\": 400, \"message\": \"Bad Request\"}}), 400\n",
    "\n",
    "@app.errorhandler(404)\n",
    "def not_found(error):\n",
    "    return jsonify({\"error\": {\"code\": 404, \"message\": \"Resource Not Found\"}}), 404\n",
    "\n",
    "@app.route('/api/resource', methods=['POST'])\n",
    "def create_resource():\n",
    "    if not request.json or 'name' not in request.json:\n",
    "        return bad_request(400)\n",
    "    return jsonify({\"message\": \"Resource created\"}), 201  # Created\n",
    "\n",
    "if __name__ == '__main__':\n",
    "    app.run(debug=True)\n"
   ]
  },
  {
   "cell_type": "code",
   "execution_count": null,
   "id": "f3013f0e-96f4-441b-a078-4bec02b44177",
   "metadata": {},
   "outputs": [],
   "source": []
  },
  {
   "cell_type": "markdown",
   "id": "fee417c0-9a2a-4f71-adc8-7d9e01e8757d",
   "metadata": {},
   "source": [
    "Question 31: What is SOAP, and how does it differ from REST?"
   ]
  },
  {
   "cell_type": "code",
   "execution_count": 101,
   "id": "5ca207e4-df74-4914-9842-a773f4fae46c",
   "metadata": {},
   "outputs": [],
   "source": [
    "#Answer"
   ]
  },
  {
   "cell_type": "markdown",
   "id": "9a0dd40c-57d7-4989-bd1f-05637f839e46",
   "metadata": {},
   "source": [
    "SOAP (Simple Object Access Protocol) is a protocol for exchanging structured information in the implementation of web services. It uses XML for message format and relies on other application layer protocols like HTTP or SMTP for message negotiation and transmission.\n",
    "\n",
    "Differences between SOAP and REST:\n",
    "\n",
    "Protocol vs. Architecture: SOAP is a protocol with strict standards, while REST is an architectural style with more flexibility.\n",
    "Message Format: SOAP uses XML exclusively, while REST can use various formats like JSON, XML, HTML, or plain text.\n",
    "Complexity: SOAP is more complex and often requires more overhead, while REST is simpler and more lightweight.\n",
    "Stateful vs. Stateless: SOAP can be either stateless or stateful, whereas REST is typically stateless.\n",
    "Use Cases: SOAP is preferred for scenarios requiring strict standards, security (e.g., WS-Security), and complex transactions, while REST is commonly used for web APIs due to its simplicity and performance."
   ]
  },
  {
   "cell_type": "code",
   "execution_count": null,
   "id": "f1d11302-f4e2-45fd-98f2-167f3272e885",
   "metadata": {},
   "outputs": [],
   "source": []
  },
  {
   "cell_type": "markdown",
   "id": "330dd848-a9ea-45e8-926d-4c8434296976",
   "metadata": {},
   "source": [
    "Question 32: Describe the structure of a SOAP message."
   ]
  },
  {
   "cell_type": "code",
   "execution_count": 103,
   "id": "57e44154-a13c-4f41-be25-085c8bc297cb",
   "metadata": {},
   "outputs": [],
   "source": [
    "#Answer"
   ]
  },
  {
   "cell_type": "markdown",
   "id": "0813e53b-ff98-446b-87e7-aa4ac66036f6",
   "metadata": {},
   "source": [
    "A SOAP message is an XML-based protocol with a standardized structure consisting of the following elements:\n",
    "\n",
    "Envelope: The root element that defines the start and end of the message. It contains the header and body elements.\n",
    "Header (Optional): Contains metadata about the message, such as security information or transaction controls.\n",
    "Body: The main content of the message, which includes the request or response information.\n",
    "Fault (Optional): An element within the body that provides error and status information if the message processing fails.\n"
   ]
  },
  {
   "cell_type": "markdown",
   "id": "b08a1a44-01a7-4a64-a818-b1b8f6e8ef99",
   "metadata": {},
   "source": [
    "<soap:Envelope xmlns:soap=\"http://www.w3.org/2003/05/soap-envelope\">\n",
    "    <soap:Header>\n",
    "        <auth:Security xmlns:auth=\"http://example.org/security\">\n",
    "            <auth:UsernameToken>\n",
    "                <auth:Username>user</auth:Username>\n",
    "                <auth:Password>password</auth:Password>\n",
    "            </auth:UsernameToken>\n",
    "        </auth:Security>\n",
    "    </soap:Header>\n",
    "    <soap:Body>\n",
    "        <m:GetData xmlns:m=\"http://example.org/data\">\n",
    "            <m:Request>\n",
    "                <m:DataId>123</m:DataId>\n",
    "            </m:Request>\n",
    "        </m:GetData>\n",
    "    </soap:Body>\n",
    "</soap:Envelope>\n"
   ]
  },
  {
   "cell_type": "code",
   "execution_count": null,
   "id": "68d8f92b-af74-447d-b67a-0c294a4e901d",
   "metadata": {},
   "outputs": [],
   "source": []
  },
  {
   "cell_type": "markdown",
   "id": "01c43979-d559-476a-8e18-3fd36f302c61",
   "metadata": {},
   "source": [
    "Question 33: How does SOAP handle communication between clients and servers?"
   ]
  },
  {
   "cell_type": "code",
   "execution_count": 105,
   "id": "65e01e2f-e5c8-4039-8cc2-b5fdd8e71fd0",
   "metadata": {},
   "outputs": [],
   "source": [
    "#Answer"
   ]
  },
  {
   "cell_type": "markdown",
   "id": "2ade61cf-ba99-4ccc-84cd-df0db1ee724e",
   "metadata": {},
   "source": [
    "SOAP (Simple Object Access Protocol) handles communication between clients and servers through a standardized XML-based messaging protocol. Here’s how the communication process typically works:\n",
    "\n",
    "Client Sends a Request: The client generates a SOAP request, which is an XML document that includes the method (or operation) the client wants to invoke and the necessary parameters. This request is then sent to the server over a transport protocol like HTTP, SMTP, or TCP.\n",
    "\n",
    "Server Processes the Request: The server receives the SOAP request and processes it based on the operation specified in the XML. The server typically unmarshals the XML into a native data structure that the server-side application can work with.\n",
    "\n",
    "Server Sends a Response: After processing the request, the server generates a SOAP response, also in XML format, containing the result of the operation. This response is sent back to the client.\n",
    "\n",
    "Client Receives the Response: The client receives the SOAP response and processes it. The client unmarshals the XML response into a data structure or object that the application can use."
   ]
  },
  {
   "cell_type": "raw",
   "id": "1d010c3a-28c8-4eb9-8c0e-ac0df99ce3c2",
   "metadata": {},
   "source": [
    "<soap:Envelope xmlns:soap=\"http://www.w3.org/2003/05/soap-envelope\">\n",
    "    <soap:Body>\n",
    "        <m:GetStockPrice xmlns:m=\"http://www.example.org/stock\">\n",
    "            <m:StockName>GOOG</m:StockName>\n",
    "        </m:GetStockPrice>\n",
    "    </soap:Body>\n",
    "</soap:Envelope>\n"
   ]
  },
  {
   "cell_type": "raw",
   "id": "70a92a81-edb9-4e81-808f-9cec85024638",
   "metadata": {},
   "source": [
    "<soap:Envelope xmlns:soap=\"http://www.w3.org/2003/05/soap-envelope\">\n",
    "    <soap:Body>\n",
    "        <m:GetStockPriceResponse xmlns:m=\"http://www.example.org/stock\">\n",
    "            <m:Price>1345.50</m:Price>\n",
    "        </m:GetStockPriceResponse>\n",
    "    </soap:Body>\n",
    "</soap:Envelope>\n"
   ]
  },
  {
   "cell_type": "code",
   "execution_count": null,
   "id": "a4c4c659-3a40-42b2-8570-5021cde2f778",
   "metadata": {},
   "outputs": [],
   "source": []
  },
  {
   "cell_type": "markdown",
   "id": "e42461d4-477e-45f3-b9e4-84d24ec88890",
   "metadata": {},
   "source": [
    "Question 34: What are the advantages and disadvantages of using SOAP-based web services?"
   ]
  },
  {
   "cell_type": "code",
   "execution_count": 107,
   "id": "fdf28fca-5dcf-4c03-bba6-8dab82a7163c",
   "metadata": {},
   "outputs": [],
   "source": [
    "#Answer"
   ]
  },
  {
   "cell_type": "markdown",
   "id": "e353ad12-1b28-43aa-9359-b98fd43c150b",
   "metadata": {},
   "source": [
    "Advantages of SOAP:\n",
    "\n",
    "Protocol Standardization: SOAP is a well-defined protocol with strict standards, making it interoperable across different platforms and programming languages.\n",
    "Built-in Error Handling: SOAP has standardized error handling through the use of Fault elements, which makes debugging easier.\n",
    "Security Features: SOAP supports advanced security features like WS-Security, which provides message integrity, confidentiality, and authentication.\n",
    "Extensibility: SOAP headers can be extended to add additional features such as transaction handling, routing, and message exchange patterns.\n",
    "Transport Independence: SOAP can operate over various transport protocols like HTTP, SMTP, TCP, and more.\n",
    "Disadvantages of SOAP:\n",
    "\n",
    "Complexity: SOAP is more complex compared to REST, with a steeper learning curve and more overhead due to its rigid standards.\n",
    "Performance: SOAP messages are larger because they are XML-based, which can lead to slower performance, especially in low-bandwidth environments.\n",
    "Tight Coupling: SOAP-based web services are often tightly coupled, making them less flexible to changes compared to RESTful services.\n",
    "Limited Browser Support: Unlike REST, SOAP is not as easily consumed by web browsers directly due to its reliance on XML and complex structure."
   ]
  },
  {
   "cell_type": "code",
   "execution_count": null,
   "id": "976ecc8a-3318-4cfe-b749-999540676490",
   "metadata": {},
   "outputs": [],
   "source": []
  },
  {
   "cell_type": "markdown",
   "id": "f0dba07d-35d4-4847-9bd2-a424ca6c769a",
   "metadata": {},
   "source": [
    "Question 35: How does SOAP ensure security in web service communication?"
   ]
  },
  {
   "cell_type": "code",
   "execution_count": 109,
   "id": "377c256e-6b6d-4eea-b5ce-03fe01a21ff1",
   "metadata": {},
   "outputs": [],
   "source": [
    "#Answer"
   ]
  },
  {
   "cell_type": "markdown",
   "id": "12442775-50f1-4cda-b6c3-a7b66a2bbd36",
   "metadata": {},
   "source": [
    "SOAP ensures security primarily through the use of WS-Security standards, which provide several mechanisms:\n",
    "\n",
    "Message Integrity: Ensures that the message has not been altered in transit by using digital signatures.\n",
    "Message Confidentiality: Encrypts the message or parts of the message to ensure that only authorized parties can read the content.\n",
    "Authentication: Verifies the identity of the sender through tokens, such as UsernameToken or X.509 certificates, included in the SOAP header.\n",
    "Timestamping: Adds a timestamp to the message to prevent replay attacks, ensuring that a message is valid only for a certain period.\n",
    "Security Policies: SOAP allows the definition of security policies that dictate how messages should be secured, ensuring that both the client and server follow the same security protocols."
   ]
  },
  {
   "cell_type": "code",
   "execution_count": null,
   "id": "4601cb94-38fe-4899-92ba-a681fff5a295",
   "metadata": {},
   "outputs": [],
   "source": []
  },
  {
   "cell_type": "markdown",
   "id": "19e57c4f-4bc2-46a9-b108-9c965e1a4145",
   "metadata": {},
   "source": [
    "Question 36: What is Flask, and what makes it different from other web frameworks?"
   ]
  },
  {
   "cell_type": "code",
   "execution_count": 111,
   "id": "53318a1e-7e74-4a45-88dc-6b4452494242",
   "metadata": {},
   "outputs": [],
   "source": [
    "#Answer"
   ]
  },
  {
   "cell_type": "markdown",
   "id": "a6384401-bca0-4b53-a696-3df5360ed614",
   "metadata": {},
   "source": [
    "Flask is a micro web framework for Python, designed to be lightweight and easy to use. It provides the essential tools to build web applications without enforcing specific project structures or dependencies. Flask is known for its simplicity, flexibility, and ease of use.\n",
    "\n",
    "Key Features of Flask:\n",
    "\n",
    "Lightweight and Modular: Flask is minimalistic, allowing developers to choose and configure components as needed. It does not include form validation, database abstraction, or other components by default.\n",
    "WSGI Compliance: Flask is WSGI-compliant, meaning it can interact with other WSGI-based applications and servers, making it versatile for web development.\n",
    "Jinja2 Templating: Flask integrates Jinja2, a powerful templating engine that allows you to create dynamic HTML pages.\n",
    "Blueprints for Modular Applications: Flask supports blueprints, which enable you to organize your application into modules, making it easier to develop large applications.\n",
    "Flexibility: Flask gives you full control over the application structure and allows you to use any database or ORM you prefer.\n",
    "Extension Support: Flask has a rich ecosystem of extensions that provide additional functionality, such as authentication, database integration, and more.\n",
    "Differences from Other Web Frameworks:\n",
    "\n",
    "Django: Django is a full-stack web framework that comes with many built-in features like an ORM, authentication, and admin panel. Flask, in contrast, is minimalistic and lets developers choose their tools, providing more flexibility but requiring more setup for larger projects.\n",
    "FastAPI: FastAPI is a modern web framework for building APIs with Python 3.6+ based on standard Python type hints. While FastAPI emphasizes speed and data validation through type hints, Flask is more general-purpose and less opinionated, offering more flexibility but without the built-in performance optimizations.\n",
    "Pyramid: Pyramid is a flexible web framework that scales well from small to large applications. While Pyramid offers more configuration options and flexibility for large applications, Flask remains more beginner-friendly and easier to set up for small to medium-sized projects."
   ]
  },
  {
   "cell_type": "code",
   "execution_count": 29,
   "id": "59f43251-d336-4a48-8950-fc9b80e811f5",
   "metadata": {},
   "outputs": [
    {
     "name": "stdout",
     "output_type": "stream",
     "text": [
      " * Serving Flask app '__main__'\n",
      " * Debug mode: on\n"
     ]
    },
    {
     "name": "stderr",
     "output_type": "stream",
     "text": [
      "WARNING: This is a development server. Do not use it in a production deployment. Use a production WSGI server instead.\n",
      " * Running on http://127.0.0.1:5000\n",
      "Press CTRL+C to quit\n",
      " * Restarting with watchdog (fsevents)\n",
      "0.00s - Debugger warning: It seems that frozen modules are being used, which may\n",
      "0.00s - make the debugger miss breakpoints. Please pass -Xfrozen_modules=off\n",
      "0.00s - to python to disable frozen modules.\n",
      "0.00s - Note: Debugging will proceed. Set PYDEVD_DISABLE_FILE_VALIDATION=1 to disable this validation.\n",
      "Traceback (most recent call last):\n",
      "  File \"<frozen runpy>\", line 198, in _run_module_as_main\n",
      "  File \"<frozen runpy>\", line 88, in _run_code\n",
      "  File \"/opt/anaconda3/lib/python3.12/site-packages/ipykernel_launcher.py\", line 17, in <module>\n",
      "    app.launch_new_instance()\n",
      "  File \"/opt/anaconda3/lib/python3.12/site-packages/traitlets/config/application.py\", line 1074, in launch_instance\n",
      "    app.initialize(argv)\n",
      "  File \"/opt/anaconda3/lib/python3.12/site-packages/traitlets/config/application.py\", line 118, in inner\n",
      "    return method(app, *args, **kwargs)\n",
      "           ^^^^^^^^^^^^^^^^^^^^^^^^^^^^\n",
      "  File \"/opt/anaconda3/lib/python3.12/site-packages/ipykernel/kernelapp.py\", line 654, in initialize\n",
      "    self.init_sockets()\n",
      "  File \"/opt/anaconda3/lib/python3.12/site-packages/ipykernel/kernelapp.py\", line 331, in init_sockets\n",
      "    self.shell_port = self._bind_socket(self.shell_socket, self.shell_port)\n",
      "                      ^^^^^^^^^^^^^^^^^^^^^^^^^^^^^^^^^^^^^^^^^^^^^^^^^^^^^\n",
      "  File \"/opt/anaconda3/lib/python3.12/site-packages/ipykernel/kernelapp.py\", line 253, in _bind_socket\n",
      "    return self._try_bind_socket(s, port)\n",
      "           ^^^^^^^^^^^^^^^^^^^^^^^^^^^^^^\n",
      "  File \"/opt/anaconda3/lib/python3.12/site-packages/ipykernel/kernelapp.py\", line 229, in _try_bind_socket\n",
      "    s.bind(\"tcp://%s:%i\" % (self.ip, port))\n",
      "  File \"/opt/anaconda3/lib/python3.12/site-packages/zmq/sugar/socket.py\", line 302, in bind\n",
      "    super().bind(addr)\n",
      "  File \"zmq/backend/cython/socket.pyx\", line 564, in zmq.backend.cython.socket.Socket.bind\n",
      "  File \"zmq/backend/cython/checkrc.pxd\", line 28, in zmq.backend.cython.checkrc._check_rc\n",
      "zmq.error.ZMQError: Address already in use (addr='tcp://127.0.0.1:58315')\n"
     ]
    },
    {
     "ename": "SystemExit",
     "evalue": "1",
     "output_type": "error",
     "traceback": [
      "An exception has occurred, use %tb to see the full traceback.\n",
      "\u001b[0;31mSystemExit\u001b[0m\u001b[0;31m:\u001b[0m 1\n"
     ]
    }
   ],
   "source": [
    "from flask import Flask, jsonify\n",
    "\n",
    "app = Flask(__name__)\n",
    "\n",
    "@app.route('/')\n",
    "def home():\n",
    "    return jsonify({\"message\": \"Welcome to Flask!\"})\n",
    "\n",
    "if __name__ == '__main__':\n",
    "    app.run(debug=True)\n"
   ]
  },
  {
   "cell_type": "code",
   "execution_count": null,
   "id": "0dfe69f4-a371-4854-ab79-adee7996a6b5",
   "metadata": {},
   "outputs": [],
   "source": []
  },
  {
   "cell_type": "markdown",
   "id": "16f2a77c-b3f9-48bf-bfa1-a1f7269701d3",
   "metadata": {},
   "source": [
    "Question 37: Describe the basic structure of a Flask application."
   ]
  },
  {
   "cell_type": "code",
   "execution_count": 113,
   "id": "23642ad9-d6fa-4c00-bf94-0f8c036e0b5c",
   "metadata": {},
   "outputs": [],
   "source": [
    "#Answer"
   ]
  },
  {
   "cell_type": "markdown",
   "id": "b4c3e6e9-0d89-477d-b4df-1afadda74180",
   "metadata": {},
   "source": [
    "A basic Flask application typically includes the following components:\n",
    "\n",
    "Project Directory:\n",
    "\n",
    "The top-level directory where your Flask application resides. It often contains subdirectories for templates, static files, and other resources.\n",
    "Application Script (app.py or main.py):\n",
    "\n",
    "This is the main Python script that defines the Flask application. It sets up routes, handles requests, and runs the server."
   ]
  },
  {
   "cell_type": "code",
   "execution_count": 35,
   "id": "bffc7c8a-a06a-4632-9a0a-1b1c808451d0",
   "metadata": {},
   "outputs": [
    {
     "name": "stdout",
     "output_type": "stream",
     "text": [
      " * Serving Flask app '__main__'\n",
      " * Debug mode: on\n"
     ]
    },
    {
     "name": "stderr",
     "output_type": "stream",
     "text": [
      "WARNING: This is a development server. Do not use it in a production deployment. Use a production WSGI server instead.\n",
      " * Running on http://127.0.0.1:5000\n",
      "Press CTRL+C to quit\n",
      " * Restarting with watchdog (fsevents)\n",
      "0.00s - Debugger warning: It seems that frozen modules are being used, which may\n",
      "0.00s - make the debugger miss breakpoints. Please pass -Xfrozen_modules=off\n",
      "0.00s - to python to disable frozen modules.\n",
      "0.00s - Note: Debugging will proceed. Set PYDEVD_DISABLE_FILE_VALIDATION=1 to disable this validation.\n",
      "Traceback (most recent call last):\n",
      "  File \"<frozen runpy>\", line 198, in _run_module_as_main\n",
      "  File \"<frozen runpy>\", line 88, in _run_code\n",
      "  File \"/opt/anaconda3/lib/python3.12/site-packages/ipykernel_launcher.py\", line 17, in <module>\n",
      "    app.launch_new_instance()\n",
      "  File \"/opt/anaconda3/lib/python3.12/site-packages/traitlets/config/application.py\", line 1074, in launch_instance\n",
      "    app.initialize(argv)\n",
      "  File \"/opt/anaconda3/lib/python3.12/site-packages/traitlets/config/application.py\", line 118, in inner\n",
      "    return method(app, *args, **kwargs)\n",
      "           ^^^^^^^^^^^^^^^^^^^^^^^^^^^^\n",
      "  File \"/opt/anaconda3/lib/python3.12/site-packages/ipykernel/kernelapp.py\", line 654, in initialize\n",
      "    self.init_sockets()\n",
      "  File \"/opt/anaconda3/lib/python3.12/site-packages/ipykernel/kernelapp.py\", line 331, in init_sockets\n",
      "    self.shell_port = self._bind_socket(self.shell_socket, self.shell_port)\n",
      "                      ^^^^^^^^^^^^^^^^^^^^^^^^^^^^^^^^^^^^^^^^^^^^^^^^^^^^^\n",
      "  File \"/opt/anaconda3/lib/python3.12/site-packages/ipykernel/kernelapp.py\", line 253, in _bind_socket\n",
      "    return self._try_bind_socket(s, port)\n",
      "           ^^^^^^^^^^^^^^^^^^^^^^^^^^^^^^\n",
      "  File \"/opt/anaconda3/lib/python3.12/site-packages/ipykernel/kernelapp.py\", line 229, in _try_bind_socket\n",
      "    s.bind(\"tcp://%s:%i\" % (self.ip, port))\n",
      "  File \"/opt/anaconda3/lib/python3.12/site-packages/zmq/sugar/socket.py\", line 302, in bind\n",
      "    super().bind(addr)\n",
      "  File \"zmq/backend/cython/socket.pyx\", line 564, in zmq.backend.cython.socket.Socket.bind\n",
      "  File \"zmq/backend/cython/checkrc.pxd\", line 28, in zmq.backend.cython.checkrc._check_rc\n",
      "zmq.error.ZMQError: Address already in use (addr='tcp://127.0.0.1:58315')\n"
     ]
    },
    {
     "ename": "SystemExit",
     "evalue": "1",
     "output_type": "error",
     "traceback": [
      "An exception has occurred, use %tb to see the full traceback.\n",
      "\u001b[0;31mSystemExit\u001b[0m\u001b[0;31m:\u001b[0m 1\n"
     ]
    }
   ],
   "source": [
    "from flask import Flask, render_template\n",
    "\n",
    "app = Flask(__name__)\n",
    "\n",
    "@app.route('/')\n",
    "def home():\n",
    "    return render_template('index.html')\n",
    "\n",
    "if __name__ == '__main__':\n",
    "    app.run(debug=True)\n"
   ]
  },
  {
   "cell_type": "markdown",
   "id": "09aca240-b1dd-4eee-b877-9efa3500ec89",
   "metadata": {},
   "source": [
    "Templates Directory (templates/):\n",
    "\n",
    "This directory contains HTML templates for rendering views. Flask uses Jinja2 templating by default.\n"
   ]
  },
  {
   "cell_type": "raw",
   "id": "6fcd0232-5d17-488b-9acd-1b6bbecbfbe3",
   "metadata": {},
   "source": [
    "/templates\n",
    "    └── index.html\n"
   ]
  },
  {
   "cell_type": "markdown",
   "id": "b971725c-1586-4c3d-a9dd-06ff0a16fd4e",
   "metadata": {},
   "source": [
    "Static Directory (static/):\n",
    "\n",
    "This directory holds static files like CSS, JavaScript, and images.\n"
   ]
  },
  {
   "cell_type": "raw",
   "id": "32e3eb6f-4b45-42ba-b4fc-a7745e115c98",
   "metadata": {},
   "source": [
    "/static\n",
    "    └── style.css\n"
   ]
  },
  {
   "cell_type": "markdown",
   "id": "0cb15441-c643-49fd-83e6-e5f2fd0d8de1",
   "metadata": {},
   "source": [
    "Configuration File (Optional):\n",
    "\n",
    "A separate configuration file (like config.py) can be used to manage environment-specific settings."
   ]
  },
  {
   "cell_type": "raw",
   "id": "c33ccef7-3c60-4349-aeb0-c949ee1b9acd",
   "metadata": {},
   "source": [
    "class Config:\n",
    "    DEBUG = True\n",
    "    SECRET_KEY = 'your_secret_key'\n"
   ]
  },
  {
   "cell_type": "code",
   "execution_count": null,
   "id": "509c3c57-024c-4790-b378-8bc1d661bf5a",
   "metadata": {},
   "outputs": [],
   "source": []
  },
  {
   "cell_type": "markdown",
   "id": "e156753b-e5b8-4112-afbe-c7c222b21dc1",
   "metadata": {},
   "source": [
    "Question 38: How do you install Flask on your local machine?"
   ]
  },
  {
   "cell_type": "code",
   "execution_count": 115,
   "id": "2547f59b-b568-4f93-8af4-bd5bb00ce6f0",
   "metadata": {},
   "outputs": [],
   "source": [
    "#Answer"
   ]
  },
  {
   "cell_type": "markdown",
   "id": "3a5cdaaa-4ec7-43bb-a39a-0e17ff29cc76",
   "metadata": {},
   "source": [
    "To install Flask on your local machine, follow these steps:\n",
    "\n",
    "Set Up a Python Environment:\n",
    "\n",
    "It’s recommended to create a virtual environment to manage dependencies separately from the global Python environment."
   ]
  },
  {
   "cell_type": "raw",
   "id": "7f4ed028-2cce-447f-9c31-3125e09d54b1",
   "metadata": {},
   "source": [
    "python3 -m venv venv\n"
   ]
  },
  {
   "cell_type": "markdown",
   "id": "3c9115ec-97d2-4347-ae97-bce747594d93",
   "metadata": {},
   "source": [
    "Activate the virtual environment:\n",
    "On Windows:"
   ]
  },
  {
   "cell_type": "raw",
   "id": "ee444f19-5e32-42c2-86f8-bf149ed187cc",
   "metadata": {},
   "source": [
    "venv\\Scripts\\activate\n"
   ]
  },
  {
   "cell_type": "markdown",
   "id": "cfb48302-3734-48ff-b7c4-cdade96bb578",
   "metadata": {},
   "source": [
    "On macOS/Linux:"
   ]
  },
  {
   "cell_type": "raw",
   "id": "5a93e397-c729-4e16-84fb-e3a1f4b6f5de",
   "metadata": {},
   "source": [
    "source venv/bin/activate\n"
   ]
  },
  {
   "cell_type": "markdown",
   "id": "6cac3ddb-b0c0-4237-bd31-321a4eff4e9f",
   "metadata": {},
   "source": [
    "Install Flask:\n",
    "\n",
    "Once your virtual environment is activated, install Flask using pip:"
   ]
  },
  {
   "cell_type": "raw",
   "id": "80ad10ce-abf1-4b44-b84c-818fdf0e13b6",
   "metadata": {},
   "source": [
    "pip install Flask\n"
   ]
  },
  {
   "cell_type": "markdown",
   "id": "45b8f75c-d173-42ca-b544-10fe9df5fe25",
   "metadata": {},
   "source": [
    "Verify the installation by checking the Flask version:\n"
   ]
  },
  {
   "cell_type": "raw",
   "id": "654f8291-86df-43b0-8d4b-ca1aa1527cfa",
   "metadata": {},
   "source": [
    "flask --version\n"
   ]
  },
  {
   "cell_type": "markdown",
   "id": "bf30178b-0ca6-402d-b9d7-b74d36fd7e1f",
   "metadata": {},
   "source": [
    "Create a Flask Application:\n",
    "\n",
    "Create a Python file, for example, app.py, with a simple Flask application:"
   ]
  },
  {
   "cell_type": "code",
   "execution_count": 47,
   "id": "beee4e54-1f21-431c-b254-82255fc7bf55",
   "metadata": {},
   "outputs": [
    {
     "name": "stdout",
     "output_type": "stream",
     "text": [
      " * Serving Flask app '__main__'\n",
      " * Debug mode: on\n"
     ]
    },
    {
     "name": "stderr",
     "output_type": "stream",
     "text": [
      "WARNING: This is a development server. Do not use it in a production deployment. Use a production WSGI server instead.\n",
      " * Running on http://127.0.0.1:5000\n",
      "Press CTRL+C to quit\n",
      " * Restarting with watchdog (fsevents)\n",
      "0.00s - Debugger warning: It seems that frozen modules are being used, which may\n",
      "0.00s - make the debugger miss breakpoints. Please pass -Xfrozen_modules=off\n",
      "0.00s - to python to disable frozen modules.\n",
      "0.00s - Note: Debugging will proceed. Set PYDEVD_DISABLE_FILE_VALIDATION=1 to disable this validation.\n",
      "Traceback (most recent call last):\n",
      "  File \"<frozen runpy>\", line 198, in _run_module_as_main\n",
      "  File \"<frozen runpy>\", line 88, in _run_code\n",
      "  File \"/opt/anaconda3/lib/python3.12/site-packages/ipykernel_launcher.py\", line 17, in <module>\n",
      "    app.launch_new_instance()\n",
      "  File \"/opt/anaconda3/lib/python3.12/site-packages/traitlets/config/application.py\", line 1074, in launch_instance\n",
      "    app.initialize(argv)\n",
      "  File \"/opt/anaconda3/lib/python3.12/site-packages/traitlets/config/application.py\", line 118, in inner\n",
      "    return method(app, *args, **kwargs)\n",
      "           ^^^^^^^^^^^^^^^^^^^^^^^^^^^^\n",
      "  File \"/opt/anaconda3/lib/python3.12/site-packages/ipykernel/kernelapp.py\", line 654, in initialize\n",
      "    self.init_sockets()\n",
      "  File \"/opt/anaconda3/lib/python3.12/site-packages/ipykernel/kernelapp.py\", line 331, in init_sockets\n",
      "    self.shell_port = self._bind_socket(self.shell_socket, self.shell_port)\n",
      "                      ^^^^^^^^^^^^^^^^^^^^^^^^^^^^^^^^^^^^^^^^^^^^^^^^^^^^^\n",
      "  File \"/opt/anaconda3/lib/python3.12/site-packages/ipykernel/kernelapp.py\", line 253, in _bind_socket\n",
      "    return self._try_bind_socket(s, port)\n",
      "           ^^^^^^^^^^^^^^^^^^^^^^^^^^^^^^\n",
      "  File \"/opt/anaconda3/lib/python3.12/site-packages/ipykernel/kernelapp.py\", line 229, in _try_bind_socket\n",
      "    s.bind(\"tcp://%s:%i\" % (self.ip, port))\n",
      "  File \"/opt/anaconda3/lib/python3.12/site-packages/zmq/sugar/socket.py\", line 302, in bind\n",
      "    super().bind(addr)\n",
      "  File \"zmq/backend/cython/socket.pyx\", line 564, in zmq.backend.cython.socket.Socket.bind\n",
      "  File \"zmq/backend/cython/checkrc.pxd\", line 28, in zmq.backend.cython.checkrc._check_rc\n",
      "zmq.error.ZMQError: Address already in use (addr='tcp://127.0.0.1:58315')\n"
     ]
    },
    {
     "ename": "SystemExit",
     "evalue": "1",
     "output_type": "error",
     "traceback": [
      "An exception has occurred, use %tb to see the full traceback.\n",
      "\u001b[0;31mSystemExit\u001b[0m\u001b[0;31m:\u001b[0m 1\n"
     ]
    }
   ],
   "source": [
    "from flask import Flask\n",
    "\n",
    "app = Flask(__name__)\n",
    "\n",
    "@app.route('/')\n",
    "def home():\n",
    "    return \"Hello, Flask!\"\n",
    "\n",
    "if __name__ == '__main__':\n",
    "    app.run(debug=True)\n"
   ]
  },
  {
   "cell_type": "markdown",
   "id": "8aebdf3f-36d9-42a3-9128-7522cfc98aaa",
   "metadata": {},
   "source": [
    "Run the Flask Application:\n",
    "\n",
    "Start the Flask development server by running:"
   ]
  },
  {
   "cell_type": "raw",
   "id": "f098fad4-4e06-4111-8b38-1fadc075b3bd",
   "metadata": {},
   "source": [
    "python app.py\n"
   ]
  },
  {
   "cell_type": "raw",
   "id": "c85e74c2-41f0-4de2-9ee4-4af1abeb67d2",
   "metadata": {},
   "source": [
    "The server will be accessible at http://127.0.0.1:5000/.\n"
   ]
  },
  {
   "cell_type": "code",
   "execution_count": null,
   "id": "f49a1777-ee03-4c14-a263-0fc6b8dda7f0",
   "metadata": {},
   "outputs": [],
   "source": []
  },
  {
   "cell_type": "markdown",
   "id": "202abc1a-1640-4525-936d-861e83d337e6",
   "metadata": {},
   "source": [
    "Question 39: Explain the concept of routing in Flask."
   ]
  },
  {
   "cell_type": "code",
   "execution_count": 117,
   "id": "ff90896f-e1f1-43bd-ad54-0251575969a2",
   "metadata": {},
   "outputs": [],
   "source": [
    "#Answer"
   ]
  },
  {
   "cell_type": "markdown",
   "id": "35a04b6d-7647-4b03-910b-db2e6706ec51",
   "metadata": {},
   "source": [
    "Routing in Flask refers to the process of mapping URLs to specific functions in your application. When a user accesses a particular URL, Flask determines which function should handle the request based on the route defined.\n",
    "\n",
    "Each route in Flask is associated with a view function that handles the logic for that specific URL. Routes are defined using the @app.route() decorator, which specifies the URL pattern and the HTTP methods allowed (e.g., GET, POST)."
   ]
  },
  {
   "cell_type": "code",
   "execution_count": 50,
   "id": "c4f6687d-98fa-4e38-99c4-33b98a44ca37",
   "metadata": {},
   "outputs": [
    {
     "name": "stdout",
     "output_type": "stream",
     "text": [
      " * Serving Flask app '__main__'\n",
      " * Debug mode: on\n"
     ]
    },
    {
     "name": "stderr",
     "output_type": "stream",
     "text": [
      "WARNING: This is a development server. Do not use it in a production deployment. Use a production WSGI server instead.\n",
      " * Running on http://127.0.0.1:5000\n",
      "Press CTRL+C to quit\n",
      " * Restarting with watchdog (fsevents)\n",
      "0.00s - Debugger warning: It seems that frozen modules are being used, which may\n",
      "0.00s - make the debugger miss breakpoints. Please pass -Xfrozen_modules=off\n",
      "0.00s - to python to disable frozen modules.\n",
      "0.00s - Note: Debugging will proceed. Set PYDEVD_DISABLE_FILE_VALIDATION=1 to disable this validation.\n",
      "Traceback (most recent call last):\n",
      "  File \"<frozen runpy>\", line 198, in _run_module_as_main\n",
      "  File \"<frozen runpy>\", line 88, in _run_code\n",
      "  File \"/opt/anaconda3/lib/python3.12/site-packages/ipykernel_launcher.py\", line 17, in <module>\n",
      "    app.launch_new_instance()\n",
      "  File \"/opt/anaconda3/lib/python3.12/site-packages/traitlets/config/application.py\", line 1074, in launch_instance\n",
      "    app.initialize(argv)\n",
      "  File \"/opt/anaconda3/lib/python3.12/site-packages/traitlets/config/application.py\", line 118, in inner\n",
      "    return method(app, *args, **kwargs)\n",
      "           ^^^^^^^^^^^^^^^^^^^^^^^^^^^^\n",
      "  File \"/opt/anaconda3/lib/python3.12/site-packages/ipykernel/kernelapp.py\", line 654, in initialize\n",
      "    self.init_sockets()\n",
      "  File \"/opt/anaconda3/lib/python3.12/site-packages/ipykernel/kernelapp.py\", line 331, in init_sockets\n",
      "    self.shell_port = self._bind_socket(self.shell_socket, self.shell_port)\n",
      "                      ^^^^^^^^^^^^^^^^^^^^^^^^^^^^^^^^^^^^^^^^^^^^^^^^^^^^^\n",
      "  File \"/opt/anaconda3/lib/python3.12/site-packages/ipykernel/kernelapp.py\", line 253, in _bind_socket\n",
      "    return self._try_bind_socket(s, port)\n",
      "           ^^^^^^^^^^^^^^^^^^^^^^^^^^^^^^\n",
      "  File \"/opt/anaconda3/lib/python3.12/site-packages/ipykernel/kernelapp.py\", line 229, in _try_bind_socket\n",
      "    s.bind(\"tcp://%s:%i\" % (self.ip, port))\n",
      "  File \"/opt/anaconda3/lib/python3.12/site-packages/zmq/sugar/socket.py\", line 302, in bind\n",
      "    super().bind(addr)\n",
      "  File \"zmq/backend/cython/socket.pyx\", line 564, in zmq.backend.cython.socket.Socket.bind\n",
      "  File \"zmq/backend/cython/checkrc.pxd\", line 28, in zmq.backend.cython.checkrc._check_rc\n",
      "zmq.error.ZMQError: Address already in use (addr='tcp://127.0.0.1:58315')\n"
     ]
    },
    {
     "ename": "SystemExit",
     "evalue": "1",
     "output_type": "error",
     "traceback": [
      "An exception has occurred, use %tb to see the full traceback.\n",
      "\u001b[0;31mSystemExit\u001b[0m\u001b[0;31m:\u001b[0m 1\n"
     ]
    }
   ],
   "source": [
    "from flask import Flask\n",
    "\n",
    "app = Flask(__name__)\n",
    "\n",
    "# Route for the home page\n",
    "@app.route('/')\n",
    "def home():\n",
    "    return \"Welcome to the Home Page!\"\n",
    "\n",
    "# Route for the about page\n",
    "@app.route('/about')\n",
    "def about():\n",
    "    return \"This is the About Page.\"\n",
    "\n",
    "# Route with a dynamic segment (e.g., user profile)\n",
    "@app.route('/user/<username>')\n",
    "def show_user_profile(username):\n",
    "    return f\"User Profile: {username}\"\n",
    "\n",
    "if __name__ == '__main__':\n",
    "    app.run(debug=True)\n"
   ]
  },
  {
   "cell_type": "markdown",
   "id": "8110a287-19aa-44dd-99e0-21b8aa02e877",
   "metadata": {},
   "source": [
    "The home function is mapped to the root URL (/), so when a user visits the home page, the \"Welcome to the Home Page!\" message is displayed.\n",
    "The about function is mapped to /about, displaying the \"This is the About Page.\" message.\n",
    "The show_user_profile function demonstrates a route with a dynamic segment (<username>). If the user visits /user/JohnDoe, the response will be \"User Profile: JohnDoe.\"\n",
    "Key Points About Routing in Flask:\n",
    "\n",
    "Dynamic Routing: Flask allows for dynamic routing, where parts of the URL can be variable and passed to the view function as arguments.\n",
    "HTTP Methods: You can specify the HTTP methods (GET, POST, etc.) that a route should respond to by using the methods parameter in the @app.route() decorator.\n",
    "URL Variables: Variables in the URL are enclosed in angle brackets (< >) and can be used in the view function."
   ]
  },
  {
   "cell_type": "code",
   "execution_count": null,
   "id": "23bacab5-cc6c-46ce-90e7-cfb84b346b23",
   "metadata": {},
   "outputs": [],
   "source": []
  },
  {
   "cell_type": "markdown",
   "id": "dd75c8b2-c7b7-4011-a69d-03e73d03392c",
   "metadata": {},
   "source": [
    "Question 40: What are Flask templates, and how are they used in web development?"
   ]
  },
  {
   "cell_type": "code",
   "execution_count": 119,
   "id": "bc053f37-92f6-4b53-b096-6ad0cc8dfa70",
   "metadata": {},
   "outputs": [],
   "source": [
    "#Answer"
   ]
  },
  {
   "cell_type": "markdown",
   "id": "0fd3a53f-003e-4dc6-b716-b33a7216c4dd",
   "metadata": {},
   "source": [
    "Flask templates are HTML files that are rendered by the Flask application to generate dynamic web pages. Flask uses the Jinja2 templating engine to create these templates, allowing you to embed Python-like expressions directly in HTML.\n",
    "\n",
    "Templates enable you to separate the presentation layer (HTML) from the business logic (Python code), making it easier to manage and maintain your web application.\n",
    "\n",
    "Basic Structure of a Flask Template:\n",
    "\n",
    "Templates are usually stored in the templates/ directory of your project.\n",
    "A typical template contains HTML and special Jinja2 syntax for dynamic content."
   ]
  },
  {
   "cell_type": "raw",
   "id": "dfb632af-675e-4b6b-9c0f-f071b0396b6c",
   "metadata": {},
   "source": [
    "<!DOCTYPE html>\n",
    "<html lang=\"en\">\n",
    "<head>\n",
    "    <meta charset=\"UTF-8\">\n",
    "    <meta name=\"viewport\" content=\"width=device-width, initial-scale=1.0\">\n",
    "    <title>{{ title }}</title>\n",
    "</head>\n",
    "<body>\n",
    "    <h1>{{ heading }}</h1>\n",
    "    <p>{{ content }}</p>\n",
    "</body>\n",
    "</html>\n"
   ]
  },
  {
   "cell_type": "markdown",
   "id": "6a48d361-0a18-4241-965f-3e926dd6f5c8",
   "metadata": {},
   "source": [
    "Render the Template in Flask (app.py):"
   ]
  },
  {
   "cell_type": "code",
   "execution_count": 57,
   "id": "08296431-85e9-4445-90d1-c5cfaa08d5df",
   "metadata": {},
   "outputs": [
    {
     "name": "stdout",
     "output_type": "stream",
     "text": [
      " * Serving Flask app '__main__'\n",
      " * Debug mode: on\n"
     ]
    },
    {
     "name": "stderr",
     "output_type": "stream",
     "text": [
      "WARNING: This is a development server. Do not use it in a production deployment. Use a production WSGI server instead.\n",
      " * Running on http://127.0.0.1:5000\n",
      "Press CTRL+C to quit\n",
      " * Restarting with watchdog (fsevents)\n",
      "0.00s - Debugger warning: It seems that frozen modules are being used, which may\n",
      "0.00s - make the debugger miss breakpoints. Please pass -Xfrozen_modules=off\n",
      "0.00s - to python to disable frozen modules.\n",
      "0.00s - Note: Debugging will proceed. Set PYDEVD_DISABLE_FILE_VALIDATION=1 to disable this validation.\n",
      "Traceback (most recent call last):\n",
      "  File \"<frozen runpy>\", line 198, in _run_module_as_main\n",
      "  File \"<frozen runpy>\", line 88, in _run_code\n",
      "  File \"/opt/anaconda3/lib/python3.12/site-packages/ipykernel_launcher.py\", line 17, in <module>\n",
      "    app.launch_new_instance()\n",
      "  File \"/opt/anaconda3/lib/python3.12/site-packages/traitlets/config/application.py\", line 1074, in launch_instance\n",
      "    app.initialize(argv)\n",
      "  File \"/opt/anaconda3/lib/python3.12/site-packages/traitlets/config/application.py\", line 118, in inner\n",
      "    return method(app, *args, **kwargs)\n",
      "           ^^^^^^^^^^^^^^^^^^^^^^^^^^^^\n",
      "  File \"/opt/anaconda3/lib/python3.12/site-packages/ipykernel/kernelapp.py\", line 654, in initialize\n",
      "    self.init_sockets()\n",
      "  File \"/opt/anaconda3/lib/python3.12/site-packages/ipykernel/kernelapp.py\", line 331, in init_sockets\n",
      "    self.shell_port = self._bind_socket(self.shell_socket, self.shell_port)\n",
      "                      ^^^^^^^^^^^^^^^^^^^^^^^^^^^^^^^^^^^^^^^^^^^^^^^^^^^^^\n",
      "  File \"/opt/anaconda3/lib/python3.12/site-packages/ipykernel/kernelapp.py\", line 253, in _bind_socket\n",
      "    return self._try_bind_socket(s, port)\n",
      "           ^^^^^^^^^^^^^^^^^^^^^^^^^^^^^^\n",
      "  File \"/opt/anaconda3/lib/python3.12/site-packages/ipykernel/kernelapp.py\", line 229, in _try_bind_socket\n",
      "    s.bind(\"tcp://%s:%i\" % (self.ip, port))\n",
      "  File \"/opt/anaconda3/lib/python3.12/site-packages/zmq/sugar/socket.py\", line 302, in bind\n",
      "    super().bind(addr)\n",
      "  File \"zmq/backend/cython/socket.pyx\", line 564, in zmq.backend.cython.socket.Socket.bind\n",
      "  File \"zmq/backend/cython/checkrc.pxd\", line 28, in zmq.backend.cython.checkrc._check_rc\n",
      "zmq.error.ZMQError: Address already in use (addr='tcp://127.0.0.1:58315')\n"
     ]
    },
    {
     "ename": "SystemExit",
     "evalue": "1",
     "output_type": "error",
     "traceback": [
      "An exception has occurred, use %tb to see the full traceback.\n",
      "\u001b[0;31mSystemExit\u001b[0m\u001b[0;31m:\u001b[0m 1\n"
     ]
    }
   ],
   "source": [
    "from flask import Flask, render_template\n",
    "\n",
    "app = Flask(__name__)\n",
    "\n",
    "@app.route('/')\n",
    "def home():\n",
    "    return render_template('index.html', title=\"Home Page\", heading=\"Welcome to Flask\", content=\"This is a simple Flask app.\")\n",
    "\n",
    "if __name__ == '__main__':\n",
    "    app.run(debug=True)\n"
   ]
  },
  {
   "cell_type": "raw",
   "id": "53a433c2-bc76-45d4-ab13-b89e01b7c542",
   "metadata": {},
   "source": [
    "The render_template() function renders the index.html template and passes the variables title, heading, and content to be replaced in the template.\n",
    "Run the Application:\n",
    "\n",
    "When the user visits the root URL (/), Flask will render the index.html template and display the dynamic content.\n",
    "Key Points About Flask Templates:\n",
    "\n",
    "Jinja2 Syntax: Flask templates use the Jinja2 syntax, which includes expressions ({{ }}) for outputting variables and control structures ({% %}) for loops, conditionals, etc.\n",
    "Template Inheritance: Flask supports template inheritance, allowing you to create a base template (e.g., for a consistent layout) and extend it in other templates.\n",
    "Separation of Concerns: Templates help maintain a clear separation between the presentation (HTML/CSS) and the business logic (Python), making the application easier to manage."
   ]
  }
 ],
 "metadata": {
  "kernelspec": {
   "display_name": "Python 3 (ipykernel)",
   "language": "python",
   "name": "python3"
  },
  "language_info": {
   "codemirror_mode": {
    "name": "ipython",
    "version": 3
   },
   "file_extension": ".py",
   "mimetype": "text/x-python",
   "name": "python",
   "nbconvert_exporter": "python",
   "pygments_lexer": "ipython3",
   "version": "3.12.4"
  }
 },
 "nbformat": 4,
 "nbformat_minor": 5
}
